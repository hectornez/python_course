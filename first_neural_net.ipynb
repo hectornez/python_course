{
 "cells": [
  {
   "cell_type": "code",
   "execution_count": 1,
   "id": "b701d8d8",
   "metadata": {},
   "outputs": [],
   "source": [
    "import pandas as pd\n",
    "import numpy as np\n",
    "import seaborn as sns"
   ]
  },
  {
   "cell_type": "code",
   "execution_count": 2,
   "id": "3fcca797",
   "metadata": {},
   "outputs": [],
   "source": [
    "df = pd.read_csv('DATA/fake_reg.csv')"
   ]
  },
  {
   "cell_type": "code",
   "execution_count": 3,
   "id": "f820e0f3",
   "metadata": {},
   "outputs": [
    {
     "data": {
      "text/html": [
       "<div>\n",
       "<style scoped>\n",
       "    .dataframe tbody tr th:only-of-type {\n",
       "        vertical-align: middle;\n",
       "    }\n",
       "\n",
       "    .dataframe tbody tr th {\n",
       "        vertical-align: top;\n",
       "    }\n",
       "\n",
       "    .dataframe thead th {\n",
       "        text-align: right;\n",
       "    }\n",
       "</style>\n",
       "<table border=\"1\" class=\"dataframe\">\n",
       "  <thead>\n",
       "    <tr style=\"text-align: right;\">\n",
       "      <th></th>\n",
       "      <th>price</th>\n",
       "      <th>feature1</th>\n",
       "      <th>feature2</th>\n",
       "    </tr>\n",
       "  </thead>\n",
       "  <tbody>\n",
       "    <tr>\n",
       "      <th>0</th>\n",
       "      <td>461.527929</td>\n",
       "      <td>999.787558</td>\n",
       "      <td>999.766096</td>\n",
       "    </tr>\n",
       "    <tr>\n",
       "      <th>1</th>\n",
       "      <td>548.130011</td>\n",
       "      <td>998.861615</td>\n",
       "      <td>1001.042403</td>\n",
       "    </tr>\n",
       "    <tr>\n",
       "      <th>2</th>\n",
       "      <td>410.297162</td>\n",
       "      <td>1000.070267</td>\n",
       "      <td>998.844015</td>\n",
       "    </tr>\n",
       "    <tr>\n",
       "      <th>3</th>\n",
       "      <td>540.382220</td>\n",
       "      <td>999.952251</td>\n",
       "      <td>1000.440940</td>\n",
       "    </tr>\n",
       "    <tr>\n",
       "      <th>4</th>\n",
       "      <td>546.024553</td>\n",
       "      <td>1000.446011</td>\n",
       "      <td>1000.338531</td>\n",
       "    </tr>\n",
       "  </tbody>\n",
       "</table>\n",
       "</div>"
      ],
      "text/plain": [
       "        price     feature1     feature2\n",
       "0  461.527929   999.787558   999.766096\n",
       "1  548.130011   998.861615  1001.042403\n",
       "2  410.297162  1000.070267   998.844015\n",
       "3  540.382220   999.952251  1000.440940\n",
       "4  546.024553  1000.446011  1000.338531"
      ]
     },
     "execution_count": 3,
     "metadata": {},
     "output_type": "execute_result"
    }
   ],
   "source": [
    "df.head()"
   ]
  },
  {
   "cell_type": "code",
   "execution_count": 4,
   "id": "38fcb3b1",
   "metadata": {},
   "outputs": [],
   "source": [
    "from sklearn.model_selection import train_test_split"
   ]
  },
  {
   "cell_type": "markdown",
   "id": "4a65f7c9",
   "metadata": {},
   "source": [
    "As TensorFlow works with numpy arrays and not with pandas series or pandas dataframes, we have to add .values to get a numpy array"
   ]
  },
  {
   "cell_type": "code",
   "execution_count": 5,
   "id": "d53c23e5",
   "metadata": {},
   "outputs": [],
   "source": [
    "X = df[['feature1','feature2']].values"
   ]
  },
  {
   "cell_type": "code",
   "execution_count": 6,
   "id": "84b5ae9f",
   "metadata": {},
   "outputs": [
    {
     "data": {
      "text/plain": [
       "array([[ 999.78755752,  999.7660962 ],\n",
       "       [ 998.86161491, 1001.04240315],\n",
       "       [1000.07026691,  998.84401463],\n",
       "       ...,\n",
       "       [1001.45164617,  998.84760554],\n",
       "       [1000.77102275,  998.56285086],\n",
       "       [ 999.2322436 , 1001.45140713]])"
      ]
     },
     "execution_count": 6,
     "metadata": {},
     "output_type": "execute_result"
    }
   ],
   "source": [
    "X"
   ]
  },
  {
   "cell_type": "code",
   "execution_count": 7,
   "id": "d5d78a31",
   "metadata": {},
   "outputs": [],
   "source": [
    "y = df['price'].values"
   ]
  },
  {
   "cell_type": "code",
   "execution_count": 8,
   "id": "b5d7007a",
   "metadata": {},
   "outputs": [],
   "source": [
    "X_train, X_test, y_train, y_test = train_test_split(X, y, test_size=0.3, random_state=42)"
   ]
  },
  {
   "cell_type": "code",
   "execution_count": 9,
   "id": "f0d181ad",
   "metadata": {},
   "outputs": [
    {
     "data": {
      "text/plain": [
       "(700, 2)"
      ]
     },
     "execution_count": 9,
     "metadata": {},
     "output_type": "execute_result"
    }
   ],
   "source": [
    "X_train.shape"
   ]
  },
  {
   "cell_type": "code",
   "execution_count": 10,
   "id": "bb97cf2a",
   "metadata": {},
   "outputs": [
    {
     "data": {
      "text/plain": [
       "(300, 2)"
      ]
     },
     "execution_count": 10,
     "metadata": {},
     "output_type": "execute_result"
    }
   ],
   "source": [
    "X_test.shape"
   ]
  },
  {
   "cell_type": "markdown",
   "id": "1ffe6334",
   "metadata": {},
   "source": [
    "### Tipicamente el siguiente paso en normalizar o escalar los datos. Como estamos trabajando con weights y biases, si tenemos valores muy altos en las feature sets, nos puede causar error en dichos weights y biases. Por lo que la mejor manera de hacerlo es a través de la libreria de sklearn MinMaxScaler. Esto normaliza los datos basandose en la desviación estandar"
   ]
  },
  {
   "cell_type": "code",
   "execution_count": 11,
   "id": "59abeb1c",
   "metadata": {},
   "outputs": [],
   "source": [
    "from sklearn.preprocessing import MinMaxScaler"
   ]
  },
  {
   "cell_type": "markdown",
   "id": "535b1669",
   "metadata": {},
   "source": [
    "Creamos una instancia o variable, típicamente llamada 'scaler'"
   ]
  },
  {
   "cell_type": "code",
   "execution_count": 12,
   "id": "38bbfb33",
   "metadata": {},
   "outputs": [],
   "source": [
    "scaler = MinMaxScaler()"
   ]
  },
  {
   "cell_type": "markdown",
   "id": "749fa64b",
   "metadata": {},
   "source": [
    "Lo que hace .fit() es calcular los parámetros necesarios para llevar a cabo esa normalización. Para ello se basa en los datos que le demos, en este caso X_train.\n",
    "Se utilizan siempre los datos de entrenamiento para que el modelo no vea nunca los datos del test hasta el momento adecuado."
   ]
  },
  {
   "cell_type": "code",
   "execution_count": 13,
   "id": "1454341b",
   "metadata": {},
   "outputs": [
    {
     "data": {
      "text/html": [
       "<style>#sk-container-id-1 {color: black;background-color: white;}#sk-container-id-1 pre{padding: 0;}#sk-container-id-1 div.sk-toggleable {background-color: white;}#sk-container-id-1 label.sk-toggleable__label {cursor: pointer;display: block;width: 100%;margin-bottom: 0;padding: 0.3em;box-sizing: border-box;text-align: center;}#sk-container-id-1 label.sk-toggleable__label-arrow:before {content: \"▸\";float: left;margin-right: 0.25em;color: #696969;}#sk-container-id-1 label.sk-toggleable__label-arrow:hover:before {color: black;}#sk-container-id-1 div.sk-estimator:hover label.sk-toggleable__label-arrow:before {color: black;}#sk-container-id-1 div.sk-toggleable__content {max-height: 0;max-width: 0;overflow: hidden;text-align: left;background-color: #f0f8ff;}#sk-container-id-1 div.sk-toggleable__content pre {margin: 0.2em;color: black;border-radius: 0.25em;background-color: #f0f8ff;}#sk-container-id-1 input.sk-toggleable__control:checked~div.sk-toggleable__content {max-height: 200px;max-width: 100%;overflow: auto;}#sk-container-id-1 input.sk-toggleable__control:checked~label.sk-toggleable__label-arrow:before {content: \"▾\";}#sk-container-id-1 div.sk-estimator input.sk-toggleable__control:checked~label.sk-toggleable__label {background-color: #d4ebff;}#sk-container-id-1 div.sk-label input.sk-toggleable__control:checked~label.sk-toggleable__label {background-color: #d4ebff;}#sk-container-id-1 input.sk-hidden--visually {border: 0;clip: rect(1px 1px 1px 1px);clip: rect(1px, 1px, 1px, 1px);height: 1px;margin: -1px;overflow: hidden;padding: 0;position: absolute;width: 1px;}#sk-container-id-1 div.sk-estimator {font-family: monospace;background-color: #f0f8ff;border: 1px dotted black;border-radius: 0.25em;box-sizing: border-box;margin-bottom: 0.5em;}#sk-container-id-1 div.sk-estimator:hover {background-color: #d4ebff;}#sk-container-id-1 div.sk-parallel-item::after {content: \"\";width: 100%;border-bottom: 1px solid gray;flex-grow: 1;}#sk-container-id-1 div.sk-label:hover label.sk-toggleable__label {background-color: #d4ebff;}#sk-container-id-1 div.sk-serial::before {content: \"\";position: absolute;border-left: 1px solid gray;box-sizing: border-box;top: 0;bottom: 0;left: 50%;z-index: 0;}#sk-container-id-1 div.sk-serial {display: flex;flex-direction: column;align-items: center;background-color: white;padding-right: 0.2em;padding-left: 0.2em;position: relative;}#sk-container-id-1 div.sk-item {position: relative;z-index: 1;}#sk-container-id-1 div.sk-parallel {display: flex;align-items: stretch;justify-content: center;background-color: white;position: relative;}#sk-container-id-1 div.sk-item::before, #sk-container-id-1 div.sk-parallel-item::before {content: \"\";position: absolute;border-left: 1px solid gray;box-sizing: border-box;top: 0;bottom: 0;left: 50%;z-index: -1;}#sk-container-id-1 div.sk-parallel-item {display: flex;flex-direction: column;z-index: 1;position: relative;background-color: white;}#sk-container-id-1 div.sk-parallel-item:first-child::after {align-self: flex-end;width: 50%;}#sk-container-id-1 div.sk-parallel-item:last-child::after {align-self: flex-start;width: 50%;}#sk-container-id-1 div.sk-parallel-item:only-child::after {width: 0;}#sk-container-id-1 div.sk-dashed-wrapped {border: 1px dashed gray;margin: 0 0.4em 0.5em 0.4em;box-sizing: border-box;padding-bottom: 0.4em;background-color: white;}#sk-container-id-1 div.sk-label label {font-family: monospace;font-weight: bold;display: inline-block;line-height: 1.2em;}#sk-container-id-1 div.sk-label-container {text-align: center;}#sk-container-id-1 div.sk-container {/* jupyter's `normalize.less` sets `[hidden] { display: none; }` but bootstrap.min.css set `[hidden] { display: none !important; }` so we also need the `!important` here to be able to override the default hidden behavior on the sphinx rendered scikit-learn.org. See: https://github.com/scikit-learn/scikit-learn/issues/21755 */display: inline-block !important;position: relative;}#sk-container-id-1 div.sk-text-repr-fallback {display: none;}</style><div id=\"sk-container-id-1\" class=\"sk-top-container\"><div class=\"sk-text-repr-fallback\"><pre>MinMaxScaler()</pre><b>In a Jupyter environment, please rerun this cell to show the HTML representation or trust the notebook. <br />On GitHub, the HTML representation is unable to render, please try loading this page with nbviewer.org.</b></div><div class=\"sk-container\" hidden><div class=\"sk-item\"><div class=\"sk-estimator sk-toggleable\"><input class=\"sk-toggleable__control sk-hidden--visually\" id=\"sk-estimator-id-1\" type=\"checkbox\" checked><label for=\"sk-estimator-id-1\" class=\"sk-toggleable__label sk-toggleable__label-arrow\">MinMaxScaler</label><div class=\"sk-toggleable__content\"><pre>MinMaxScaler()</pre></div></div></div></div></div>"
      ],
      "text/plain": [
       "MinMaxScaler()"
      ]
     },
     "execution_count": 13,
     "metadata": {},
     "output_type": "execute_result"
    }
   ],
   "source": [
    "scaler.fit(X_train)"
   ]
  },
  {
   "cell_type": "markdown",
   "id": "464f2874",
   "metadata": {},
   "source": [
    "Una vez tenemos los parámetros, lo que haremos será normalizar nuestros datos. Esta normalización se hará para obtener valores entre 0 y 1."
   ]
  },
  {
   "cell_type": "code",
   "execution_count": 14,
   "id": "b2636af1",
   "metadata": {},
   "outputs": [],
   "source": [
    "X_train = scaler.transform(X_train)"
   ]
  },
  {
   "cell_type": "code",
   "execution_count": 15,
   "id": "959fdc55",
   "metadata": {},
   "outputs": [],
   "source": [
    "X_test = scaler.transform(X_test)"
   ]
  },
  {
   "cell_type": "markdown",
   "id": "011cdd4b",
   "metadata": {},
   "source": [
    "Comprobamos los valores, para ver que la normalización ha sido realizada correctamente."
   ]
  },
  {
   "cell_type": "code",
   "execution_count": 16,
   "id": "5c4462c8",
   "metadata": {},
   "outputs": [
    {
     "data": {
      "text/plain": [
       "0.0"
      ]
     },
     "execution_count": 16,
     "metadata": {},
     "output_type": "execute_result"
    }
   ],
   "source": [
    "X_train.min()"
   ]
  },
  {
   "cell_type": "code",
   "execution_count": 17,
   "id": "285b7225",
   "metadata": {},
   "outputs": [
    {
     "data": {
      "text/plain": [
       "1.0"
      ]
     },
     "execution_count": 17,
     "metadata": {},
     "output_type": "execute_result"
    }
   ],
   "source": [
    "X_train.max()"
   ]
  },
  {
   "cell_type": "markdown",
   "id": "6ada7c0e",
   "metadata": {},
   "source": [
    "Now we create the model. With this two we create a Sequential model, and then add more layers with Dense"
   ]
  },
  {
   "cell_type": "code",
   "execution_count": 19,
   "id": "2a14792e",
   "metadata": {},
   "outputs": [],
   "source": [
    "from tensorflow.keras.models import Sequential"
   ]
  },
  {
   "cell_type": "code",
   "execution_count": 20,
   "id": "e6899578",
   "metadata": {},
   "outputs": [],
   "source": [
    "from tensorflow.keras.layers import Dense"
   ]
  },
  {
   "cell_type": "markdown",
   "id": "e8d896e2",
   "metadata": {},
   "source": [
    "help(Dense)\n",
    "\n",
    "Sequential() - we pass a list of the layers we want as []\n",
    "\n",
    "Dense(units-number of neurons) - densenly- connected es que cada neuron está conectado con todos los neurones de la siguiente layer."
   ]
  },
  {
   "cell_type": "code",
   "execution_count": 21,
   "id": "126ae1a9",
   "metadata": {},
   "outputs": [],
   "source": [
    "model = Sequential([Dense(4, activation='relu'), Dense(2, activation='relu'), \n",
    "                   Dense(1)])"
   ]
  },
  {
   "cell_type": "markdown",
   "id": "085a3ed5",
   "metadata": {},
   "source": [
    "Another way to creat a model is as follows"
   ]
  },
  {
   "cell_type": "code",
   "execution_count": 22,
   "id": "8457b560",
   "metadata": {},
   "outputs": [],
   "source": [
    "model = Sequential()\n",
    "\n",
    "model.add(Dense(4, activation='relu'))\n",
    "\n",
    "model.add(Dense(4, activation='relu'))\n",
    "\n",
    "model.add(Dense(4, activation='relu'))\n",
    "\n",
    "model.add(Dense(1)) # final output layer\n",
    "\n",
    "model.compile(optimizer='rmsprop', loss='mse') #mse- mean square error"
   ]
  },
  {
   "cell_type": "markdown",
   "id": "7103dce0",
   "metadata": {},
   "source": [
    "### Lo que vamos a obtener es un precio final basándonos en la feature1 y la feature 2"
   ]
  },
  {
   "cell_type": "code",
   "execution_count": 23,
   "id": "1574d964",
   "metadata": {},
   "outputs": [
    {
     "name": "stdout",
     "output_type": "stream",
     "text": [
      "Epoch 1/250\n",
      "22/22 [==============================] - 1s 2ms/step - loss: 256663.3438\n",
      "Epoch 2/250\n",
      "22/22 [==============================] - 0s 2ms/step - loss: 256543.0781\n",
      "Epoch 3/250\n",
      "22/22 [==============================] - 0s 2ms/step - loss: 256426.1250\n",
      "Epoch 4/250\n",
      "22/22 [==============================] - 0s 2ms/step - loss: 256301.8750\n",
      "Epoch 5/250\n",
      "22/22 [==============================] - 0s 2ms/step - loss: 256165.5781\n",
      "Epoch 6/250\n",
      "22/22 [==============================] - 0s 2ms/step - loss: 256013.2812\n",
      "Epoch 7/250\n",
      "22/22 [==============================] - 0s 2ms/step - loss: 255839.5469\n",
      "Epoch 8/250\n",
      "22/22 [==============================] - 0s 2ms/step - loss: 255640.4531\n",
      "Epoch 9/250\n",
      "22/22 [==============================] - 0s 2ms/step - loss: 255416.8281\n",
      "Epoch 10/250\n",
      "22/22 [==============================] - 0s 2ms/step - loss: 255162.6719\n",
      "Epoch 11/250\n",
      "22/22 [==============================] - 0s 2ms/step - loss: 254877.5781\n",
      "Epoch 12/250\n",
      "22/22 [==============================] - 0s 2ms/step - loss: 254559.5000\n",
      "Epoch 13/250\n",
      "22/22 [==============================] - 0s 2ms/step - loss: 254204.7500\n",
      "Epoch 14/250\n",
      "22/22 [==============================] - 0s 2ms/step - loss: 253810.3594\n",
      "Epoch 15/250\n",
      "22/22 [==============================] - 0s 2ms/step - loss: 253376.3906\n",
      "Epoch 16/250\n",
      "22/22 [==============================] - 0s 2ms/step - loss: 252898.4844\n",
      "Epoch 17/250\n",
      "22/22 [==============================] - 0s 2ms/step - loss: 252370.7812\n",
      "Epoch 18/250\n",
      "22/22 [==============================] - 0s 2ms/step - loss: 251796.0156\n",
      "Epoch 19/250\n",
      "22/22 [==============================] - 0s 2ms/step - loss: 251166.7656\n",
      "Epoch 20/250\n",
      "22/22 [==============================] - 0s 2ms/step - loss: 250481.3750\n",
      "Epoch 21/250\n",
      "22/22 [==============================] - 0s 2ms/step - loss: 249734.5625\n",
      "Epoch 22/250\n",
      "22/22 [==============================] - 0s 2ms/step - loss: 248924.2031\n",
      "Epoch 23/250\n",
      "22/22 [==============================] - 0s 2ms/step - loss: 248057.1875\n",
      "Epoch 24/250\n",
      "22/22 [==============================] - 0s 2ms/step - loss: 247111.3125\n",
      "Epoch 25/250\n",
      "22/22 [==============================] - 0s 2ms/step - loss: 246100.0938\n",
      "Epoch 26/250\n",
      "22/22 [==============================] - 0s 2ms/step - loss: 245012.5469\n",
      "Epoch 27/250\n",
      "22/22 [==============================] - 0s 2ms/step - loss: 243839.9062\n",
      "Epoch 28/250\n",
      "22/22 [==============================] - 0s 2ms/step - loss: 242590.2344\n",
      "Epoch 29/250\n",
      "22/22 [==============================] - 0s 2ms/step - loss: 241256.3438\n",
      "Epoch 30/250\n",
      "22/22 [==============================] - 0s 2ms/step - loss: 239828.6562\n",
      "Epoch 31/250\n",
      "22/22 [==============================] - 0s 2ms/step - loss: 238312.8438\n",
      "Epoch 32/250\n",
      "22/22 [==============================] - 0s 2ms/step - loss: 236700.7500\n",
      "Epoch 33/250\n",
      "22/22 [==============================] - 0s 2ms/step - loss: 234986.4688\n",
      "Epoch 34/250\n",
      "22/22 [==============================] - 0s 2ms/step - loss: 233167.7969\n",
      "Epoch 35/250\n",
      "22/22 [==============================] - 0s 2ms/step - loss: 231258.7500\n",
      "Epoch 36/250\n",
      "22/22 [==============================] - 0s 2ms/step - loss: 229238.1875\n",
      "Epoch 37/250\n",
      "22/22 [==============================] - 0s 2ms/step - loss: 227093.5781\n",
      "Epoch 38/250\n",
      "22/22 [==============================] - 0s 2ms/step - loss: 224846.6250\n",
      "Epoch 39/250\n",
      "22/22 [==============================] - 0s 2ms/step - loss: 222479.6562\n",
      "Epoch 40/250\n",
      "22/22 [==============================] - 0s 2ms/step - loss: 219995.6875\n",
      "Epoch 41/250\n",
      "22/22 [==============================] - 0s 2ms/step - loss: 217388.9375\n",
      "Epoch 42/250\n",
      "22/22 [==============================] - 0s 2ms/step - loss: 214656.8281\n",
      "Epoch 43/250\n",
      "22/22 [==============================] - 0s 2ms/step - loss: 211796.0000\n",
      "Epoch 44/250\n",
      "22/22 [==============================] - 0s 2ms/step - loss: 208813.3750\n",
      "Epoch 45/250\n",
      "22/22 [==============================] - 0s 2ms/step - loss: 205692.7812\n",
      "Epoch 46/250\n",
      "22/22 [==============================] - 0s 2ms/step - loss: 202432.1406\n",
      "Epoch 47/250\n",
      "22/22 [==============================] - 0s 2ms/step - loss: 199049.9688\n",
      "Epoch 48/250\n",
      "22/22 [==============================] - 0s 2ms/step - loss: 195536.2031\n",
      "Epoch 49/250\n",
      "22/22 [==============================] - 0s 2ms/step - loss: 191891.1094\n",
      "Epoch 50/250\n",
      "22/22 [==============================] - 0s 2ms/step - loss: 188112.5156\n",
      "Epoch 51/250\n",
      "22/22 [==============================] - 0s 2ms/step - loss: 184199.7031\n",
      "Epoch 52/250\n",
      "22/22 [==============================] - 0s 2ms/step - loss: 180146.4219\n",
      "Epoch 53/250\n",
      "22/22 [==============================] - 0s 2ms/step - loss: 175958.2031\n",
      "Epoch 54/250\n",
      "22/22 [==============================] - 0s 2ms/step - loss: 171626.1875\n",
      "Epoch 55/250\n",
      "22/22 [==============================] - 0s 2ms/step - loss: 167173.2031\n",
      "Epoch 56/250\n",
      "22/22 [==============================] - 0s 2ms/step - loss: 162590.2031\n",
      "Epoch 57/250\n",
      "22/22 [==============================] - 0s 1ms/step - loss: 157892.2344\n",
      "Epoch 58/250\n",
      "22/22 [==============================] - 0s 2ms/step - loss: 153082.7812\n",
      "Epoch 59/250\n",
      "22/22 [==============================] - 0s 1ms/step - loss: 148144.0312\n",
      "Epoch 60/250\n",
      "22/22 [==============================] - 0s 2ms/step - loss: 143117.1250\n",
      "Epoch 61/250\n",
      "22/22 [==============================] - 0s 1ms/step - loss: 137978.2344\n",
      "Epoch 62/250\n",
      "22/22 [==============================] - 0s 1ms/step - loss: 132729.4375\n",
      "Epoch 63/250\n",
      "22/22 [==============================] - 0s 1ms/step - loss: 127369.3750\n",
      "Epoch 64/250\n",
      "22/22 [==============================] - 0s 1ms/step - loss: 121925.5234\n",
      "Epoch 65/250\n",
      "22/22 [==============================] - 0s 1ms/step - loss: 116421.0547\n",
      "Epoch 66/250\n",
      "22/22 [==============================] - 0s 2ms/step - loss: 110833.7266\n",
      "Epoch 67/250\n",
      "22/22 [==============================] - 0s 2ms/step - loss: 105214.7734\n",
      "Epoch 68/250\n",
      "22/22 [==============================] - 0s 1ms/step - loss: 99525.8750\n",
      "Epoch 69/250\n",
      "22/22 [==============================] - 0s 1ms/step - loss: 93841.5625\n",
      "Epoch 70/250\n",
      "22/22 [==============================] - 0s 2ms/step - loss: 88113.8828\n",
      "Epoch 71/250\n",
      "22/22 [==============================] - 0s 2ms/step - loss: 82417.4453\n",
      "Epoch 72/250\n",
      "22/22 [==============================] - 0s 2ms/step - loss: 76706.2422\n",
      "Epoch 73/250\n",
      "22/22 [==============================] - 0s 2ms/step - loss: 71055.4297\n",
      "Epoch 74/250\n",
      "22/22 [==============================] - 0s 2ms/step - loss: 65435.1523\n",
      "Epoch 75/250\n",
      "22/22 [==============================] - 0s 2ms/step - loss: 59868.6172\n",
      "Epoch 76/250\n",
      "22/22 [==============================] - 0s 2ms/step - loss: 54384.6641\n",
      "Epoch 77/250\n",
      "22/22 [==============================] - 0s 2ms/step - loss: 49082.9375\n",
      "Epoch 78/250\n",
      "22/22 [==============================] - 0s 2ms/step - loss: 43871.4219\n",
      "Epoch 79/250\n",
      "22/22 [==============================] - 0s 2ms/step - loss: 38833.3789\n",
      "Epoch 80/250\n",
      "22/22 [==============================] - 0s 2ms/step - loss: 33958.3047\n",
      "Epoch 81/250\n",
      "22/22 [==============================] - 0s 2ms/step - loss: 29349.6191\n",
      "Epoch 82/250\n",
      "22/22 [==============================] - 0s 2ms/step - loss: 24992.7949\n",
      "Epoch 83/250\n",
      "22/22 [==============================] - 0s 2ms/step - loss: 20931.2734\n",
      "Epoch 84/250\n",
      "22/22 [==============================] - 0s 1ms/step - loss: 17170.8379\n",
      "Epoch 85/250\n",
      "22/22 [==============================] - 0s 1ms/step - loss: 13753.4688\n",
      "Epoch 86/250\n",
      "22/22 [==============================] - 0s 1ms/step - loss: 10737.7344\n",
      "Epoch 87/250\n",
      "22/22 [==============================] - 0s 1ms/step - loss: 8136.2041\n",
      "Epoch 88/250\n",
      "22/22 [==============================] - 0s 1ms/step - loss: 5988.2300\n",
      "Epoch 89/250\n",
      "22/22 [==============================] - 0s 1ms/step - loss: 4310.3491\n",
      "Epoch 90/250\n",
      "22/22 [==============================] - 0s 1ms/step - loss: 3155.5540\n",
      "Epoch 91/250\n",
      "22/22 [==============================] - 0s 1ms/step - loss: 2449.2019\n",
      "Epoch 92/250\n",
      "22/22 [==============================] - 0s 2ms/step - loss: 2157.6003\n",
      "Epoch 93/250\n",
      "22/22 [==============================] - 0s 2ms/step - loss: 2098.5256\n",
      "Epoch 94/250\n",
      "22/22 [==============================] - 0s 2ms/step - loss: 2066.7917\n",
      "Epoch 95/250\n",
      "22/22 [==============================] - 0s 2ms/step - loss: 2032.5626\n",
      "Epoch 96/250\n"
     ]
    },
    {
     "name": "stdout",
     "output_type": "stream",
     "text": [
      "22/22 [==============================] - 0s 1ms/step - loss: 2002.5387\n",
      "Epoch 97/250\n",
      "22/22 [==============================] - 0s 2ms/step - loss: 1972.4089\n",
      "Epoch 98/250\n",
      "22/22 [==============================] - 0s 1ms/step - loss: 1941.6427\n",
      "Epoch 99/250\n",
      "22/22 [==============================] - 0s 2ms/step - loss: 1911.8002\n",
      "Epoch 100/250\n",
      "22/22 [==============================] - 0s 2ms/step - loss: 1882.1947\n",
      "Epoch 101/250\n",
      "22/22 [==============================] - 0s 2ms/step - loss: 1852.7175\n",
      "Epoch 102/250\n",
      "22/22 [==============================] - 0s 1ms/step - loss: 1820.2161\n",
      "Epoch 103/250\n",
      "22/22 [==============================] - 0s 1ms/step - loss: 1790.8214\n",
      "Epoch 104/250\n",
      "22/22 [==============================] - 0s 2ms/step - loss: 1762.3357\n",
      "Epoch 105/250\n",
      "22/22 [==============================] - 0s 2ms/step - loss: 1731.6829\n",
      "Epoch 106/250\n",
      "22/22 [==============================] - 0s 2ms/step - loss: 1701.1930\n",
      "Epoch 107/250\n",
      "22/22 [==============================] - 0s 1ms/step - loss: 1671.6782\n",
      "Epoch 108/250\n",
      "22/22 [==============================] - 0s 2ms/step - loss: 1640.0846\n",
      "Epoch 109/250\n",
      "22/22 [==============================] - 0s 2ms/step - loss: 1612.6876\n",
      "Epoch 110/250\n",
      "22/22 [==============================] - 0s 2ms/step - loss: 1585.1786\n",
      "Epoch 111/250\n",
      "22/22 [==============================] - 0s 1ms/step - loss: 1557.1898\n",
      "Epoch 112/250\n",
      "22/22 [==============================] - 0s 2ms/step - loss: 1528.4580\n",
      "Epoch 113/250\n",
      "22/22 [==============================] - 0s 1ms/step - loss: 1500.0408\n",
      "Epoch 114/250\n",
      "22/22 [==============================] - 0s 2ms/step - loss: 1472.6284\n",
      "Epoch 115/250\n",
      "22/22 [==============================] - 0s 1ms/step - loss: 1445.0327\n",
      "Epoch 116/250\n",
      "22/22 [==============================] - 0s 2ms/step - loss: 1414.2618\n",
      "Epoch 117/250\n",
      "22/22 [==============================] - 0s 2ms/step - loss: 1390.3788\n",
      "Epoch 118/250\n",
      "22/22 [==============================] - 0s 1ms/step - loss: 1363.9100\n",
      "Epoch 119/250\n",
      "22/22 [==============================] - 0s 2ms/step - loss: 1336.1824\n",
      "Epoch 120/250\n",
      "22/22 [==============================] - 0s 2ms/step - loss: 1312.1179\n",
      "Epoch 121/250\n",
      "22/22 [==============================] - 0s 2ms/step - loss: 1284.6465\n",
      "Epoch 122/250\n",
      "22/22 [==============================] - 0s 1ms/step - loss: 1258.2856\n",
      "Epoch 123/250\n",
      "22/22 [==============================] - 0s 1ms/step - loss: 1232.3815\n",
      "Epoch 124/250\n",
      "22/22 [==============================] - 0s 2ms/step - loss: 1207.8220\n",
      "Epoch 125/250\n",
      "22/22 [==============================] - 0s 1ms/step - loss: 1179.7837\n",
      "Epoch 126/250\n",
      "22/22 [==============================] - 0s 1ms/step - loss: 1146.3246\n",
      "Epoch 127/250\n",
      "22/22 [==============================] - 0s 2ms/step - loss: 1128.4501\n",
      "Epoch 128/250\n",
      "22/22 [==============================] - 0s 1ms/step - loss: 1101.6434\n",
      "Epoch 129/250\n",
      "22/22 [==============================] - 0s 1ms/step - loss: 1076.3397\n",
      "Epoch 130/250\n",
      "22/22 [==============================] - 0s 2ms/step - loss: 1048.1058\n",
      "Epoch 131/250\n",
      "22/22 [==============================] - 0s 2ms/step - loss: 1021.6061\n",
      "Epoch 132/250\n",
      "22/22 [==============================] - 0s 2ms/step - loss: 992.5358\n",
      "Epoch 133/250\n",
      "22/22 [==============================] - 0s 2ms/step - loss: 970.6321\n",
      "Epoch 134/250\n",
      "22/22 [==============================] - 0s 1ms/step - loss: 943.6374\n",
      "Epoch 135/250\n",
      "22/22 [==============================] - 0s 1ms/step - loss: 924.7194\n",
      "Epoch 136/250\n",
      "22/22 [==============================] - 0s 2ms/step - loss: 898.9707\n",
      "Epoch 137/250\n",
      "22/22 [==============================] - 0s 1ms/step - loss: 876.0314\n",
      "Epoch 138/250\n",
      "22/22 [==============================] - 0s 2ms/step - loss: 851.6144\n",
      "Epoch 139/250\n",
      "22/22 [==============================] - 0s 2ms/step - loss: 828.7042\n",
      "Epoch 140/250\n",
      "22/22 [==============================] - 0s 2ms/step - loss: 805.5506\n",
      "Epoch 141/250\n",
      "22/22 [==============================] - 0s 2ms/step - loss: 783.1535\n",
      "Epoch 142/250\n",
      "22/22 [==============================] - 0s 2ms/step - loss: 763.4221\n",
      "Epoch 143/250\n",
      "22/22 [==============================] - 0s 2ms/step - loss: 739.5115\n",
      "Epoch 144/250\n",
      "22/22 [==============================] - 0s 2ms/step - loss: 712.1404\n",
      "Epoch 145/250\n",
      "22/22 [==============================] - 0s 2ms/step - loss: 691.8727\n",
      "Epoch 146/250\n",
      "22/22 [==============================] - 0s 1ms/step - loss: 669.4472\n",
      "Epoch 147/250\n",
      "22/22 [==============================] - 0s 1ms/step - loss: 645.7932\n",
      "Epoch 148/250\n",
      "22/22 [==============================] - 0s 2ms/step - loss: 625.8193\n",
      "Epoch 149/250\n",
      "22/22 [==============================] - 0s 2ms/step - loss: 602.8829\n",
      "Epoch 150/250\n",
      "22/22 [==============================] - 0s 2ms/step - loss: 580.1635\n",
      "Epoch 151/250\n",
      "22/22 [==============================] - 0s 2ms/step - loss: 561.5695\n",
      "Epoch 152/250\n",
      "22/22 [==============================] - 0s 2ms/step - loss: 540.0376\n",
      "Epoch 153/250\n",
      "22/22 [==============================] - 0s 2ms/step - loss: 519.1269\n",
      "Epoch 154/250\n",
      "22/22 [==============================] - 0s 2ms/step - loss: 497.5770\n",
      "Epoch 155/250\n",
      "22/22 [==============================] - 0s 2ms/step - loss: 477.6096\n",
      "Epoch 156/250\n",
      "22/22 [==============================] - 0s 2ms/step - loss: 462.0351\n",
      "Epoch 157/250\n",
      "22/22 [==============================] - 0s 2ms/step - loss: 442.5145\n",
      "Epoch 158/250\n",
      "22/22 [==============================] - 0s 2ms/step - loss: 423.8710\n",
      "Epoch 159/250\n",
      "22/22 [==============================] - 0s 1ms/step - loss: 406.1094\n",
      "Epoch 160/250\n",
      "22/22 [==============================] - 0s 2ms/step - loss: 387.7077\n",
      "Epoch 161/250\n",
      "22/22 [==============================] - 0s 2ms/step - loss: 372.2283\n",
      "Epoch 162/250\n",
      "22/22 [==============================] - 0s 2ms/step - loss: 355.1386\n",
      "Epoch 163/250\n",
      "22/22 [==============================] - 0s 2ms/step - loss: 339.9283\n",
      "Epoch 164/250\n",
      "22/22 [==============================] - 0s 2ms/step - loss: 323.1277\n",
      "Epoch 165/250\n",
      "22/22 [==============================] - 0s 2ms/step - loss: 307.9524\n",
      "Epoch 166/250\n",
      "22/22 [==============================] - 0s 2ms/step - loss: 292.1805\n",
      "Epoch 167/250\n",
      "22/22 [==============================] - 0s 2ms/step - loss: 275.7089\n",
      "Epoch 168/250\n",
      "22/22 [==============================] - 0s 2ms/step - loss: 264.6785\n",
      "Epoch 169/250\n",
      "22/22 [==============================] - 0s 1ms/step - loss: 249.5226\n",
      "Epoch 170/250\n",
      "22/22 [==============================] - 0s 2ms/step - loss: 236.3244\n",
      "Epoch 171/250\n",
      "22/22 [==============================] - 0s 2ms/step - loss: 222.4447\n",
      "Epoch 172/250\n",
      "22/22 [==============================] - 0s 2ms/step - loss: 209.2078\n",
      "Epoch 173/250\n",
      "22/22 [==============================] - 0s 2ms/step - loss: 196.0053\n",
      "Epoch 174/250\n",
      "22/22 [==============================] - 0s 2ms/step - loss: 185.1049\n",
      "Epoch 175/250\n",
      "22/22 [==============================] - 0s 2ms/step - loss: 173.6373\n",
      "Epoch 176/250\n",
      "22/22 [==============================] - 0s 1ms/step - loss: 163.1412\n",
      "Epoch 177/250\n",
      "22/22 [==============================] - 0s 2ms/step - loss: 151.2297\n",
      "Epoch 178/250\n",
      "22/22 [==============================] - 0s 2ms/step - loss: 142.0374\n",
      "Epoch 179/250\n",
      "22/22 [==============================] - 0s 2ms/step - loss: 132.3553\n",
      "Epoch 180/250\n",
      "22/22 [==============================] - 0s 2ms/step - loss: 123.7795\n",
      "Epoch 181/250\n",
      "22/22 [==============================] - 0s 2ms/step - loss: 114.2092\n",
      "Epoch 182/250\n",
      "22/22 [==============================] - 0s 2ms/step - loss: 104.8419\n",
      "Epoch 183/250\n",
      "22/22 [==============================] - 0s 2ms/step - loss: 97.0609\n",
      "Epoch 184/250\n",
      "22/22 [==============================] - 0s 1ms/step - loss: 89.9566\n",
      "Epoch 185/250\n",
      "22/22 [==============================] - 0s 2ms/step - loss: 83.3128\n",
      "Epoch 186/250\n",
      "22/22 [==============================] - 0s 2ms/step - loss: 76.2712\n",
      "Epoch 187/250\n",
      "22/22 [==============================] - 0s 2ms/step - loss: 70.2577\n",
      "Epoch 188/250\n",
      "22/22 [==============================] - 0s 2ms/step - loss: 64.7784\n",
      "Epoch 189/250\n",
      "22/22 [==============================] - 0s 2ms/step - loss: 60.2746\n",
      "Epoch 190/250\n",
      "22/22 [==============================] - 0s 2ms/step - loss: 56.4886\n",
      "Epoch 191/250\n",
      "22/22 [==============================] - 0s 2ms/step - loss: 52.4633\n",
      "Epoch 192/250\n",
      "22/22 [==============================] - 0s 2ms/step - loss: 48.9853\n",
      "Epoch 193/250\n"
     ]
    },
    {
     "name": "stdout",
     "output_type": "stream",
     "text": [
      "22/22 [==============================] - 0s 2ms/step - loss: 44.9862\n",
      "Epoch 194/250\n",
      "22/22 [==============================] - 0s 2ms/step - loss: 42.3905\n",
      "Epoch 195/250\n",
      "22/22 [==============================] - 0s 2ms/step - loss: 38.9008\n",
      "Epoch 196/250\n",
      "22/22 [==============================] - 0s 1ms/step - loss: 36.5667\n",
      "Epoch 197/250\n",
      "22/22 [==============================] - 0s 2ms/step - loss: 34.6130\n",
      "Epoch 198/250\n",
      "22/22 [==============================] - 0s 1ms/step - loss: 33.0203\n",
      "Epoch 199/250\n",
      "22/22 [==============================] - 0s 2ms/step - loss: 31.9665\n",
      "Epoch 200/250\n",
      "22/22 [==============================] - 0s 2ms/step - loss: 30.0709\n",
      "Epoch 201/250\n",
      "22/22 [==============================] - 0s 1ms/step - loss: 29.3787\n",
      "Epoch 202/250\n",
      "22/22 [==============================] - 0s 2ms/step - loss: 28.6772\n",
      "Epoch 203/250\n",
      "22/22 [==============================] - 0s 1ms/step - loss: 27.5796\n",
      "Epoch 204/250\n",
      "22/22 [==============================] - 0s 2ms/step - loss: 27.1387\n",
      "Epoch 205/250\n",
      "22/22 [==============================] - 0s 1ms/step - loss: 26.7127\n",
      "Epoch 206/250\n",
      "22/22 [==============================] - 0s 1ms/step - loss: 26.2718\n",
      "Epoch 207/250\n",
      "22/22 [==============================] - 0s 1ms/step - loss: 25.5995\n",
      "Epoch 208/250\n",
      "22/22 [==============================] - 0s 2ms/step - loss: 25.5018\n",
      "Epoch 209/250\n",
      "22/22 [==============================] - 0s 2ms/step - loss: 25.1988\n",
      "Epoch 210/250\n",
      "22/22 [==============================] - 0s 1ms/step - loss: 25.0261\n",
      "Epoch 211/250\n",
      "22/22 [==============================] - 0s 2ms/step - loss: 24.7379\n",
      "Epoch 212/250\n",
      "22/22 [==============================] - 0s 2ms/step - loss: 24.6277\n",
      "Epoch 213/250\n",
      "22/22 [==============================] - 0s 2ms/step - loss: 24.4780\n",
      "Epoch 214/250\n",
      "22/22 [==============================] - 0s 1ms/step - loss: 24.5884\n",
      "Epoch 215/250\n",
      "22/22 [==============================] - 0s 2ms/step - loss: 24.7516\n",
      "Epoch 216/250\n",
      "22/22 [==============================] - 0s 2ms/step - loss: 24.2121\n",
      "Epoch 217/250\n",
      "22/22 [==============================] - 0s 2ms/step - loss: 24.5103\n",
      "Epoch 218/250\n",
      "22/22 [==============================] - 0s 1ms/step - loss: 24.4309\n",
      "Epoch 219/250\n",
      "22/22 [==============================] - 0s 2ms/step - loss: 24.9408\n",
      "Epoch 220/250\n",
      "22/22 [==============================] - 0s 2ms/step - loss: 24.2187\n",
      "Epoch 221/250\n",
      "22/22 [==============================] - 0s 2ms/step - loss: 24.3023\n",
      "Epoch 222/250\n",
      "22/22 [==============================] - 0s 2ms/step - loss: 24.2962\n",
      "Epoch 223/250\n",
      "22/22 [==============================] - 0s 2ms/step - loss: 24.1150\n",
      "Epoch 224/250\n",
      "22/22 [==============================] - 0s 1ms/step - loss: 24.0622\n",
      "Epoch 225/250\n",
      "22/22 [==============================] - 0s 2ms/step - loss: 24.0874\n",
      "Epoch 226/250\n",
      "22/22 [==============================] - 0s 1ms/step - loss: 23.9519\n",
      "Epoch 227/250\n",
      "22/22 [==============================] - 0s 2ms/step - loss: 24.4508\n",
      "Epoch 228/250\n",
      "22/22 [==============================] - 0s 2ms/step - loss: 24.2630\n",
      "Epoch 229/250\n",
      "22/22 [==============================] - 0s 2ms/step - loss: 24.3983\n",
      "Epoch 230/250\n",
      "22/22 [==============================] - 0s 2ms/step - loss: 24.3949\n",
      "Epoch 231/250\n",
      "22/22 [==============================] - 0s 2ms/step - loss: 24.1305\n",
      "Epoch 232/250\n",
      "22/22 [==============================] - 0s 2ms/step - loss: 24.1636\n",
      "Epoch 233/250\n",
      "22/22 [==============================] - 0s 1ms/step - loss: 24.2138\n",
      "Epoch 234/250\n",
      "22/22 [==============================] - 0s 2ms/step - loss: 24.1003\n",
      "Epoch 235/250\n",
      "22/22 [==============================] - 0s 1ms/step - loss: 24.1400\n",
      "Epoch 236/250\n",
      "22/22 [==============================] - 0s 1ms/step - loss: 24.0996\n",
      "Epoch 237/250\n",
      "22/22 [==============================] - 0s 2ms/step - loss: 24.2112\n",
      "Epoch 238/250\n",
      "22/22 [==============================] - 0s 2ms/step - loss: 24.2891\n",
      "Epoch 239/250\n",
      "22/22 [==============================] - 0s 2ms/step - loss: 24.1268\n",
      "Epoch 240/250\n",
      "22/22 [==============================] - 0s 2ms/step - loss: 24.3709\n",
      "Epoch 241/250\n",
      "22/22 [==============================] - 0s 2ms/step - loss: 24.1051\n",
      "Epoch 242/250\n",
      "22/22 [==============================] - 0s 2ms/step - loss: 24.6530\n",
      "Epoch 243/250\n",
      "22/22 [==============================] - 0s 1ms/step - loss: 24.4271\n",
      "Epoch 244/250\n",
      "22/22 [==============================] - 0s 2ms/step - loss: 24.1000\n",
      "Epoch 245/250\n",
      "22/22 [==============================] - 0s 2ms/step - loss: 24.4360\n",
      "Epoch 246/250\n",
      "22/22 [==============================] - 0s 2ms/step - loss: 24.2230\n",
      "Epoch 247/250\n",
      "22/22 [==============================] - 0s 2ms/step - loss: 24.2480\n",
      "Epoch 248/250\n",
      "22/22 [==============================] - 0s 1ms/step - loss: 24.1027\n",
      "Epoch 249/250\n",
      "22/22 [==============================] - 0s 2ms/step - loss: 24.1209\n",
      "Epoch 250/250\n",
      "22/22 [==============================] - 0s 1ms/step - loss: 24.3050\n"
     ]
    },
    {
     "data": {
      "text/plain": [
       "<keras.src.callbacks.History at 0x7f6aa40d0e20>"
      ]
     },
     "execution_count": 23,
     "metadata": {},
     "output_type": "execute_result"
    }
   ],
   "source": [
    "model.fit(x=X_train, y=y_train, epochs=250)# epochs es para indicar cuantas veces el\n",
    "                                            # modelo pasará por los datos"
   ]
  },
  {
   "cell_type": "code",
   "execution_count": 24,
   "id": "e2d38baf",
   "metadata": {},
   "outputs": [
    {
     "data": {
      "text/plain": [
       "{'loss': [256663.34375,\n",
       "  256543.078125,\n",
       "  256426.125,\n",
       "  256301.875,\n",
       "  256165.578125,\n",
       "  256013.28125,\n",
       "  255839.546875,\n",
       "  255640.453125,\n",
       "  255416.828125,\n",
       "  255162.671875,\n",
       "  254877.578125,\n",
       "  254559.5,\n",
       "  254204.75,\n",
       "  253810.359375,\n",
       "  253376.390625,\n",
       "  252898.484375,\n",
       "  252370.78125,\n",
       "  251796.015625,\n",
       "  251166.765625,\n",
       "  250481.375,\n",
       "  249734.5625,\n",
       "  248924.203125,\n",
       "  248057.1875,\n",
       "  247111.3125,\n",
       "  246100.09375,\n",
       "  245012.546875,\n",
       "  243839.90625,\n",
       "  242590.234375,\n",
       "  241256.34375,\n",
       "  239828.65625,\n",
       "  238312.84375,\n",
       "  236700.75,\n",
       "  234986.46875,\n",
       "  233167.796875,\n",
       "  231258.75,\n",
       "  229238.1875,\n",
       "  227093.578125,\n",
       "  224846.625,\n",
       "  222479.65625,\n",
       "  219995.6875,\n",
       "  217388.9375,\n",
       "  214656.828125,\n",
       "  211796.0,\n",
       "  208813.375,\n",
       "  205692.78125,\n",
       "  202432.140625,\n",
       "  199049.96875,\n",
       "  195536.203125,\n",
       "  191891.109375,\n",
       "  188112.515625,\n",
       "  184199.703125,\n",
       "  180146.421875,\n",
       "  175958.203125,\n",
       "  171626.1875,\n",
       "  167173.203125,\n",
       "  162590.203125,\n",
       "  157892.234375,\n",
       "  153082.78125,\n",
       "  148144.03125,\n",
       "  143117.125,\n",
       "  137978.234375,\n",
       "  132729.4375,\n",
       "  127369.375,\n",
       "  121925.5234375,\n",
       "  116421.0546875,\n",
       "  110833.7265625,\n",
       "  105214.7734375,\n",
       "  99525.875,\n",
       "  93841.5625,\n",
       "  88113.8828125,\n",
       "  82417.4453125,\n",
       "  76706.2421875,\n",
       "  71055.4296875,\n",
       "  65435.15234375,\n",
       "  59868.6171875,\n",
       "  54384.6640625,\n",
       "  49082.9375,\n",
       "  43871.421875,\n",
       "  38833.37890625,\n",
       "  33958.3046875,\n",
       "  29349.619140625,\n",
       "  24992.794921875,\n",
       "  20931.2734375,\n",
       "  17170.837890625,\n",
       "  13753.46875,\n",
       "  10737.734375,\n",
       "  8136.2041015625,\n",
       "  5988.22998046875,\n",
       "  4310.34912109375,\n",
       "  3155.553955078125,\n",
       "  2449.201904296875,\n",
       "  2157.600341796875,\n",
       "  2098.525634765625,\n",
       "  2066.791748046875,\n",
       "  2032.5626220703125,\n",
       "  2002.5386962890625,\n",
       "  1972.408935546875,\n",
       "  1941.6427001953125,\n",
       "  1911.8001708984375,\n",
       "  1882.1947021484375,\n",
       "  1852.717529296875,\n",
       "  1820.216064453125,\n",
       "  1790.8214111328125,\n",
       "  1762.335693359375,\n",
       "  1731.682861328125,\n",
       "  1701.1929931640625,\n",
       "  1671.67822265625,\n",
       "  1640.0845947265625,\n",
       "  1612.6876220703125,\n",
       "  1585.1785888671875,\n",
       "  1557.1898193359375,\n",
       "  1528.4580078125,\n",
       "  1500.040771484375,\n",
       "  1472.62841796875,\n",
       "  1445.03271484375,\n",
       "  1414.2618408203125,\n",
       "  1390.3787841796875,\n",
       "  1363.9100341796875,\n",
       "  1336.182373046875,\n",
       "  1312.117919921875,\n",
       "  1284.646484375,\n",
       "  1258.28564453125,\n",
       "  1232.3814697265625,\n",
       "  1207.822021484375,\n",
       "  1179.78369140625,\n",
       "  1146.3245849609375,\n",
       "  1128.4500732421875,\n",
       "  1101.6434326171875,\n",
       "  1076.3397216796875,\n",
       "  1048.1058349609375,\n",
       "  1021.6060791015625,\n",
       "  992.5358276367188,\n",
       "  970.6321411132812,\n",
       "  943.6373901367188,\n",
       "  924.7193603515625,\n",
       "  898.970703125,\n",
       "  876.0314331054688,\n",
       "  851.6143798828125,\n",
       "  828.7042236328125,\n",
       "  805.5505981445312,\n",
       "  783.1535034179688,\n",
       "  763.4220581054688,\n",
       "  739.5115356445312,\n",
       "  712.1404418945312,\n",
       "  691.8727416992188,\n",
       "  669.4472045898438,\n",
       "  645.7931518554688,\n",
       "  625.8193359375,\n",
       "  602.8828735351562,\n",
       "  580.1635131835938,\n",
       "  561.5695190429688,\n",
       "  540.03759765625,\n",
       "  519.1268920898438,\n",
       "  497.5769958496094,\n",
       "  477.60955810546875,\n",
       "  462.03509521484375,\n",
       "  442.51446533203125,\n",
       "  423.8709716796875,\n",
       "  406.1094055175781,\n",
       "  387.7077331542969,\n",
       "  372.228271484375,\n",
       "  355.13861083984375,\n",
       "  339.9283142089844,\n",
       "  323.12774658203125,\n",
       "  307.952392578125,\n",
       "  292.1805419921875,\n",
       "  275.7088928222656,\n",
       "  264.67852783203125,\n",
       "  249.52261352539062,\n",
       "  236.3244171142578,\n",
       "  222.44473266601562,\n",
       "  209.2078094482422,\n",
       "  196.00526428222656,\n",
       "  185.1048583984375,\n",
       "  173.63734436035156,\n",
       "  163.1411895751953,\n",
       "  151.22972106933594,\n",
       "  142.03741455078125,\n",
       "  132.35531616210938,\n",
       "  123.77949523925781,\n",
       "  114.20915985107422,\n",
       "  104.84191131591797,\n",
       "  97.0609359741211,\n",
       "  89.95662689208984,\n",
       "  83.31280517578125,\n",
       "  76.27124786376953,\n",
       "  70.25765228271484,\n",
       "  64.77838134765625,\n",
       "  60.27458572387695,\n",
       "  56.488616943359375,\n",
       "  52.463260650634766,\n",
       "  48.98529052734375,\n",
       "  44.98615264892578,\n",
       "  42.39047622680664,\n",
       "  38.900753021240234,\n",
       "  36.56671905517578,\n",
       "  34.6130485534668,\n",
       "  33.02034378051758,\n",
       "  31.966533660888672,\n",
       "  30.070907592773438,\n",
       "  29.378705978393555,\n",
       "  28.677167892456055,\n",
       "  27.579618453979492,\n",
       "  27.13873863220215,\n",
       "  26.712722778320312,\n",
       "  26.271760940551758,\n",
       "  25.59946632385254,\n",
       "  25.501758575439453,\n",
       "  25.198780059814453,\n",
       "  25.026126861572266,\n",
       "  24.737882614135742,\n",
       "  24.62772560119629,\n",
       "  24.478008270263672,\n",
       "  24.588359832763672,\n",
       "  24.751646041870117,\n",
       "  24.21210289001465,\n",
       "  24.510278701782227,\n",
       "  24.430931091308594,\n",
       "  24.94076919555664,\n",
       "  24.21868324279785,\n",
       "  24.3022518157959,\n",
       "  24.296175003051758,\n",
       "  24.11496925354004,\n",
       "  24.06218719482422,\n",
       "  24.0874080657959,\n",
       "  23.95192527770996,\n",
       "  24.4507999420166,\n",
       "  24.26299476623535,\n",
       "  24.39827537536621,\n",
       "  24.394886016845703,\n",
       "  24.130483627319336,\n",
       "  24.16364097595215,\n",
       "  24.213781356811523,\n",
       "  24.100326538085938,\n",
       "  24.139999389648438,\n",
       "  24.099567413330078,\n",
       "  24.211244583129883,\n",
       "  24.289098739624023,\n",
       "  24.126832962036133,\n",
       "  24.370943069458008,\n",
       "  24.10514259338379,\n",
       "  24.65298843383789,\n",
       "  24.4271297454834,\n",
       "  24.100011825561523,\n",
       "  24.43596076965332,\n",
       "  24.222959518432617,\n",
       "  24.248048782348633,\n",
       "  24.10265350341797,\n",
       "  24.120872497558594,\n",
       "  24.30501937866211]}"
      ]
     },
     "execution_count": 24,
     "metadata": {},
     "output_type": "execute_result"
    }
   ],
   "source": [
    "model.history.history #gives a dictionary"
   ]
  },
  {
   "cell_type": "code",
   "execution_count": 25,
   "id": "0920f1c6",
   "metadata": {},
   "outputs": [],
   "source": [
    "loss_df = pd.DataFrame(model.history.history)"
   ]
  },
  {
   "cell_type": "code",
   "execution_count": 26,
   "id": "87d35331",
   "metadata": {},
   "outputs": [
    {
     "data": {
      "text/plain": [
       "<matplotlib.axes._subplots.AxesSubplot at 0x7f6a877d50a0>"
      ]
     },
     "execution_count": 26,
     "metadata": {},
     "output_type": "execute_result"
    },
    {
     "data": {
      "image/png": "[encoded data removed]",
      "text/plain": [
       "<Figure size 432x288 with 1 Axes>"
      ]
     },
     "metadata": {
      "needs_background": "light"
     },
     "output_type": "display_data"
    }
   ],
   "source": [
    "loss_df.plot()"
   ]
  },
  {
   "cell_type": "markdown",
   "id": "f65cf21c",
   "metadata": {},
   "source": [
    "## EVALUATION OF THE MODEL."
   ]
  },
  {
   "cell_type": "markdown",
   "id": "3b3c7c86",
   "metadata": {},
   "source": [
    "So we will try this model in new data, essentially the test data. And this returns the loss of the test set. For this example we have chose mean square error 'mse', so on the test set our model gives back a mse = 25.15"
   ]
  },
  {
   "cell_type": "code",
   "execution_count": 27,
   "id": "3c55db38",
   "metadata": {},
   "outputs": [
    {
     "data": {
      "text/plain": [
       "25.28421974182129"
      ]
     },
     "execution_count": 27,
     "metadata": {},
     "output_type": "execute_result"
    }
   ],
   "source": [
    "model.evaluate(X_test, y_test, verbose=0)"
   ]
  },
  {
   "cell_type": "markdown",
   "id": "e056b65e",
   "metadata": {},
   "source": [
    "We can try in the train set as well"
   ]
  },
  {
   "cell_type": "code",
   "execution_count": 28,
   "id": "ae86f2df",
   "metadata": {},
   "outputs": [
    {
     "data": {
      "text/plain": [
       "24.74885368347168"
      ]
     },
     "execution_count": 28,
     "metadata": {},
     "output_type": "execute_result"
    }
   ],
   "source": [
    "model.evaluate(X_train, y_train, verbose=0)"
   ]
  },
  {
   "cell_type": "markdown",
   "id": "8cd37ded",
   "metadata": {},
   "source": [
    "We interpretate this as a meassure of how our model perform, an additionally try out with other kind of errors"
   ]
  },
  {
   "cell_type": "code",
   "execution_count": 29,
   "id": "a599751f",
   "metadata": {},
   "outputs": [
    {
     "name": "stdout",
     "output_type": "stream",
     "text": [
      "10/10 [==============================] - 0s 1ms/step\n"
     ]
    }
   ],
   "source": [
    "test_predictions = model.predict(X_test)"
   ]
  },
  {
   "cell_type": "code",
   "execution_count": 30,
   "id": "a2ce94f8",
   "metadata": {},
   "outputs": [
    {
     "data": {
      "text/plain": [
       "array([[404.69406],\n",
       "       [622.7475 ],\n",
       "       [591.35675],\n",
       "       [571.5058 ],\n",
       "       [366.10446],\n",
       "       [578.43445],\n",
       "       [514.4056 ],\n",
       "       [458.44452],\n",
       "       [548.5446 ],\n",
       "       [446.8633 ],\n",
       "       [611.0031 ],\n",
       "       [548.17267],\n",
       "       [418.4956 ],\n",
       "       [408.28235],\n",
       "       [650.3742 ],\n",
       "       [436.66125],\n",
       "       [507.72363],\n",
       "       [659.1485 ],\n",
       "       [661.77435],\n",
       "       [564.7784 ],\n",
       "       [333.72107],\n",
       "       [444.2058 ],\n",
       "       [381.96985],\n",
       "       [378.1812 ],\n",
       "       [565.858  ],\n",
       "       [609.83746],\n",
       "       [531.6883 ],\n",
       "       [427.24   ],\n",
       "       [654.6525 ],\n",
       "       [413.4591 ],\n",
       "       [441.98846],\n",
       "       [484.4605 ],\n",
       "       [437.78552],\n",
       "       [681.0262 ],\n",
       "       [424.11316],\n",
       "       [417.10025],\n",
       "       [501.19305],\n",
       "       [549.7454 ],\n",
       "       [509.08163],\n",
       "       [394.817  ],\n",
       "       [617.7933 ],\n",
       "       [416.00867],\n",
       "       [603.666  ],\n",
       "       [445.2936 ],\n",
       "       [501.30774],\n",
       "       [580.9089 ],\n",
       "       [668.1294 ],\n",
       "       [489.71204],\n",
       "       [318.0396 ],\n",
       "       [484.7646 ],\n",
       "       [516.5607 ],\n",
       "       [381.1948 ],\n",
       "       [541.1546 ],\n",
       "       [407.995  ],\n",
       "       [640.69965],\n",
       "       [490.41364],\n",
       "       [627.1873 ],\n",
       "       [626.1652 ],\n",
       "       [446.4356 ],\n",
       "       [484.06165],\n",
       "       [490.4831 ],\n",
       "       [473.87042],\n",
       "       [681.9362 ],\n",
       "       [402.71252],\n",
       "       [700.2727 ],\n",
       "       [585.6557 ],\n",
       "       [582.3626 ],\n",
       "       [537.12225],\n",
       "       [483.913  ],\n",
       "       [515.8909 ],\n",
       "       [360.6642 ],\n",
       "       [540.04034],\n",
       "       [569.899  ],\n",
       "       [527.7034 ],\n",
       "       [453.0755 ],\n",
       "       [530.42126],\n",
       "       [506.49445],\n",
       "       [442.73584],\n",
       "       [542.65985],\n",
       "       [639.9157 ],\n",
       "       [465.41135],\n",
       "       [566.50836],\n",
       "       [689.8827 ],\n",
       "       [458.11093],\n",
       "       [708.0364 ],\n",
       "       [472.04822],\n",
       "       [402.6508 ],\n",
       "       [584.35333],\n",
       "       [436.09583],\n",
       "       [488.2766 ],\n",
       "       [616.2447 ],\n",
       "       [438.82925],\n",
       "       [454.71893],\n",
       "       [434.6491 ],\n",
       "       [506.2594 ],\n",
       "       [607.68585],\n",
       "       [321.11548],\n",
       "       [435.63828],\n",
       "       [535.6204 ],\n",
       "       [517.964  ],\n",
       "       [604.31366],\n",
       "       [524.7569 ],\n",
       "       [333.57837],\n",
       "       [575.38275],\n",
       "       [431.22318],\n",
       "       [561.7674 ],\n",
       "       [512.71094],\n",
       "       [390.52197],\n",
       "       [565.5656 ],\n",
       "       [454.11432],\n",
       "       [447.87128],\n",
       "       [640.15356],\n",
       "       [523.64984],\n",
       "       [549.94073],\n",
       "       [417.09335],\n",
       "       [478.09363],\n",
       "       [585.7685 ],\n",
       "       [666.5717 ],\n",
       "       [699.6263 ],\n",
       "       [658.6257 ],\n",
       "       [559.83575],\n",
       "       [502.47165],\n",
       "       [389.81195],\n",
       "       [280.87616],\n",
       "       [478.94482],\n",
       "       [615.55676],\n",
       "       [372.71515],\n",
       "       [511.57245],\n",
       "       [510.3824 ],\n",
       "       [492.8366 ],\n",
       "       [479.7992 ],\n",
       "       [423.21875],\n",
       "       [492.79926],\n",
       "       [470.81702],\n",
       "       [599.64435],\n",
       "       [572.78986],\n",
       "       [414.41223],\n",
       "       [629.84674],\n",
       "       [465.70886],\n",
       "       [563.5833 ],\n",
       "       [405.09955],\n",
       "       [531.4767 ],\n",
       "       [571.9012 ],\n",
       "       [356.54907],\n",
       "       [549.1313 ],\n",
       "       [602.5922 ],\n",
       "       [383.74237],\n",
       "       [541.7055 ],\n",
       "       [561.862  ],\n",
       "       [452.22662],\n",
       "       [631.4086 ],\n",
       "       [371.73224],\n",
       "       [473.62665],\n",
       "       [528.2026 ],\n",
       "       [371.72375],\n",
       "       [460.6247 ],\n",
       "       [435.72183],\n",
       "       [497.82727],\n",
       "       [345.54498],\n",
       "       [394.68903],\n",
       "       [603.80133],\n",
       "       [505.96246],\n",
       "       [467.97607],\n",
       "       [489.6806 ],\n",
       "       [534.536  ],\n",
       "       [343.9735 ],\n",
       "       [511.5761 ],\n",
       "       [250.3356 ],\n",
       "       [503.40906],\n",
       "       [540.4368 ],\n",
       "       [488.71463],\n",
       "       [470.38666],\n",
       "       [391.9654 ],\n",
       "       [415.6086 ],\n",
       "       [548.873  ],\n",
       "       [475.17224],\n",
       "       [579.23065],\n",
       "       [489.141  ],\n",
       "       [600.26776],\n",
       "       [546.2591 ],\n",
       "       [541.23596],\n",
       "       [499.90448],\n",
       "       [645.04596],\n",
       "       [559.6995 ],\n",
       "       [577.14557],\n",
       "       [443.46576],\n",
       "       [414.88974],\n",
       "       [419.4673 ],\n",
       "       [568.3632 ],\n",
       "       [608.25836],\n",
       "       [437.1164 ],\n",
       "       [487.29626],\n",
       "       [587.03485],\n",
       "       [524.7115 ],\n",
       "       [356.82806],\n",
       "       [644.63385],\n",
       "       [527.3585 ],\n",
       "       [336.68338],\n",
       "       [492.02936],\n",
       "       [409.52948],\n",
       "       [605.82574],\n",
       "       [345.9641 ],\n",
       "       [521.69403],\n",
       "       [404.0848 ],\n",
       "       [258.0105 ],\n",
       "       [519.18536],\n",
       "       [340.31152],\n",
       "       [361.53433],\n",
       "       [575.6428 ],\n",
       "       [416.04205],\n",
       "       [550.28766],\n",
       "       [520.40936],\n",
       "       [510.14996],\n",
       "       [324.22214],\n",
       "       [403.6064 ],\n",
       "       [601.66516],\n",
       "       [617.10657],\n",
       "       [602.56433],\n",
       "       [565.5208 ],\n",
       "       [472.80707],\n",
       "       [459.72656],\n",
       "       [507.7589 ],\n",
       "       [445.25464],\n",
       "       [510.59277],\n",
       "       [501.74994],\n",
       "       [399.53662],\n",
       "       [604.76605],\n",
       "       [257.68573],\n",
       "       [627.4527 ],\n",
       "       [588.3228 ],\n",
       "       [326.60138],\n",
       "       [478.9234 ],\n",
       "       [594.57874],\n",
       "       [377.82275],\n",
       "       [459.52103],\n",
       "       [324.46124],\n",
       "       [517.9739 ],\n",
       "       [408.9845 ],\n",
       "       [555.5129 ],\n",
       "       [641.0784 ],\n",
       "       [536.1258 ],\n",
       "       [502.4832 ],\n",
       "       [634.2175 ],\n",
       "       [514.5376 ],\n",
       "       [531.00806],\n",
       "       [518.1614 ],\n",
       "       [456.79532],\n",
       "       [505.12003],\n",
       "       [460.45428],\n",
       "       [590.9007 ],\n",
       "       [465.28073],\n",
       "       [426.59766],\n",
       "       [540.912  ],\n",
       "       [493.1421 ],\n",
       "       [678.1356 ],\n",
       "       [372.21008],\n",
       "       [550.8902 ],\n",
       "       [577.221  ],\n",
       "       [433.37692],\n",
       "       [542.3294 ],\n",
       "       [585.21295],\n",
       "       [578.472  ],\n",
       "       [720.07764],\n",
       "       [432.17297],\n",
       "       [397.99344],\n",
       "       [313.4818 ],\n",
       "       [447.6716 ],\n",
       "       [387.46716],\n",
       "       [542.51495],\n",
       "       [522.0516 ],\n",
       "       [563.70996],\n",
       "       [447.38428],\n",
       "       [533.69183],\n",
       "       [381.21182],\n",
       "       [500.83337],\n",
       "       [636.3347 ],\n",
       "       [495.8369 ],\n",
       "       [567.676  ],\n",
       "       [469.48315],\n",
       "       [272.78143],\n",
       "       [516.6964 ],\n",
       "       [620.6304 ],\n",
       "       [349.97205],\n",
       "       [449.85364],\n",
       "       [498.63654],\n",
       "       [542.2652 ],\n",
       "       [611.03253],\n",
       "       [387.64426],\n",
       "       [448.81406],\n",
       "       [481.7423 ],\n",
       "       [597.5684 ],\n",
       "       [498.74658],\n",
       "       [320.93945],\n",
       "       [554.42535],\n",
       "       [444.0025 ],\n",
       "       [528.3597 ],\n",
       "       [514.7164 ],\n",
       "       [608.8665 ],\n",
       "       [416.32605],\n",
       "       [410.2938 ]], dtype=float32)"
      ]
     },
     "execution_count": 30,
     "metadata": {},
     "output_type": "execute_result"
    }
   ],
   "source": [
    "test_predictions #Here we see a list of prizes based on X_test set Numpy Array"
   ]
  },
  {
   "cell_type": "markdown",
   "id": "a32974cf",
   "metadata": {},
   "source": [
    "We can compare these values with the true values (y_test) by plotign them. For this we need to turn our numpy array (test_predictions) into a pandas series and creat a DataFrame with the y_test."
   ]
  },
  {
   "cell_type": "code",
   "execution_count": 31,
   "id": "800ec803",
   "metadata": {},
   "outputs": [],
   "source": [
    "test_predictions = pd.Series(test_predictions.reshape(300,))"
   ]
  },
  {
   "cell_type": "code",
   "execution_count": 32,
   "id": "2286c4de",
   "metadata": {},
   "outputs": [],
   "source": [
    "#test_predictions"
   ]
  },
  {
   "cell_type": "code",
   "execution_count": 33,
   "id": "e96ca259",
   "metadata": {},
   "outputs": [],
   "source": [
    "pred_df = pd.DataFrame(y_test, columns=['Test True y'])"
   ]
  },
  {
   "cell_type": "code",
   "execution_count": 34,
   "id": "e48da7e4",
   "metadata": {},
   "outputs": [],
   "source": [
    "pred_df = pd.concat([pred_df,test_predictions], axis=1)"
   ]
  },
  {
   "cell_type": "code",
   "execution_count": 35,
   "id": "1ffc6486",
   "metadata": {},
   "outputs": [],
   "source": [
    "pred_df.columns = ['Test True y', 'Model predictions']"
   ]
  },
  {
   "cell_type": "code",
   "execution_count": 36,
   "id": "21f4af17",
   "metadata": {},
   "outputs": [
    {
     "data": {
      "text/plain": [
       "<matplotlib.axes._subplots.AxesSubplot at 0x7f6a9c7f83d0>"
      ]
     },
     "execution_count": 36,
     "metadata": {},
     "output_type": "execute_result"
    },
    {
     "data": {
      "image/png": "[encoded data removed]",
      "text/plain": [
       "<Figure size 432x288 with 1 Axes>"
      ]
     },
     "metadata": {
      "needs_background": "light"
     },
     "output_type": "display_data"
    }
   ],
   "source": [
    "sns.scatterplot(data=pred_df, x = 'Test True y', y='Model predictions')"
   ]
  },
  {
   "cell_type": "markdown",
   "id": "fa62d9c5",
   "metadata": {},
   "source": [
    "We observe that our model predcits quite well"
   ]
  },
  {
   "cell_type": "code",
   "execution_count": 37,
   "id": "2d5e41b0",
   "metadata": {},
   "outputs": [],
   "source": [
    "from sklearn.metrics import mean_absolute_error, mean_squared_error"
   ]
  },
  {
   "cell_type": "code",
   "execution_count": 38,
   "id": "55b795b4",
   "metadata": {},
   "outputs": [
    {
     "data": {
      "text/plain": [
       "4.027820661422438"
      ]
     },
     "execution_count": 38,
     "metadata": {},
     "output_type": "execute_result"
    }
   ],
   "source": [
    "mean_absolute_error(pred_df['Test True y'], pred_df['Model predictions'])"
   ]
  },
  {
   "cell_type": "markdown",
   "id": "bf8ceeac",
   "metadata": {},
   "source": [
    "Tiene sentido que el mse sea igual al obtenido al evaluar el model con .evaluate"
   ]
  },
  {
   "cell_type": "code",
   "execution_count": 39,
   "id": "10a4497b",
   "metadata": {},
   "outputs": [
    {
     "data": {
      "text/plain": [
       "25.284222033368724"
      ]
     },
     "execution_count": 39,
     "metadata": {},
     "output_type": "execute_result"
    }
   ],
   "source": [
    "mean_squared_error(pred_df['Test True y'], pred_df['Model predictions'])"
   ]
  },
  {
   "cell_type": "markdown",
   "id": "01788f42",
   "metadata": {},
   "source": [
    "Para obtener el root mean squared error, simplemente:"
   ]
  },
  {
   "cell_type": "code",
   "execution_count": 40,
   "id": "356e4ad5",
   "metadata": {},
   "outputs": [
    {
     "data": {
      "text/plain": [
       "5.028341877136908"
      ]
     },
     "execution_count": 40,
     "metadata": {},
     "output_type": "execute_result"
    }
   ],
   "source": [
    "mean_squared_error(pred_df['Test True y'], pred_df['Model predictions'])**0.5"
   ]
  },
  {
   "cell_type": "markdown",
   "id": "dbad1e3a",
   "metadata": {},
   "source": [
    "Para saber si es un buen error o no, lo comparamos con el valor medio del precio. Observamos que el valor medio es 498 y nuestro error absoluto es 4, es decir el 1%"
   ]
  },
  {
   "cell_type": "code",
   "execution_count": 41,
   "id": "095fc25b",
   "metadata": {},
   "outputs": [
    {
     "data": {
      "text/html": [
       "<div>\n",
       "<style scoped>\n",
       "    .dataframe tbody tr th:only-of-type {\n",
       "        vertical-align: middle;\n",
       "    }\n",
       "\n",
       "    .dataframe tbody tr th {\n",
       "        vertical-align: top;\n",
       "    }\n",
       "\n",
       "    .dataframe thead th {\n",
       "        text-align: right;\n",
       "    }\n",
       "</style>\n",
       "<table border=\"1\" class=\"dataframe\">\n",
       "  <thead>\n",
       "    <tr style=\"text-align: right;\">\n",
       "      <th></th>\n",
       "      <th>price</th>\n",
       "      <th>feature1</th>\n",
       "      <th>feature2</th>\n",
       "    </tr>\n",
       "  </thead>\n",
       "  <tbody>\n",
       "    <tr>\n",
       "      <th>count</th>\n",
       "      <td>1000.000000</td>\n",
       "      <td>1000.000000</td>\n",
       "      <td>1000.000000</td>\n",
       "    </tr>\n",
       "    <tr>\n",
       "      <th>mean</th>\n",
       "      <td>498.673029</td>\n",
       "      <td>1000.014171</td>\n",
       "      <td>999.979847</td>\n",
       "    </tr>\n",
       "    <tr>\n",
       "      <th>std</th>\n",
       "      <td>93.785431</td>\n",
       "      <td>0.974018</td>\n",
       "      <td>0.948330</td>\n",
       "    </tr>\n",
       "    <tr>\n",
       "      <th>min</th>\n",
       "      <td>223.346793</td>\n",
       "      <td>997.058347</td>\n",
       "      <td>996.995651</td>\n",
       "    </tr>\n",
       "    <tr>\n",
       "      <th>25%</th>\n",
       "      <td>433.025732</td>\n",
       "      <td>999.332068</td>\n",
       "      <td>999.316106</td>\n",
       "    </tr>\n",
       "    <tr>\n",
       "      <th>50%</th>\n",
       "      <td>502.382117</td>\n",
       "      <td>1000.009915</td>\n",
       "      <td>1000.002243</td>\n",
       "    </tr>\n",
       "    <tr>\n",
       "      <th>75%</th>\n",
       "      <td>564.921588</td>\n",
       "      <td>1000.637580</td>\n",
       "      <td>1000.645380</td>\n",
       "    </tr>\n",
       "    <tr>\n",
       "      <th>max</th>\n",
       "      <td>774.407854</td>\n",
       "      <td>1003.207934</td>\n",
       "      <td>1002.666308</td>\n",
       "    </tr>\n",
       "  </tbody>\n",
       "</table>\n",
       "</div>"
      ],
      "text/plain": [
       "             price     feature1     feature2\n",
       "count  1000.000000  1000.000000  1000.000000\n",
       "mean    498.673029  1000.014171   999.979847\n",
       "std      93.785431     0.974018     0.948330\n",
       "min     223.346793   997.058347   996.995651\n",
       "25%     433.025732   999.332068   999.316106\n",
       "50%     502.382117  1000.009915  1000.002243\n",
       "75%     564.921588  1000.637580  1000.645380\n",
       "max     774.407854  1003.207934  1002.666308"
      ]
     },
     "execution_count": 41,
     "metadata": {},
     "output_type": "execute_result"
    }
   ],
   "source": [
    "df.describe()"
   ]
  },
  {
   "cell_type": "markdown",
   "id": "52805f97",
   "metadata": {},
   "source": [
    "Vamos ver como funciona nuestro modelo con datos nuevos. Es decir, si quiero poner mi casa a la venta basándome en feature1 y feature2, y obtener un precio al que debería piner mi casa"
   ]
  },
  {
   "cell_type": "code",
   "execution_count": 42,
   "id": "b7a5184b",
   "metadata": {},
   "outputs": [],
   "source": [
    "new_gem = [[998,1000]]"
   ]
  },
  {
   "cell_type": "code",
   "execution_count": 43,
   "id": "2e783a16",
   "metadata": {},
   "outputs": [],
   "source": [
    "new_gem = scaler.transform(new_gem)"
   ]
  },
  {
   "cell_type": "code",
   "execution_count": 44,
   "id": "4328d11c",
   "metadata": {},
   "outputs": [
    {
     "name": "stdout",
     "output_type": "stream",
     "text": [
      "1/1 [==============================] - 0s 16ms/step\n"
     ]
    },
    {
     "data": {
      "text/plain": [
       "array([[419.12335]], dtype=float32)"
      ]
     },
     "execution_count": 44,
     "metadata": {},
     "output_type": "execute_result"
    }
   ],
   "source": [
    "model.predict(new_gem)"
   ]
  },
  {
   "cell_type": "markdown",
   "id": "f58150d6",
   "metadata": {},
   "source": [
    "If our model did it pretty well we can save it"
   ]
  },
  {
   "cell_type": "code",
   "execution_count": 45,
   "id": "bcd70a91",
   "metadata": {},
   "outputs": [],
   "source": [
    "from tensorflow.keras.models import load_model"
   ]
  },
  {
   "cell_type": "markdown",
   "id": "531ddcfa",
   "metadata": {},
   "source": [
    "   we save it as   \n",
    "   \n",
    "   name_of_the_model.save('the name we want to put.h5')"
   ]
  },
  {
   "cell_type": "code",
   "execution_count": 46,
   "id": "85b70ab6",
   "metadata": {},
   "outputs": [
    {
     "name": "stderr",
     "output_type": "stream",
     "text": [
      "/home/hector/.local/lib/python3.8/site-packages/keras/src/engine/training.py:3000: UserWarning: You are saving your model as an HDF5 file via `model.save()`. This file format is considered legacy. We recommend using instead the native Keras format, e.g. `model.save('my_model.keras')`.\n",
      "  saving_api.save_model(\n"
     ]
    }
   ],
   "source": [
    "model.save('my_gem_model.h5')"
   ]
  },
  {
   "cell_type": "code",
   "execution_count": 47,
   "id": "a96113d9",
   "metadata": {},
   "outputs": [],
   "source": [
    "hector_model=load_model('my_gem_model.h5')"
   ]
  },
  {
   "cell_type": "code",
   "execution_count": 48,
   "id": "0e6fd0a3",
   "metadata": {},
   "outputs": [
    {
     "name": "stdout",
     "output_type": "stream",
     "text": [
      "1/1 [==============================] - 0s 62ms/step\n"
     ]
    },
    {
     "data": {
      "text/plain": [
       "array([[419.12335]], dtype=float32)"
      ]
     },
     "execution_count": 48,
     "metadata": {},
     "output_type": "execute_result"
    }
   ],
   "source": [
    "hector_model.predict(new_gem)"
   ]
  },
  {
   "cell_type": "code",
   "execution_count": null,
   "id": "37671aaf",
   "metadata": {},
   "outputs": [],
   "source": []
  }
 ],
 "metadata": {
  "kernelspec": {
   "display_name": "Python 3 (ipykernel)",
   "language": "python",
   "name": "python3"
  },
  "language_info": {
   "codemirror_mode": {
    "name": "ipython",
    "version": 3
   },
   "file_extension": ".py",
   "mimetype": "text/x-python",
   "name": "python",
   "nbconvert_exporter": "python",
   "pygments_lexer": "ipython3",
   "version": "3.8.10"
  }
 },
 "nbformat": 4,
 "nbformat_minor": 5
}
