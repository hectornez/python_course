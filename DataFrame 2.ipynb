{
 "cells": [
  {
   "cell_type": "code",
   "execution_count": 1,
   "id": "6e52c2ad",
   "metadata": {},
   "outputs": [],
   "source": [
    "import pandas as pd\n",
    "import numpy as np"
   ]
  },
  {
   "cell_type": "code",
   "execution_count": 2,
   "id": "a9d2b96e",
   "metadata": {},
   "outputs": [],
   "source": [
    "df=pd.DataFrame(np.random.randn(5,4), ['A','B','C','D','E'], ['W','X','Y','Z'])"
   ]
  },
  {
   "cell_type": "code",
   "execution_count": 3,
   "id": "e29ffee9",
   "metadata": {},
   "outputs": [
    {
     "data": {
      "text/html": [
       "<div>\n",
       "<style scoped>\n",
       "    .dataframe tbody tr th:only-of-type {\n",
       "        vertical-align: middle;\n",
       "    }\n",
       "\n",
       "    .dataframe tbody tr th {\n",
       "        vertical-align: top;\n",
       "    }\n",
       "\n",
       "    .dataframe thead th {\n",
       "        text-align: right;\n",
       "    }\n",
       "</style>\n",
       "<table border=\"1\" class=\"dataframe\">\n",
       "  <thead>\n",
       "    <tr style=\"text-align: right;\">\n",
       "      <th></th>\n",
       "      <th>W</th>\n",
       "      <th>X</th>\n",
       "      <th>Y</th>\n",
       "      <th>Z</th>\n",
       "    </tr>\n",
       "  </thead>\n",
       "  <tbody>\n",
       "    <tr>\n",
       "      <th>A</th>\n",
       "      <td>0.710379</td>\n",
       "      <td>0.399620</td>\n",
       "      <td>0.236158</td>\n",
       "      <td>-1.098532</td>\n",
       "    </tr>\n",
       "    <tr>\n",
       "      <th>B</th>\n",
       "      <td>-1.116127</td>\n",
       "      <td>-0.609011</td>\n",
       "      <td>-0.629639</td>\n",
       "      <td>-1.260278</td>\n",
       "    </tr>\n",
       "    <tr>\n",
       "      <th>C</th>\n",
       "      <td>2.214904</td>\n",
       "      <td>-0.121102</td>\n",
       "      <td>-0.266826</td>\n",
       "      <td>2.386064</td>\n",
       "    </tr>\n",
       "    <tr>\n",
       "      <th>D</th>\n",
       "      <td>0.508682</td>\n",
       "      <td>-0.073277</td>\n",
       "      <td>0.243183</td>\n",
       "      <td>-0.187598</td>\n",
       "    </tr>\n",
       "    <tr>\n",
       "      <th>E</th>\n",
       "      <td>-0.649942</td>\n",
       "      <td>1.044754</td>\n",
       "      <td>-0.424327</td>\n",
       "      <td>0.343274</td>\n",
       "    </tr>\n",
       "  </tbody>\n",
       "</table>\n",
       "</div>"
      ],
      "text/plain": [
       "          W         X         Y         Z\n",
       "A  0.710379  0.399620  0.236158 -1.098532\n",
       "B -1.116127 -0.609011 -0.629639 -1.260278\n",
       "C  2.214904 -0.121102 -0.266826  2.386064\n",
       "D  0.508682 -0.073277  0.243183 -0.187598\n",
       "E -0.649942  1.044754 -0.424327  0.343274"
      ]
     },
     "execution_count": 3,
     "metadata": {},
     "output_type": "execute_result"
    }
   ],
   "source": [
    "df"
   ]
  },
  {
   "cell_type": "markdown",
   "id": "cce812b1",
   "metadata": {},
   "source": [
    "CONDITIONAL SELECTION"
   ]
  },
  {
   "cell_type": "code",
   "execution_count": 4,
   "id": "84eb9730",
   "metadata": {},
   "outputs": [
    {
     "data": {
      "text/html": [
       "<div>\n",
       "<style scoped>\n",
       "    .dataframe tbody tr th:only-of-type {\n",
       "        vertical-align: middle;\n",
       "    }\n",
       "\n",
       "    .dataframe tbody tr th {\n",
       "        vertical-align: top;\n",
       "    }\n",
       "\n",
       "    .dataframe thead th {\n",
       "        text-align: right;\n",
       "    }\n",
       "</style>\n",
       "<table border=\"1\" class=\"dataframe\">\n",
       "  <thead>\n",
       "    <tr style=\"text-align: right;\">\n",
       "      <th></th>\n",
       "      <th>W</th>\n",
       "      <th>X</th>\n",
       "      <th>Y</th>\n",
       "      <th>Z</th>\n",
       "    </tr>\n",
       "  </thead>\n",
       "  <tbody>\n",
       "    <tr>\n",
       "      <th>A</th>\n",
       "      <td>True</td>\n",
       "      <td>True</td>\n",
       "      <td>True</td>\n",
       "      <td>False</td>\n",
       "    </tr>\n",
       "    <tr>\n",
       "      <th>B</th>\n",
       "      <td>False</td>\n",
       "      <td>False</td>\n",
       "      <td>False</td>\n",
       "      <td>False</td>\n",
       "    </tr>\n",
       "    <tr>\n",
       "      <th>C</th>\n",
       "      <td>True</td>\n",
       "      <td>False</td>\n",
       "      <td>False</td>\n",
       "      <td>True</td>\n",
       "    </tr>\n",
       "    <tr>\n",
       "      <th>D</th>\n",
       "      <td>True</td>\n",
       "      <td>False</td>\n",
       "      <td>True</td>\n",
       "      <td>False</td>\n",
       "    </tr>\n",
       "    <tr>\n",
       "      <th>E</th>\n",
       "      <td>False</td>\n",
       "      <td>True</td>\n",
       "      <td>False</td>\n",
       "      <td>True</td>\n",
       "    </tr>\n",
       "  </tbody>\n",
       "</table>\n",
       "</div>"
      ],
      "text/plain": [
       "       W      X      Y      Z\n",
       "A   True   True   True  False\n",
       "B  False  False  False  False\n",
       "C   True  False  False   True\n",
       "D   True  False   True  False\n",
       "E  False   True  False   True"
      ]
     },
     "execution_count": 4,
     "metadata": {},
     "output_type": "execute_result"
    }
   ],
   "source": [
    "df > 0 ## THis returns a matrice of booleans of the values that satify the condition"
   ]
  },
  {
   "cell_type": "code",
   "execution_count": 5,
   "id": "9432e570",
   "metadata": {},
   "outputs": [],
   "source": [
    "# In addition, we get the martice of  the values which satisfy the condition\n",
    "# by seting the condition as a variable and then using df[] \n",
    "\n",
    "booldf = df>0"
   ]
  },
  {
   "cell_type": "code",
   "execution_count": 6,
   "id": "129d315b",
   "metadata": {},
   "outputs": [
    {
     "data": {
      "text/html": [
       "<div>\n",
       "<style scoped>\n",
       "    .dataframe tbody tr th:only-of-type {\n",
       "        vertical-align: middle;\n",
       "    }\n",
       "\n",
       "    .dataframe tbody tr th {\n",
       "        vertical-align: top;\n",
       "    }\n",
       "\n",
       "    .dataframe thead th {\n",
       "        text-align: right;\n",
       "    }\n",
       "</style>\n",
       "<table border=\"1\" class=\"dataframe\">\n",
       "  <thead>\n",
       "    <tr style=\"text-align: right;\">\n",
       "      <th></th>\n",
       "      <th>W</th>\n",
       "      <th>X</th>\n",
       "      <th>Y</th>\n",
       "      <th>Z</th>\n",
       "    </tr>\n",
       "  </thead>\n",
       "  <tbody>\n",
       "    <tr>\n",
       "      <th>A</th>\n",
       "      <td>0.710379</td>\n",
       "      <td>0.399620</td>\n",
       "      <td>0.236158</td>\n",
       "      <td>NaN</td>\n",
       "    </tr>\n",
       "    <tr>\n",
       "      <th>B</th>\n",
       "      <td>NaN</td>\n",
       "      <td>NaN</td>\n",
       "      <td>NaN</td>\n",
       "      <td>NaN</td>\n",
       "    </tr>\n",
       "    <tr>\n",
       "      <th>C</th>\n",
       "      <td>2.214904</td>\n",
       "      <td>NaN</td>\n",
       "      <td>NaN</td>\n",
       "      <td>2.386064</td>\n",
       "    </tr>\n",
       "    <tr>\n",
       "      <th>D</th>\n",
       "      <td>0.508682</td>\n",
       "      <td>NaN</td>\n",
       "      <td>0.243183</td>\n",
       "      <td>NaN</td>\n",
       "    </tr>\n",
       "    <tr>\n",
       "      <th>E</th>\n",
       "      <td>NaN</td>\n",
       "      <td>1.044754</td>\n",
       "      <td>NaN</td>\n",
       "      <td>0.343274</td>\n",
       "    </tr>\n",
       "  </tbody>\n",
       "</table>\n",
       "</div>"
      ],
      "text/plain": [
       "          W         X         Y         Z\n",
       "A  0.710379  0.399620  0.236158       NaN\n",
       "B       NaN       NaN       NaN       NaN\n",
       "C  2.214904       NaN       NaN  2.386064\n",
       "D  0.508682       NaN  0.243183       NaN\n",
       "E       NaN  1.044754       NaN  0.343274"
      ]
     },
     "execution_count": 6,
     "metadata": {},
     "output_type": "execute_result"
    }
   ],
   "source": [
    "df[booldf]"
   ]
  },
  {
   "cell_type": "code",
   "execution_count": 7,
   "id": "665dea5f",
   "metadata": {},
   "outputs": [
    {
     "data": {
      "text/html": [
       "<div>\n",
       "<style scoped>\n",
       "    .dataframe tbody tr th:only-of-type {\n",
       "        vertical-align: middle;\n",
       "    }\n",
       "\n",
       "    .dataframe tbody tr th {\n",
       "        vertical-align: top;\n",
       "    }\n",
       "\n",
       "    .dataframe thead th {\n",
       "        text-align: right;\n",
       "    }\n",
       "</style>\n",
       "<table border=\"1\" class=\"dataframe\">\n",
       "  <thead>\n",
       "    <tr style=\"text-align: right;\">\n",
       "      <th></th>\n",
       "      <th>W</th>\n",
       "      <th>X</th>\n",
       "      <th>Y</th>\n",
       "      <th>Z</th>\n",
       "    </tr>\n",
       "  </thead>\n",
       "  <tbody>\n",
       "    <tr>\n",
       "      <th>A</th>\n",
       "      <td>0.710379</td>\n",
       "      <td>0.399620</td>\n",
       "      <td>0.236158</td>\n",
       "      <td>-1.098532</td>\n",
       "    </tr>\n",
       "    <tr>\n",
       "      <th>C</th>\n",
       "      <td>2.214904</td>\n",
       "      <td>-0.121102</td>\n",
       "      <td>-0.266826</td>\n",
       "      <td>2.386064</td>\n",
       "    </tr>\n",
       "    <tr>\n",
       "      <th>D</th>\n",
       "      <td>0.508682</td>\n",
       "      <td>-0.073277</td>\n",
       "      <td>0.243183</td>\n",
       "      <td>-0.187598</td>\n",
       "    </tr>\n",
       "  </tbody>\n",
       "</table>\n",
       "</div>"
      ],
      "text/plain": [
       "          W         X         Y         Z\n",
       "A  0.710379  0.399620  0.236158 -1.098532\n",
       "C  2.214904 -0.121102 -0.266826  2.386064\n",
       "D  0.508682 -0.073277  0.243183 -0.187598"
      ]
     },
     "execution_count": 7,
     "metadata": {},
     "output_type": "execute_result"
    }
   ],
   "source": [
    "df[df['W']>0] #Here this will return the values of the rows where the value in 'W' is positive,"
   ]
  },
  {
   "cell_type": "code",
   "execution_count": 8,
   "id": "4573d2d9",
   "metadata": {},
   "outputs": [],
   "source": [
    "## As we can see, the rows B and E were negative in the col 'W' so they have been removed\n"
   ]
  },
  {
   "cell_type": "code",
   "execution_count": 9,
   "id": "493ef0b6",
   "metadata": {},
   "outputs": [],
   "source": [
    "resultdf = df[df['W']>0]"
   ]
  },
  {
   "cell_type": "code",
   "execution_count": 10,
   "id": "e2c045fb",
   "metadata": {},
   "outputs": [
    {
     "data": {
      "text/html": [
       "<div>\n",
       "<style scoped>\n",
       "    .dataframe tbody tr th:only-of-type {\n",
       "        vertical-align: middle;\n",
       "    }\n",
       "\n",
       "    .dataframe tbody tr th {\n",
       "        vertical-align: top;\n",
       "    }\n",
       "\n",
       "    .dataframe thead th {\n",
       "        text-align: right;\n",
       "    }\n",
       "</style>\n",
       "<table border=\"1\" class=\"dataframe\">\n",
       "  <thead>\n",
       "    <tr style=\"text-align: right;\">\n",
       "      <th></th>\n",
       "      <th>W</th>\n",
       "      <th>X</th>\n",
       "      <th>Y</th>\n",
       "      <th>Z</th>\n",
       "    </tr>\n",
       "  </thead>\n",
       "  <tbody>\n",
       "    <tr>\n",
       "      <th>A</th>\n",
       "      <td>0.710379</td>\n",
       "      <td>0.399620</td>\n",
       "      <td>0.236158</td>\n",
       "      <td>-1.098532</td>\n",
       "    </tr>\n",
       "    <tr>\n",
       "      <th>C</th>\n",
       "      <td>2.214904</td>\n",
       "      <td>-0.121102</td>\n",
       "      <td>-0.266826</td>\n",
       "      <td>2.386064</td>\n",
       "    </tr>\n",
       "    <tr>\n",
       "      <th>D</th>\n",
       "      <td>0.508682</td>\n",
       "      <td>-0.073277</td>\n",
       "      <td>0.243183</td>\n",
       "      <td>-0.187598</td>\n",
       "    </tr>\n",
       "  </tbody>\n",
       "</table>\n",
       "</div>"
      ],
      "text/plain": [
       "          W         X         Y         Z\n",
       "A  0.710379  0.399620  0.236158 -1.098532\n",
       "C  2.214904 -0.121102 -0.266826  2.386064\n",
       "D  0.508682 -0.073277  0.243183 -0.187598"
      ]
     },
     "execution_count": 10,
     "metadata": {},
     "output_type": "execute_result"
    }
   ],
   "source": [
    "resultdf"
   ]
  },
  {
   "cell_type": "code",
   "execution_count": 11,
   "id": "5dd9ccc9",
   "metadata": {},
   "outputs": [
    {
     "data": {
      "text/plain": [
       "A   -1.098532\n",
       "C    2.386064\n",
       "D   -0.187598\n",
       "Name: Z, dtype: float64"
      ]
     },
     "execution_count": 11,
     "metadata": {},
     "output_type": "execute_result"
    }
   ],
   "source": [
    "resultdf['Z']"
   ]
  },
  {
   "cell_type": "code",
   "execution_count": 12,
   "id": "994e6e66",
   "metadata": {},
   "outputs": [
    {
     "data": {
      "text/plain": [
       "A   -1.098532\n",
       "C    2.386064\n",
       "D   -0.187598\n",
       "Name: Z, dtype: float64"
      ]
     },
     "execution_count": 12,
     "metadata": {},
     "output_type": "execute_result"
    }
   ],
   "source": [
    "### We can carry out the last three lines of code in just one line\n",
    "df[df['W']>0]['Z']"
   ]
  },
  {
   "cell_type": "code",
   "execution_count": 13,
   "id": "fb57055a",
   "metadata": {},
   "outputs": [
    {
     "data": {
      "text/html": [
       "<div>\n",
       "<style scoped>\n",
       "    .dataframe tbody tr th:only-of-type {\n",
       "        vertical-align: middle;\n",
       "    }\n",
       "\n",
       "    .dataframe tbody tr th {\n",
       "        vertical-align: top;\n",
       "    }\n",
       "\n",
       "    .dataframe thead th {\n",
       "        text-align: right;\n",
       "    }\n",
       "</style>\n",
       "<table border=\"1\" class=\"dataframe\">\n",
       "  <thead>\n",
       "    <tr style=\"text-align: right;\">\n",
       "      <th></th>\n",
       "      <th>Y</th>\n",
       "      <th>Z</th>\n",
       "    </tr>\n",
       "  </thead>\n",
       "  <tbody>\n",
       "    <tr>\n",
       "      <th>A</th>\n",
       "      <td>0.236158</td>\n",
       "      <td>-1.098532</td>\n",
       "    </tr>\n",
       "    <tr>\n",
       "      <th>C</th>\n",
       "      <td>-0.266826</td>\n",
       "      <td>2.386064</td>\n",
       "    </tr>\n",
       "    <tr>\n",
       "      <th>D</th>\n",
       "      <td>0.243183</td>\n",
       "      <td>-0.187598</td>\n",
       "    </tr>\n",
       "  </tbody>\n",
       "</table>\n",
       "</div>"
      ],
      "text/plain": [
       "          Y         Z\n",
       "A  0.236158 -1.098532\n",
       "C -0.266826  2.386064\n",
       "D  0.243183 -0.187598"
      ]
     },
     "execution_count": 13,
     "metadata": {},
     "output_type": "execute_result"
    }
   ],
   "source": [
    "resultdf[['Y', 'Z']]"
   ]
  },
  {
   "cell_type": "markdown",
   "id": "932259e1",
   "metadata": {},
   "source": [
    "MULITIPLE CONDITIONS"
   ]
  },
  {
   "cell_type": "code",
   "execution_count": 15,
   "id": "19c945e7",
   "metadata": {},
   "outputs": [
    {
     "data": {
      "text/html": [
       "<div>\n",
       "<style scoped>\n",
       "    .dataframe tbody tr th:only-of-type {\n",
       "        vertical-align: middle;\n",
       "    }\n",
       "\n",
       "    .dataframe tbody tr th {\n",
       "        vertical-align: top;\n",
       "    }\n",
       "\n",
       "    .dataframe thead th {\n",
       "        text-align: right;\n",
       "    }\n",
       "</style>\n",
       "<table border=\"1\" class=\"dataframe\">\n",
       "  <thead>\n",
       "    <tr style=\"text-align: right;\">\n",
       "      <th></th>\n",
       "      <th>W</th>\n",
       "      <th>X</th>\n",
       "      <th>Y</th>\n",
       "      <th>Z</th>\n",
       "    </tr>\n",
       "  </thead>\n",
       "  <tbody>\n",
       "    <tr>\n",
       "      <th>A</th>\n",
       "      <td>0.710379</td>\n",
       "      <td>0.399620</td>\n",
       "      <td>0.236158</td>\n",
       "      <td>-1.098532</td>\n",
       "    </tr>\n",
       "    <tr>\n",
       "      <th>C</th>\n",
       "      <td>2.214904</td>\n",
       "      <td>-0.121102</td>\n",
       "      <td>-0.266826</td>\n",
       "      <td>2.386064</td>\n",
       "    </tr>\n",
       "    <tr>\n",
       "      <th>D</th>\n",
       "      <td>0.508682</td>\n",
       "      <td>-0.073277</td>\n",
       "      <td>0.243183</td>\n",
       "      <td>-0.187598</td>\n",
       "    </tr>\n",
       "  </tbody>\n",
       "</table>\n",
       "</div>"
      ],
      "text/plain": [
       "          W         X         Y         Z\n",
       "A  0.710379  0.399620  0.236158 -1.098532\n",
       "C  2.214904 -0.121102 -0.266826  2.386064\n",
       "D  0.508682 -0.073277  0.243183 -0.187598"
      ]
     },
     "execution_count": 15,
     "metadata": {},
     "output_type": "execute_result"
    }
   ],
   "source": [
    "df[(df['W']>0) & (df['Y']<1)] # We use & as 'and' because if we use 'and' we get an error due to python \n",
    "                                ## is comparing booleans not numbers. Recalling from previous lines of code\n",
    "                                ## we know that the conditions returns a boolean matrice, and then we can apply\n",
    "                                ## this for searching and then it returns the values matrice"
   ]
  },
  {
   "cell_type": "code",
   "execution_count": 16,
   "id": "197d5be7",
   "metadata": {},
   "outputs": [
    {
     "data": {
      "text/html": [
       "<div>\n",
       "<style scoped>\n",
       "    .dataframe tbody tr th:only-of-type {\n",
       "        vertical-align: middle;\n",
       "    }\n",
       "\n",
       "    .dataframe tbody tr th {\n",
       "        vertical-align: top;\n",
       "    }\n",
       "\n",
       "    .dataframe thead th {\n",
       "        text-align: right;\n",
       "    }\n",
       "</style>\n",
       "<table border=\"1\" class=\"dataframe\">\n",
       "  <thead>\n",
       "    <tr style=\"text-align: right;\">\n",
       "      <th></th>\n",
       "      <th>W</th>\n",
       "      <th>X</th>\n",
       "      <th>Y</th>\n",
       "      <th>Z</th>\n",
       "    </tr>\n",
       "  </thead>\n",
       "  <tbody>\n",
       "    <tr>\n",
       "      <th>A</th>\n",
       "      <td>0.710379</td>\n",
       "      <td>0.399620</td>\n",
       "      <td>0.236158</td>\n",
       "      <td>-1.098532</td>\n",
       "    </tr>\n",
       "    <tr>\n",
       "      <th>B</th>\n",
       "      <td>-1.116127</td>\n",
       "      <td>-0.609011</td>\n",
       "      <td>-0.629639</td>\n",
       "      <td>-1.260278</td>\n",
       "    </tr>\n",
       "    <tr>\n",
       "      <th>C</th>\n",
       "      <td>2.214904</td>\n",
       "      <td>-0.121102</td>\n",
       "      <td>-0.266826</td>\n",
       "      <td>2.386064</td>\n",
       "    </tr>\n",
       "    <tr>\n",
       "      <th>D</th>\n",
       "      <td>0.508682</td>\n",
       "      <td>-0.073277</td>\n",
       "      <td>0.243183</td>\n",
       "      <td>-0.187598</td>\n",
       "    </tr>\n",
       "    <tr>\n",
       "      <th>E</th>\n",
       "      <td>-0.649942</td>\n",
       "      <td>1.044754</td>\n",
       "      <td>-0.424327</td>\n",
       "      <td>0.343274</td>\n",
       "    </tr>\n",
       "  </tbody>\n",
       "</table>\n",
       "</div>"
      ],
      "text/plain": [
       "          W         X         Y         Z\n",
       "A  0.710379  0.399620  0.236158 -1.098532\n",
       "B -1.116127 -0.609011 -0.629639 -1.260278\n",
       "C  2.214904 -0.121102 -0.266826  2.386064\n",
       "D  0.508682 -0.073277  0.243183 -0.187598\n",
       "E -0.649942  1.044754 -0.424327  0.343274"
      ]
     },
     "execution_count": 16,
     "metadata": {},
     "output_type": "execute_result"
    }
   ],
   "source": [
    "df[(df['W']>0) | (df['Y']<1)]  # We use | as 'or'"
   ]
  },
  {
   "cell_type": "code",
   "execution_count": 19,
   "id": "d4402fbe",
   "metadata": {},
   "outputs": [],
   "source": [
    "### we can add a col of index by using the .reset_index(inplace=true). this actually set the index again into a\n",
    "### numerical value and creates the col index"
   ]
  },
  {
   "cell_type": "code",
   "execution_count": 20,
   "id": "86064345",
   "metadata": {},
   "outputs": [
    {
     "data": {
      "text/html": [
       "<div>\n",
       "<style scoped>\n",
       "    .dataframe tbody tr th:only-of-type {\n",
       "        vertical-align: middle;\n",
       "    }\n",
       "\n",
       "    .dataframe tbody tr th {\n",
       "        vertical-align: top;\n",
       "    }\n",
       "\n",
       "    .dataframe thead th {\n",
       "        text-align: right;\n",
       "    }\n",
       "</style>\n",
       "<table border=\"1\" class=\"dataframe\">\n",
       "  <thead>\n",
       "    <tr style=\"text-align: right;\">\n",
       "      <th></th>\n",
       "      <th>index</th>\n",
       "      <th>W</th>\n",
       "      <th>X</th>\n",
       "      <th>Y</th>\n",
       "      <th>Z</th>\n",
       "    </tr>\n",
       "  </thead>\n",
       "  <tbody>\n",
       "    <tr>\n",
       "      <th>0</th>\n",
       "      <td>A</td>\n",
       "      <td>0.710379</td>\n",
       "      <td>0.399620</td>\n",
       "      <td>0.236158</td>\n",
       "      <td>-1.098532</td>\n",
       "    </tr>\n",
       "    <tr>\n",
       "      <th>1</th>\n",
       "      <td>B</td>\n",
       "      <td>-1.116127</td>\n",
       "      <td>-0.609011</td>\n",
       "      <td>-0.629639</td>\n",
       "      <td>-1.260278</td>\n",
       "    </tr>\n",
       "    <tr>\n",
       "      <th>2</th>\n",
       "      <td>C</td>\n",
       "      <td>2.214904</td>\n",
       "      <td>-0.121102</td>\n",
       "      <td>-0.266826</td>\n",
       "      <td>2.386064</td>\n",
       "    </tr>\n",
       "    <tr>\n",
       "      <th>3</th>\n",
       "      <td>D</td>\n",
       "      <td>0.508682</td>\n",
       "      <td>-0.073277</td>\n",
       "      <td>0.243183</td>\n",
       "      <td>-0.187598</td>\n",
       "    </tr>\n",
       "    <tr>\n",
       "      <th>4</th>\n",
       "      <td>E</td>\n",
       "      <td>-0.649942</td>\n",
       "      <td>1.044754</td>\n",
       "      <td>-0.424327</td>\n",
       "      <td>0.343274</td>\n",
       "    </tr>\n",
       "  </tbody>\n",
       "</table>\n",
       "</div>"
      ],
      "text/plain": [
       "  index         W         X         Y         Z\n",
       "0     A  0.710379  0.399620  0.236158 -1.098532\n",
       "1     B -1.116127 -0.609011 -0.629639 -1.260278\n",
       "2     C  2.214904 -0.121102 -0.266826  2.386064\n",
       "3     D  0.508682 -0.073277  0.243183 -0.187598\n",
       "4     E -0.649942  1.044754 -0.424327  0.343274"
      ]
     },
     "execution_count": 20,
     "metadata": {},
     "output_type": "execute_result"
    }
   ],
   "source": [
    "df.reset_index()"
   ]
  },
  {
   "cell_type": "code",
   "execution_count": 21,
   "id": "8f6af557",
   "metadata": {},
   "outputs": [],
   "source": [
    "## We create a new list with .split() that essentially split the spaces between\n",
    "newind ='CA NY WY OR CO'.split()"
   ]
  },
  {
   "cell_type": "code",
   "execution_count": 22,
   "id": "d7071249",
   "metadata": {},
   "outputs": [
    {
     "data": {
      "text/plain": [
       "['CA', 'NY', 'WY', 'OR', 'CO']"
      ]
     },
     "execution_count": 22,
     "metadata": {},
     "output_type": "execute_result"
    }
   ],
   "source": [
    "newind"
   ]
  },
  {
   "cell_type": "code",
   "execution_count": 23,
   "id": "22914b87",
   "metadata": {},
   "outputs": [],
   "source": [
    "df['States'] = newind"
   ]
  },
  {
   "cell_type": "code",
   "execution_count": 24,
   "id": "457d9cfa",
   "metadata": {},
   "outputs": [
    {
     "data": {
      "text/html": [
       "<div>\n",
       "<style scoped>\n",
       "    .dataframe tbody tr th:only-of-type {\n",
       "        vertical-align: middle;\n",
       "    }\n",
       "\n",
       "    .dataframe tbody tr th {\n",
       "        vertical-align: top;\n",
       "    }\n",
       "\n",
       "    .dataframe thead th {\n",
       "        text-align: right;\n",
       "    }\n",
       "</style>\n",
       "<table border=\"1\" class=\"dataframe\">\n",
       "  <thead>\n",
       "    <tr style=\"text-align: right;\">\n",
       "      <th></th>\n",
       "      <th>W</th>\n",
       "      <th>X</th>\n",
       "      <th>Y</th>\n",
       "      <th>Z</th>\n",
       "      <th>States</th>\n",
       "    </tr>\n",
       "  </thead>\n",
       "  <tbody>\n",
       "    <tr>\n",
       "      <th>A</th>\n",
       "      <td>0.710379</td>\n",
       "      <td>0.399620</td>\n",
       "      <td>0.236158</td>\n",
       "      <td>-1.098532</td>\n",
       "      <td>CA</td>\n",
       "    </tr>\n",
       "    <tr>\n",
       "      <th>B</th>\n",
       "      <td>-1.116127</td>\n",
       "      <td>-0.609011</td>\n",
       "      <td>-0.629639</td>\n",
       "      <td>-1.260278</td>\n",
       "      <td>NY</td>\n",
       "    </tr>\n",
       "    <tr>\n",
       "      <th>C</th>\n",
       "      <td>2.214904</td>\n",
       "      <td>-0.121102</td>\n",
       "      <td>-0.266826</td>\n",
       "      <td>2.386064</td>\n",
       "      <td>WY</td>\n",
       "    </tr>\n",
       "    <tr>\n",
       "      <th>D</th>\n",
       "      <td>0.508682</td>\n",
       "      <td>-0.073277</td>\n",
       "      <td>0.243183</td>\n",
       "      <td>-0.187598</td>\n",
       "      <td>OR</td>\n",
       "    </tr>\n",
       "    <tr>\n",
       "      <th>E</th>\n",
       "      <td>-0.649942</td>\n",
       "      <td>1.044754</td>\n",
       "      <td>-0.424327</td>\n",
       "      <td>0.343274</td>\n",
       "      <td>CO</td>\n",
       "    </tr>\n",
       "  </tbody>\n",
       "</table>\n",
       "</div>"
      ],
      "text/plain": [
       "          W         X         Y         Z States\n",
       "A  0.710379  0.399620  0.236158 -1.098532     CA\n",
       "B -1.116127 -0.609011 -0.629639 -1.260278     NY\n",
       "C  2.214904 -0.121102 -0.266826  2.386064     WY\n",
       "D  0.508682 -0.073277  0.243183 -0.187598     OR\n",
       "E -0.649942  1.044754 -0.424327  0.343274     CO"
      ]
     },
     "execution_count": 24,
     "metadata": {},
     "output_type": "execute_result"
    }
   ],
   "source": [
    "df"
   ]
  },
  {
   "cell_type": "code",
   "execution_count": 25,
   "id": "7c93d8b1",
   "metadata": {},
   "outputs": [],
   "source": [
    "### we can set this new column as a new col using .set_index('states')"
   ]
  },
  {
   "cell_type": "code",
   "execution_count": 28,
   "id": "a6c01fa4",
   "metadata": {},
   "outputs": [
    {
     "data": {
      "text/html": [
       "<div>\n",
       "<style scoped>\n",
       "    .dataframe tbody tr th:only-of-type {\n",
       "        vertical-align: middle;\n",
       "    }\n",
       "\n",
       "    .dataframe tbody tr th {\n",
       "        vertical-align: top;\n",
       "    }\n",
       "\n",
       "    .dataframe thead th {\n",
       "        text-align: right;\n",
       "    }\n",
       "</style>\n",
       "<table border=\"1\" class=\"dataframe\">\n",
       "  <thead>\n",
       "    <tr style=\"text-align: right;\">\n",
       "      <th></th>\n",
       "      <th>W</th>\n",
       "      <th>X</th>\n",
       "      <th>Y</th>\n",
       "      <th>Z</th>\n",
       "    </tr>\n",
       "    <tr>\n",
       "      <th>States</th>\n",
       "      <th></th>\n",
       "      <th></th>\n",
       "      <th></th>\n",
       "      <th></th>\n",
       "    </tr>\n",
       "  </thead>\n",
       "  <tbody>\n",
       "    <tr>\n",
       "      <th>CA</th>\n",
       "      <td>0.710379</td>\n",
       "      <td>0.399620</td>\n",
       "      <td>0.236158</td>\n",
       "      <td>-1.098532</td>\n",
       "    </tr>\n",
       "    <tr>\n",
       "      <th>NY</th>\n",
       "      <td>-1.116127</td>\n",
       "      <td>-0.609011</td>\n",
       "      <td>-0.629639</td>\n",
       "      <td>-1.260278</td>\n",
       "    </tr>\n",
       "    <tr>\n",
       "      <th>WY</th>\n",
       "      <td>2.214904</td>\n",
       "      <td>-0.121102</td>\n",
       "      <td>-0.266826</td>\n",
       "      <td>2.386064</td>\n",
       "    </tr>\n",
       "    <tr>\n",
       "      <th>OR</th>\n",
       "      <td>0.508682</td>\n",
       "      <td>-0.073277</td>\n",
       "      <td>0.243183</td>\n",
       "      <td>-0.187598</td>\n",
       "    </tr>\n",
       "    <tr>\n",
       "      <th>CO</th>\n",
       "      <td>-0.649942</td>\n",
       "      <td>1.044754</td>\n",
       "      <td>-0.424327</td>\n",
       "      <td>0.343274</td>\n",
       "    </tr>\n",
       "  </tbody>\n",
       "</table>\n",
       "</div>"
      ],
      "text/plain": [
       "               W         X         Y         Z\n",
       "States                                        \n",
       "CA      0.710379  0.399620  0.236158 -1.098532\n",
       "NY     -1.116127 -0.609011 -0.629639 -1.260278\n",
       "WY      2.214904 -0.121102 -0.266826  2.386064\n",
       "OR      0.508682 -0.073277  0.243183 -0.187598\n",
       "CO     -0.649942  1.044754 -0.424327  0.343274"
      ]
     },
     "execution_count": 28,
     "metadata": {},
     "output_type": "execute_result"
    }
   ],
   "source": [
    "df.set_index('States')"
   ]
  },
  {
   "cell_type": "code",
   "execution_count": null,
   "id": "11686943",
   "metadata": {},
   "outputs": [],
   "source": []
  },
  {
   "cell_type": "code",
   "execution_count": null,
   "id": "a26ef492",
   "metadata": {},
   "outputs": [],
   "source": []
  }
 ],
 "metadata": {
  "kernelspec": {
   "display_name": "Python 3 (ipykernel)",
   "language": "python",
   "name": "python3"
  },
  "language_info": {
   "codemirror_mode": {
    "name": "ipython",
    "version": 3
   },
   "file_extension": ".py",
   "mimetype": "text/x-python",
   "name": "python",
   "nbconvert_exporter": "python",
   "pygments_lexer": "ipython3",
   "version": "3.8.10"
  }
 },
 "nbformat": 4,
 "nbformat_minor": 5
}
