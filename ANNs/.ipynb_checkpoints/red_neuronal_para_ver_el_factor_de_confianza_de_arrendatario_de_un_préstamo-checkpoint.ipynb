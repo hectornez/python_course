{
 "cells": [
  {
   "cell_type": "code",
   "execution_count": 62,
   "id": "254533c4",
   "metadata": {},
   "outputs": [],
   "source": [
    "import numpy as np\n",
    "import pandas as pd\n",
    "import seaborn as sns\n",
    "import matplotlib.pyplot as plt"
   ]
  },
  {
   "cell_type": "code",
   "execution_count": 63,
   "id": "0dd46151",
   "metadata": {},
   "outputs": [],
   "source": [
    "data_info = pd.read_csv('../DATA/lending_club_info.csv',index_col='LoanStatNew')"
   ]
  },
  {
   "cell_type": "markdown",
   "id": "2601142a",
   "metadata": {},
   "source": [
    "Our target is the loan_status beause we will see whether they have fully paid the loan or they were carged-off"
   ]
  },
  {
   "cell_type": "code",
   "execution_count": 64,
   "id": "8c6dec71",
   "metadata": {},
   "outputs": [
    {
     "data": {
      "text/html": [
       "<div>\n",
       "<style scoped>\n",
       "    .dataframe tbody tr th:only-of-type {\n",
       "        vertical-align: middle;\n",
       "    }\n",
       "\n",
       "    .dataframe tbody tr th {\n",
       "        vertical-align: top;\n",
       "    }\n",
       "\n",
       "    .dataframe thead th {\n",
       "        text-align: right;\n",
       "    }\n",
       "</style>\n",
       "<table border=\"1\" class=\"dataframe\">\n",
       "  <thead>\n",
       "    <tr style=\"text-align: right;\">\n",
       "      <th></th>\n",
       "      <th>Description</th>\n",
       "    </tr>\n",
       "    <tr>\n",
       "      <th>LoanStatNew</th>\n",
       "      <th></th>\n",
       "    </tr>\n",
       "  </thead>\n",
       "  <tbody>\n",
       "    <tr>\n",
       "      <th>loan_amnt</th>\n",
       "      <td>The listed amount of the loan applied for by t...</td>\n",
       "    </tr>\n",
       "    <tr>\n",
       "      <th>term</th>\n",
       "      <td>The number of payments on the loan. Values are...</td>\n",
       "    </tr>\n",
       "    <tr>\n",
       "      <th>int_rate</th>\n",
       "      <td>Interest Rate on the loan</td>\n",
       "    </tr>\n",
       "    <tr>\n",
       "      <th>installment</th>\n",
       "      <td>The monthly payment owed by the borrower if th...</td>\n",
       "    </tr>\n",
       "    <tr>\n",
       "      <th>grade</th>\n",
       "      <td>LC assigned loan grade</td>\n",
       "    </tr>\n",
       "    <tr>\n",
       "      <th>sub_grade</th>\n",
       "      <td>LC assigned loan subgrade</td>\n",
       "    </tr>\n",
       "    <tr>\n",
       "      <th>emp_title</th>\n",
       "      <td>The job title supplied by the Borrower when ap...</td>\n",
       "    </tr>\n",
       "    <tr>\n",
       "      <th>emp_length</th>\n",
       "      <td>Employment length in years. Possible values ar...</td>\n",
       "    </tr>\n",
       "    <tr>\n",
       "      <th>home_ownership</th>\n",
       "      <td>The home ownership status provided by the borr...</td>\n",
       "    </tr>\n",
       "    <tr>\n",
       "      <th>annual_inc</th>\n",
       "      <td>The self-reported annual income provided by th...</td>\n",
       "    </tr>\n",
       "    <tr>\n",
       "      <th>verification_status</th>\n",
       "      <td>Indicates if income was verified by LC, not ve...</td>\n",
       "    </tr>\n",
       "    <tr>\n",
       "      <th>issue_d</th>\n",
       "      <td>The month which the loan was funded</td>\n",
       "    </tr>\n",
       "    <tr>\n",
       "      <th>loan_status</th>\n",
       "      <td>Current status of the loan</td>\n",
       "    </tr>\n",
       "    <tr>\n",
       "      <th>purpose</th>\n",
       "      <td>A category provided by the borrower for the lo...</td>\n",
       "    </tr>\n",
       "    <tr>\n",
       "      <th>title</th>\n",
       "      <td>The loan title provided by the borrower</td>\n",
       "    </tr>\n",
       "    <tr>\n",
       "      <th>zip_code</th>\n",
       "      <td>The first 3 numbers of the zip code provided b...</td>\n",
       "    </tr>\n",
       "    <tr>\n",
       "      <th>addr_state</th>\n",
       "      <td>The state provided by the borrower in the loan...</td>\n",
       "    </tr>\n",
       "    <tr>\n",
       "      <th>dti</th>\n",
       "      <td>A ratio calculated using the borrower’s total ...</td>\n",
       "    </tr>\n",
       "    <tr>\n",
       "      <th>earliest_cr_line</th>\n",
       "      <td>The month the borrower's earliest reported cre...</td>\n",
       "    </tr>\n",
       "    <tr>\n",
       "      <th>open_acc</th>\n",
       "      <td>The number of open credit lines in the borrowe...</td>\n",
       "    </tr>\n",
       "    <tr>\n",
       "      <th>pub_rec</th>\n",
       "      <td>Number of derogatory public records</td>\n",
       "    </tr>\n",
       "    <tr>\n",
       "      <th>revol_bal</th>\n",
       "      <td>Total credit revolving balance</td>\n",
       "    </tr>\n",
       "    <tr>\n",
       "      <th>revol_util</th>\n",
       "      <td>Revolving line utilization rate, or the amount...</td>\n",
       "    </tr>\n",
       "    <tr>\n",
       "      <th>total_acc</th>\n",
       "      <td>The total number of credit lines currently in ...</td>\n",
       "    </tr>\n",
       "    <tr>\n",
       "      <th>initial_list_status</th>\n",
       "      <td>The initial listing status of the loan. Possib...</td>\n",
       "    </tr>\n",
       "    <tr>\n",
       "      <th>application_type</th>\n",
       "      <td>Indicates whether the loan is an individual ap...</td>\n",
       "    </tr>\n",
       "    <tr>\n",
       "      <th>mort_acc</th>\n",
       "      <td>Number of mortgage accounts.</td>\n",
       "    </tr>\n",
       "    <tr>\n",
       "      <th>pub_rec_bankruptcies</th>\n",
       "      <td>Number of public record bankruptcies</td>\n",
       "    </tr>\n",
       "  </tbody>\n",
       "</table>\n",
       "</div>"
      ],
      "text/plain": [
       "                                                            Description\n",
       "LoanStatNew                                                            \n",
       "loan_amnt             The listed amount of the loan applied for by t...\n",
       "term                  The number of payments on the loan. Values are...\n",
       "int_rate                                      Interest Rate on the loan\n",
       "installment           The monthly payment owed by the borrower if th...\n",
       "grade                                            LC assigned loan grade\n",
       "sub_grade                                     LC assigned loan subgrade\n",
       "emp_title             The job title supplied by the Borrower when ap...\n",
       "emp_length            Employment length in years. Possible values ar...\n",
       "home_ownership        The home ownership status provided by the borr...\n",
       "annual_inc            The self-reported annual income provided by th...\n",
       "verification_status   Indicates if income was verified by LC, not ve...\n",
       "issue_d                             The month which the loan was funded\n",
       "loan_status                                  Current status of the loan\n",
       "purpose               A category provided by the borrower for the lo...\n",
       "title                           The loan title provided by the borrower\n",
       "zip_code              The first 3 numbers of the zip code provided b...\n",
       "addr_state            The state provided by the borrower in the loan...\n",
       "dti                   A ratio calculated using the borrower’s total ...\n",
       "earliest_cr_line      The month the borrower's earliest reported cre...\n",
       "open_acc              The number of open credit lines in the borrowe...\n",
       "pub_rec                             Number of derogatory public records\n",
       "revol_bal                                Total credit revolving balance\n",
       "revol_util            Revolving line utilization rate, or the amount...\n",
       "total_acc             The total number of credit lines currently in ...\n",
       "initial_list_status   The initial listing status of the loan. Possib...\n",
       "application_type      Indicates whether the loan is an individual ap...\n",
       "mort_acc                                   Number of mortgage accounts.\n",
       "pub_rec_bankruptcies               Number of public record bankruptcies"
      ]
     },
     "execution_count": 64,
     "metadata": {},
     "output_type": "execute_result"
    }
   ],
   "source": [
    "data_info"
   ]
  },
  {
   "cell_type": "code",
   "execution_count": 65,
   "id": "09969e81",
   "metadata": {},
   "outputs": [],
   "source": [
    "df = pd.read_csv('../DATA/lending_club_loan_two.csv')"
   ]
  },
  {
   "cell_type": "code",
   "execution_count": 66,
   "id": "8a659238",
   "metadata": {},
   "outputs": [
    {
     "data": {
      "text/plain": [
       "0          Fully Paid\n",
       "1          Fully Paid\n",
       "2          Fully Paid\n",
       "3          Fully Paid\n",
       "4         Charged Off\n",
       "             ...     \n",
       "396025     Fully Paid\n",
       "396026     Fully Paid\n",
       "396027     Fully Paid\n",
       "396028     Fully Paid\n",
       "396029     Fully Paid\n",
       "Name: loan_status, Length: 396030, dtype: object"
      ]
     },
     "execution_count": 66,
     "metadata": {},
     "output_type": "execute_result"
    }
   ],
   "source": [
    "df['loan_status']"
   ]
  },
  {
   "cell_type": "code",
   "execution_count": 67,
   "id": "936b8c33",
   "metadata": {},
   "outputs": [],
   "source": [
    "def converter(y):\n",
    "    \n",
    "    if y=='Fully Paid':\n",
    "        return 1\n",
    "    else:\n",
    "        return 0"
   ]
  },
  {
   "cell_type": "code",
   "execution_count": 68,
   "id": "d5fa683b",
   "metadata": {},
   "outputs": [],
   "source": [
    "df['loan_status'] = df['loan_status'].apply(converter)"
   ]
  },
  {
   "cell_type": "code",
   "execution_count": 69,
   "id": "50c2172b",
   "metadata": {},
   "outputs": [
    {
     "data": {
      "text/plain": [
       "0    1\n",
       "1    1\n",
       "2    1\n",
       "3    1\n",
       "4    0\n",
       "5    1\n",
       "Name: loan_status, dtype: int64"
      ]
     },
     "execution_count": 69,
     "metadata": {},
     "output_type": "execute_result"
    }
   ],
   "source": [
    "df['loan_status'].head(6)"
   ]
  },
  {
   "cell_type": "markdown",
   "id": "069ea507",
   "metadata": {},
   "source": [
    "We have now our target feature as a binary classification, so we can work with it."
   ]
  },
  {
   "cell_type": "markdown",
   "id": "76f24d5b",
   "metadata": {},
   "source": [
    "# Now we will explore a little our data set"
   ]
  },
  {
   "cell_type": "code",
   "execution_count": 70,
   "id": "b9678365",
   "metadata": {},
   "outputs": [
    {
     "data": {
      "text/html": [
       "<div>\n",
       "<style scoped>\n",
       "    .dataframe tbody tr th:only-of-type {\n",
       "        vertical-align: middle;\n",
       "    }\n",
       "\n",
       "    .dataframe tbody tr th {\n",
       "        vertical-align: top;\n",
       "    }\n",
       "\n",
       "    .dataframe thead th {\n",
       "        text-align: right;\n",
       "    }\n",
       "</style>\n",
       "<table border=\"1\" class=\"dataframe\">\n",
       "  <thead>\n",
       "    <tr style=\"text-align: right;\">\n",
       "      <th></th>\n",
       "      <th>loan_amnt</th>\n",
       "      <th>int_rate</th>\n",
       "      <th>installment</th>\n",
       "      <th>annual_inc</th>\n",
       "      <th>loan_status</th>\n",
       "      <th>dti</th>\n",
       "      <th>open_acc</th>\n",
       "      <th>pub_rec</th>\n",
       "      <th>revol_bal</th>\n",
       "      <th>revol_util</th>\n",
       "      <th>total_acc</th>\n",
       "      <th>mort_acc</th>\n",
       "      <th>pub_rec_bankruptcies</th>\n",
       "    </tr>\n",
       "  </thead>\n",
       "  <tbody>\n",
       "    <tr>\n",
       "      <th>count</th>\n",
       "      <td>396030.000000</td>\n",
       "      <td>396030.000000</td>\n",
       "      <td>396030.000000</td>\n",
       "      <td>3.960300e+05</td>\n",
       "      <td>396030.000000</td>\n",
       "      <td>396030.000000</td>\n",
       "      <td>396030.000000</td>\n",
       "      <td>396030.000000</td>\n",
       "      <td>3.960300e+05</td>\n",
       "      <td>395754.000000</td>\n",
       "      <td>396030.000000</td>\n",
       "      <td>358235.000000</td>\n",
       "      <td>395495.000000</td>\n",
       "    </tr>\n",
       "    <tr>\n",
       "      <th>mean</th>\n",
       "      <td>14113.888089</td>\n",
       "      <td>13.639400</td>\n",
       "      <td>431.849698</td>\n",
       "      <td>7.420318e+04</td>\n",
       "      <td>0.803871</td>\n",
       "      <td>17.379514</td>\n",
       "      <td>11.311153</td>\n",
       "      <td>0.178191</td>\n",
       "      <td>1.584454e+04</td>\n",
       "      <td>53.791749</td>\n",
       "      <td>25.414744</td>\n",
       "      <td>1.813991</td>\n",
       "      <td>0.121648</td>\n",
       "    </tr>\n",
       "    <tr>\n",
       "      <th>std</th>\n",
       "      <td>8357.441341</td>\n",
       "      <td>4.472157</td>\n",
       "      <td>250.727790</td>\n",
       "      <td>6.163762e+04</td>\n",
       "      <td>0.397068</td>\n",
       "      <td>18.019092</td>\n",
       "      <td>5.137649</td>\n",
       "      <td>0.530671</td>\n",
       "      <td>2.059184e+04</td>\n",
       "      <td>24.452193</td>\n",
       "      <td>11.886991</td>\n",
       "      <td>2.147930</td>\n",
       "      <td>0.356174</td>\n",
       "    </tr>\n",
       "    <tr>\n",
       "      <th>min</th>\n",
       "      <td>500.000000</td>\n",
       "      <td>5.320000</td>\n",
       "      <td>16.080000</td>\n",
       "      <td>0.000000e+00</td>\n",
       "      <td>0.000000</td>\n",
       "      <td>0.000000</td>\n",
       "      <td>0.000000</td>\n",
       "      <td>0.000000</td>\n",
       "      <td>0.000000e+00</td>\n",
       "      <td>0.000000</td>\n",
       "      <td>2.000000</td>\n",
       "      <td>0.000000</td>\n",
       "      <td>0.000000</td>\n",
       "    </tr>\n",
       "    <tr>\n",
       "      <th>25%</th>\n",
       "      <td>8000.000000</td>\n",
       "      <td>10.490000</td>\n",
       "      <td>250.330000</td>\n",
       "      <td>4.500000e+04</td>\n",
       "      <td>1.000000</td>\n",
       "      <td>11.280000</td>\n",
       "      <td>8.000000</td>\n",
       "      <td>0.000000</td>\n",
       "      <td>6.025000e+03</td>\n",
       "      <td>35.800000</td>\n",
       "      <td>17.000000</td>\n",
       "      <td>0.000000</td>\n",
       "      <td>0.000000</td>\n",
       "    </tr>\n",
       "    <tr>\n",
       "      <th>50%</th>\n",
       "      <td>12000.000000</td>\n",
       "      <td>13.330000</td>\n",
       "      <td>375.430000</td>\n",
       "      <td>6.400000e+04</td>\n",
       "      <td>1.000000</td>\n",
       "      <td>16.910000</td>\n",
       "      <td>10.000000</td>\n",
       "      <td>0.000000</td>\n",
       "      <td>1.118100e+04</td>\n",
       "      <td>54.800000</td>\n",
       "      <td>24.000000</td>\n",
       "      <td>1.000000</td>\n",
       "      <td>0.000000</td>\n",
       "    </tr>\n",
       "    <tr>\n",
       "      <th>75%</th>\n",
       "      <td>20000.000000</td>\n",
       "      <td>16.490000</td>\n",
       "      <td>567.300000</td>\n",
       "      <td>9.000000e+04</td>\n",
       "      <td>1.000000</td>\n",
       "      <td>22.980000</td>\n",
       "      <td>14.000000</td>\n",
       "      <td>0.000000</td>\n",
       "      <td>1.962000e+04</td>\n",
       "      <td>72.900000</td>\n",
       "      <td>32.000000</td>\n",
       "      <td>3.000000</td>\n",
       "      <td>0.000000</td>\n",
       "    </tr>\n",
       "    <tr>\n",
       "      <th>max</th>\n",
       "      <td>40000.000000</td>\n",
       "      <td>30.990000</td>\n",
       "      <td>1533.810000</td>\n",
       "      <td>8.706582e+06</td>\n",
       "      <td>1.000000</td>\n",
       "      <td>9999.000000</td>\n",
       "      <td>90.000000</td>\n",
       "      <td>86.000000</td>\n",
       "      <td>1.743266e+06</td>\n",
       "      <td>892.300000</td>\n",
       "      <td>151.000000</td>\n",
       "      <td>34.000000</td>\n",
       "      <td>8.000000</td>\n",
       "    </tr>\n",
       "  </tbody>\n",
       "</table>\n",
       "</div>"
      ],
      "text/plain": [
       "           loan_amnt       int_rate    installment    annual_inc  \\\n",
       "count  396030.000000  396030.000000  396030.000000  3.960300e+05   \n",
       "mean    14113.888089      13.639400     431.849698  7.420318e+04   \n",
       "std      8357.441341       4.472157     250.727790  6.163762e+04   \n",
       "min       500.000000       5.320000      16.080000  0.000000e+00   \n",
       "25%      8000.000000      10.490000     250.330000  4.500000e+04   \n",
       "50%     12000.000000      13.330000     375.430000  6.400000e+04   \n",
       "75%     20000.000000      16.490000     567.300000  9.000000e+04   \n",
       "max     40000.000000      30.990000    1533.810000  8.706582e+06   \n",
       "\n",
       "         loan_status            dti       open_acc        pub_rec  \\\n",
       "count  396030.000000  396030.000000  396030.000000  396030.000000   \n",
       "mean        0.803871      17.379514      11.311153       0.178191   \n",
       "std         0.397068      18.019092       5.137649       0.530671   \n",
       "min         0.000000       0.000000       0.000000       0.000000   \n",
       "25%         1.000000      11.280000       8.000000       0.000000   \n",
       "50%         1.000000      16.910000      10.000000       0.000000   \n",
       "75%         1.000000      22.980000      14.000000       0.000000   \n",
       "max         1.000000    9999.000000      90.000000      86.000000   \n",
       "\n",
       "          revol_bal     revol_util      total_acc       mort_acc  \\\n",
       "count  3.960300e+05  395754.000000  396030.000000  358235.000000   \n",
       "mean   1.584454e+04      53.791749      25.414744       1.813991   \n",
       "std    2.059184e+04      24.452193      11.886991       2.147930   \n",
       "min    0.000000e+00       0.000000       2.000000       0.000000   \n",
       "25%    6.025000e+03      35.800000      17.000000       0.000000   \n",
       "50%    1.118100e+04      54.800000      24.000000       1.000000   \n",
       "75%    1.962000e+04      72.900000      32.000000       3.000000   \n",
       "max    1.743266e+06     892.300000     151.000000      34.000000   \n",
       "\n",
       "       pub_rec_bankruptcies  \n",
       "count         395495.000000  \n",
       "mean               0.121648  \n",
       "std                0.356174  \n",
       "min                0.000000  \n",
       "25%                0.000000  \n",
       "50%                0.000000  \n",
       "75%                0.000000  \n",
       "max                8.000000  "
      ]
     },
     "execution_count": 70,
     "metadata": {},
     "output_type": "execute_result"
    }
   ],
   "source": [
    "df.describe()"
   ]
  },
  {
   "cell_type": "code",
   "execution_count": 71,
   "id": "73caa9c4",
   "metadata": {},
   "outputs": [
    {
     "name": "stdout",
     "output_type": "stream",
     "text": [
      "<class 'pandas.core.frame.DataFrame'>\n",
      "RangeIndex: 396030 entries, 0 to 396029\n",
      "Data columns (total 27 columns):\n",
      " #   Column                Non-Null Count   Dtype  \n",
      "---  ------                --------------   -----  \n",
      " 0   loan_amnt             396030 non-null  float64\n",
      " 1   term                  396030 non-null  object \n",
      " 2   int_rate              396030 non-null  float64\n",
      " 3   installment           396030 non-null  float64\n",
      " 4   grade                 396030 non-null  object \n",
      " 5   sub_grade             396030 non-null  object \n",
      " 6   emp_title             373103 non-null  object \n",
      " 7   emp_length            377729 non-null  object \n",
      " 8   home_ownership        396030 non-null  object \n",
      " 9   annual_inc            396030 non-null  float64\n",
      " 10  verification_status   396030 non-null  object \n",
      " 11  issue_d               396030 non-null  object \n",
      " 12  loan_status           396030 non-null  int64  \n",
      " 13  purpose               396030 non-null  object \n",
      " 14  title                 394275 non-null  object \n",
      " 15  dti                   396030 non-null  float64\n",
      " 16  earliest_cr_line      396030 non-null  object \n",
      " 17  open_acc              396030 non-null  float64\n",
      " 18  pub_rec               396030 non-null  float64\n",
      " 19  revol_bal             396030 non-null  float64\n",
      " 20  revol_util            395754 non-null  float64\n",
      " 21  total_acc             396030 non-null  float64\n",
      " 22  initial_list_status   396030 non-null  object \n",
      " 23  application_type      396030 non-null  object \n",
      " 24  mort_acc              358235 non-null  float64\n",
      " 25  pub_rec_bankruptcies  395495 non-null  float64\n",
      " 26  address               396030 non-null  object \n",
      "dtypes: float64(12), int64(1), object(14)\n",
      "memory usage: 81.6+ MB\n"
     ]
    }
   ],
   "source": [
    "df.info()"
   ]
  },
  {
   "cell_type": "code",
   "execution_count": 72,
   "id": "895920ba",
   "metadata": {},
   "outputs": [
    {
     "data": {
      "text/plain": [
       "<matplotlib.axes._subplots.AxesSubplot at 0x7fda4d57e940>"
      ]
     },
     "execution_count": 72,
     "metadata": {},
     "output_type": "execute_result"
    },
    {
     "data": {
      "image/png": "[encoded data removed]",
      "text/plain": [
       "<Figure size 864x576 with 2 Axes>"
      ]
     },
     "metadata": {
      "needs_background": "light"
     },
     "output_type": "display_data"
    }
   ],
   "source": [
    "plt.figure(figsize=(12,8))\n",
    "sns.heatmap(data=df.isnull())"
   ]
  },
  {
   "cell_type": "markdown",
   "id": "4ad08c7d",
   "metadata": {},
   "source": [
    "We observe that some columns have certain values left. What we can do to certify if these columns are key or not for predicting our target is by calling .corr().\n",
    "\n",
    "Then we have to explore each feature in order to transform them into dummys or not, if they may help to the predcitions."
   ]
  },
  {
   "cell_type": "code",
   "execution_count": 73,
   "id": "4b395bcd",
   "metadata": {},
   "outputs": [
    {
     "data": {
      "text/plain": [
       "<matplotlib.axes._subplots.AxesSubplot at 0x7fd9f92489a0>"
      ]
     },
     "execution_count": 73,
     "metadata": {},
     "output_type": "execute_result"
    },
    {
     "data": {
      "image/png": "[encoded data removed]",
      "text/plain": [
       "<Figure size 864x576 with 1 Axes>"
      ]
     },
     "metadata": {
      "needs_background": "light"
     },
     "output_type": "display_data"
    }
   ],
   "source": [
    "plt.figure(figsize=(12,8))\n",
    "df.corr()['loan_status'].sort_values().plot(kind='bar')"
   ]
  },
  {
   "cell_type": "markdown",
   "id": "545976eb",
   "metadata": {},
   "source": [
    "## feature 'term'"
   ]
  },
  {
   "cell_type": "code",
   "execution_count": 74,
   "id": "558dcede",
   "metadata": {},
   "outputs": [
    {
     "name": "stdout",
     "output_type": "stream",
     "text": [
      "The number of payments on the loan. Values are in months and can be either 36 or 60.\n"
     ]
    }
   ],
   "source": [
    "print(data_info.loc['term']['Description'])"
   ]
  },
  {
   "cell_type": "code",
   "execution_count": 75,
   "id": "156310a3",
   "metadata": {},
   "outputs": [
    {
     "data": {
      "text/plain": [
       "array([' 36 months', ' 60 months'], dtype=object)"
      ]
     },
     "execution_count": 75,
     "metadata": {},
     "output_type": "execute_result"
    }
   ],
   "source": [
    "df['term'].unique()"
   ]
  },
  {
   "cell_type": "markdown",
   "id": "cbba816a",
   "metadata": {},
   "source": [
    "we can ake a dummy featur out of 'term'"
   ]
  },
  {
   "cell_type": "code",
   "execution_count": 76,
   "id": "e0d86117",
   "metadata": {},
   "outputs": [],
   "source": [
    "term_h = pd.get_dummies(df['term'])"
   ]
  },
  {
   "cell_type": "code",
   "execution_count": 77,
   "id": "aeab6e1c",
   "metadata": {},
   "outputs": [],
   "source": [
    "df = df.drop(['term'], axis=1)"
   ]
  },
  {
   "cell_type": "markdown",
   "id": "123a1678",
   "metadata": {},
   "source": [
    "## feature ' grade'  and 'emp_length'"
   ]
  },
  {
   "cell_type": "code",
   "execution_count": 78,
   "id": "91fc8714",
   "metadata": {},
   "outputs": [
    {
     "name": "stdout",
     "output_type": "stream",
     "text": [
      "LC assigned loan grade\n"
     ]
    }
   ],
   "source": [
    "print(data_info.loc['grade']['Description'])"
   ]
  },
  {
   "cell_type": "code",
   "execution_count": 79,
   "id": "77375fc1",
   "metadata": {},
   "outputs": [
    {
     "data": {
      "text/plain": [
       "array(['B', 'A', 'C', 'E', 'D', 'F', 'G'], dtype=object)"
      ]
     },
     "execution_count": 79,
     "metadata": {},
     "output_type": "execute_result"
    }
   ],
   "source": [
    "df['grade'].unique()"
   ]
  },
  {
   "cell_type": "markdown",
   "id": "158caef2",
   "metadata": {},
   "source": [
    "df['subgrade'] is realted with df['grade'] and since we cannot turn it into a binary classification unless we set a large number of new columns,we will drop it. We consider that this information is actually in df['grade'].\n",
    "\n",
    "We will drop ['emp_title'] since its contribution seems unprofitable"
   ]
  },
  {
   "cell_type": "code",
   "execution_count": 80,
   "id": "e0a95742",
   "metadata": {},
   "outputs": [],
   "source": [
    "df = df.drop(labels=['sub_grade', 'emp_title'], axis=1)"
   ]
  },
  {
   "cell_type": "code",
   "execution_count": 81,
   "id": "379e3e69",
   "metadata": {},
   "outputs": [
    {
     "name": "stdout",
     "output_type": "stream",
     "text": [
      "Employment length in years. Possible values are between 0 and 10 where 0 means less than one year and 10 means ten or more years. \n"
     ]
    }
   ],
   "source": [
    "print(data_info.loc['emp_length']['Description'])"
   ]
  },
  {
   "cell_type": "code",
   "execution_count": 82,
   "id": "626f720d",
   "metadata": {},
   "outputs": [
    {
     "data": {
      "text/plain": [
       "array(['10+ years', '4 years', '< 1 year', '6 years', '9 years',\n",
       "       '2 years', '3 years', '8 years', '7 years', '5 years', '1 year',\n",
       "       nan], dtype=object)"
      ]
     },
     "execution_count": 82,
     "metadata": {},
     "output_type": "execute_result"
    }
   ],
   "source": [
    "df['emp_length'].unique()"
   ]
  },
  {
   "cell_type": "code",
   "execution_count": 83,
   "id": "5411c384",
   "metadata": {},
   "outputs": [
    {
     "data": {
      "text/plain": [
       "18301"
      ]
     },
     "execution_count": 83,
     "metadata": {},
     "output_type": "execute_result"
    }
   ],
   "source": [
    "df['emp_length'].isnull().sum()"
   ]
  },
  {
   "cell_type": "code",
   "execution_count": 84,
   "id": "753255de",
   "metadata": {},
   "outputs": [
    {
     "data": {
      "text/plain": [
       "377729"
      ]
     },
     "execution_count": 84,
     "metadata": {},
     "output_type": "execute_result"
    }
   ],
   "source": [
    "df['emp_length'].value_counts().sum()"
   ]
  },
  {
   "cell_type": "code",
   "execution_count": 85,
   "id": "13418346",
   "metadata": {},
   "outputs": [
    {
     "data": {
      "text/plain": [
       "0.04845007928964946"
      ]
     },
     "execution_count": 85,
     "metadata": {},
     "output_type": "execute_result"
    }
   ],
   "source": [
    "df['emp_length'].isnull().sum()/df['emp_length'].value_counts().sum()"
   ]
  },
  {
   "cell_type": "markdown",
   "id": "e778f2a8",
   "metadata": {},
   "source": [
    "We observe that the missing values in 'emp_length' are less than 5%, so we can forget about them and continue with our work"
   ]
  },
  {
   "cell_type": "code",
   "execution_count": 86,
   "id": "7627a483",
   "metadata": {},
   "outputs": [],
   "source": [
    "def converter_emp_length(y):\n",
    "    \n",
    "    if y=='10+ years':\n",
    "        return 'Long term'\n",
    "    else:\n",
    "        return 'Short term'"
   ]
  },
  {
   "cell_type": "code",
   "execution_count": 87,
   "id": "25226cc2",
   "metadata": {},
   "outputs": [],
   "source": [
    "df['emp_length'] = df['emp_length'].apply(converter_emp_length)"
   ]
  },
  {
   "cell_type": "code",
   "execution_count": 88,
   "id": "2dbb425b",
   "metadata": {},
   "outputs": [
    {
     "data": {
      "text/plain": [
       "0          Long term\n",
       "1         Short term\n",
       "2         Short term\n",
       "3         Short term\n",
       "4         Short term\n",
       "             ...    \n",
       "396025    Short term\n",
       "396026    Short term\n",
       "396027     Long term\n",
       "396028     Long term\n",
       "396029     Long term\n",
       "Name: emp_length, Length: 396030, dtype: object"
      ]
     },
     "execution_count": 88,
     "metadata": {},
     "output_type": "execute_result"
    }
   ],
   "source": [
    "df['emp_length']"
   ]
  },
  {
   "cell_type": "code",
   "execution_count": 89,
   "id": "9e8756bf",
   "metadata": {},
   "outputs": [],
   "source": [
    "emp_length_h = pd.get_dummies(df['emp_length'], drop_first=True)"
   ]
  },
  {
   "cell_type": "code",
   "execution_count": 90,
   "id": "5f7e5947",
   "metadata": {},
   "outputs": [],
   "source": [
    "grade_h = pd.get_dummies(df['grade'])"
   ]
  },
  {
   "cell_type": "markdown",
   "id": "370e3130",
   "metadata": {},
   "source": [
    "## feature 'verification_status', 'issue_d'"
   ]
  },
  {
   "cell_type": "code",
   "execution_count": 91,
   "id": "6ffbe952",
   "metadata": {},
   "outputs": [
    {
     "name": "stdout",
     "output_type": "stream",
     "text": [
      "Indicates if income was verified by LC, not verified, or if the income source was verified\n"
     ]
    }
   ],
   "source": [
    "print(data_info.loc['verification_status']['Description'])"
   ]
  },
  {
   "cell_type": "code",
   "execution_count": 92,
   "id": "fb572def",
   "metadata": {},
   "outputs": [
    {
     "data": {
      "text/plain": [
       "array(['Not Verified', 'Source Verified', 'Verified'], dtype=object)"
      ]
     },
     "execution_count": 92,
     "metadata": {},
     "output_type": "execute_result"
    }
   ],
   "source": [
    "df['verification_status'].unique()"
   ]
  },
  {
   "cell_type": "code",
   "execution_count": 93,
   "id": "3d489316",
   "metadata": {},
   "outputs": [],
   "source": [
    "verification_h = pd.get_dummies(df['verification_status'])"
   ]
  },
  {
   "cell_type": "code",
   "execution_count": 94,
   "id": "fa6609c2",
   "metadata": {},
   "outputs": [
    {
     "name": "stdout",
     "output_type": "stream",
     "text": [
      "The month which the loan was funded\n"
     ]
    }
   ],
   "source": [
    "print(data_info.loc['issue_d']['Description'])"
   ]
  },
  {
   "cell_type": "code",
   "execution_count": 95,
   "id": "45018c4d",
   "metadata": {},
   "outputs": [
    {
     "data": {
      "text/plain": [
       "array(['Jan-2015', 'Nov-2014', 'Apr-2013', 'Sep-2015', 'Sep-2012',\n",
       "       'Oct-2014', 'Apr-2012', 'Jun-2013', 'May-2014', 'Dec-2015',\n",
       "       'Apr-2015', 'Oct-2012', 'Jul-2014', 'Feb-2013', 'Oct-2015',\n",
       "       'Jan-2014', 'Mar-2016', 'Apr-2014', 'Jun-2011', 'Apr-2010',\n",
       "       'Jun-2014', 'Oct-2013', 'May-2013', 'Feb-2015', 'Oct-2011',\n",
       "       'Jun-2015', 'Aug-2013', 'Feb-2014', 'Dec-2011', 'Mar-2013',\n",
       "       'Jun-2016', 'Mar-2014', 'Nov-2013', 'Dec-2014', 'Apr-2016',\n",
       "       'Sep-2013', 'May-2016', 'Jul-2015', 'Jul-2013', 'Aug-2014',\n",
       "       'May-2008', 'Mar-2010', 'Dec-2013', 'Mar-2012', 'Mar-2015',\n",
       "       'Sep-2011', 'Jul-2012', 'Dec-2012', 'Sep-2014', 'Nov-2012',\n",
       "       'Nov-2015', 'Jan-2011', 'May-2012', 'Feb-2016', 'Jun-2012',\n",
       "       'Aug-2012', 'Jan-2016', 'May-2015', 'Oct-2016', 'Aug-2015',\n",
       "       'Jul-2016', 'May-2009', 'Aug-2016', 'Jan-2012', 'Jan-2013',\n",
       "       'Nov-2010', 'Jul-2011', 'Mar-2011', 'Feb-2012', 'May-2011',\n",
       "       'Aug-2010', 'Nov-2016', 'Jul-2010', 'Sep-2010', 'Dec-2010',\n",
       "       'Feb-2011', 'Jun-2009', 'Aug-2011', 'Dec-2016', 'Mar-2009',\n",
       "       'Jun-2010', 'May-2010', 'Nov-2011', 'Sep-2016', 'Oct-2009',\n",
       "       'Mar-2008', 'Nov-2008', 'Dec-2009', 'Oct-2010', 'Sep-2009',\n",
       "       'Oct-2007', 'Aug-2009', 'Jul-2009', 'Nov-2009', 'Jan-2010',\n",
       "       'Dec-2008', 'Feb-2009', 'Oct-2008', 'Apr-2009', 'Feb-2010',\n",
       "       'Apr-2011', 'Apr-2008', 'Aug-2008', 'Jan-2009', 'Feb-2008',\n",
       "       'Aug-2007', 'Sep-2008', 'Dec-2007', 'Jan-2008', 'Sep-2007',\n",
       "       'Jun-2008', 'Jul-2008', 'Jun-2007', 'Nov-2007', 'Jul-2007'],\n",
       "      dtype=object)"
      ]
     },
     "execution_count": 95,
     "metadata": {},
     "output_type": "execute_result"
    }
   ],
   "source": [
    "df['issue_d'].unique()"
   ]
  },
  {
   "cell_type": "code",
   "execution_count": 96,
   "id": "a8b48bcc",
   "metadata": {},
   "outputs": [],
   "source": [
    "df['issue_d'] = pd.to_datetime(df['issue_d'])"
   ]
  },
  {
   "cell_type": "code",
   "execution_count": 97,
   "id": "bd15b8ab",
   "metadata": {},
   "outputs": [],
   "source": [
    "df['issue_d_year'] = df['issue_d'].apply(lambda date : date.year)\n",
    "df['issue_d_month'] = df['issue_d'].apply(lambda date : date.month)"
   ]
  },
  {
   "cell_type": "markdown",
   "id": "6b7f1e28",
   "metadata": {},
   "source": [
    "# feature 'home_ownership'"
   ]
  },
  {
   "cell_type": "code",
   "execution_count": 98,
   "id": "a5658d16",
   "metadata": {},
   "outputs": [
    {
     "name": "stdout",
     "output_type": "stream",
     "text": [
      "The home ownership status provided by the borrower during registration or obtained from the credit report. Our values are: RENT, OWN, MORTGAGE, OTHER\n"
     ]
    }
   ],
   "source": [
    "print(data_info.loc['home_ownership']['Description'])"
   ]
  },
  {
   "cell_type": "code",
   "execution_count": 99,
   "id": "dbaa0f23",
   "metadata": {},
   "outputs": [],
   "source": [
    "ownership_h = pd.get_dummies(df['home_ownership'])"
   ]
  },
  {
   "cell_type": "code",
   "execution_count": null,
   "id": "175920dc",
   "metadata": {},
   "outputs": [],
   "source": []
  },
  {
   "cell_type": "markdown",
   "id": "53d9d509",
   "metadata": {},
   "source": [
    "## feature 'purpose'"
   ]
  },
  {
   "cell_type": "code",
   "execution_count": 100,
   "id": "288514eb",
   "metadata": {},
   "outputs": [
    {
     "name": "stdout",
     "output_type": "stream",
     "text": [
      "A category provided by the borrower for the loan request. \n"
     ]
    }
   ],
   "source": [
    "print(data_info.loc['purpose']['Description'])"
   ]
  },
  {
   "cell_type": "code",
   "execution_count": 101,
   "id": "8b03025a",
   "metadata": {},
   "outputs": [
    {
     "data": {
      "text/plain": [
       "array(['vacation', 'debt_consolidation', 'credit_card',\n",
       "       'home_improvement', 'small_business', 'major_purchase', 'other',\n",
       "       'medical', 'wedding', 'car', 'moving', 'house', 'educational',\n",
       "       'renewable_energy'], dtype=object)"
      ]
     },
     "execution_count": 101,
     "metadata": {},
     "output_type": "execute_result"
    }
   ],
   "source": [
    "df['purpose'].unique()"
   ]
  },
  {
   "cell_type": "code",
   "execution_count": 102,
   "id": "a1869e27",
   "metadata": {},
   "outputs": [],
   "source": [
    "purpose_h = pd.get_dummies(df['purpose'])"
   ]
  },
  {
   "cell_type": "markdown",
   "id": "7ba91476",
   "metadata": {},
   "source": [
    "## feature 'title' and 'earliest_cr_line'"
   ]
  },
  {
   "cell_type": "code",
   "execution_count": 103,
   "id": "32d28eda",
   "metadata": {},
   "outputs": [
    {
     "name": "stdout",
     "output_type": "stream",
     "text": [
      "The loan title provided by the borrower\n"
     ]
    }
   ],
   "source": [
    "print(data_info.loc['title']['Description'])"
   ]
  },
  {
   "cell_type": "code",
   "execution_count": 104,
   "id": "b307b48d",
   "metadata": {},
   "outputs": [
    {
     "name": "stdout",
     "output_type": "stream",
     "text": [
      "The month the borrower's earliest reported credit line was opened\n"
     ]
    }
   ],
   "source": [
    "print(data_info.loc['earliest_cr_line']['Description'])"
   ]
  },
  {
   "cell_type": "markdown",
   "id": "4814b556",
   "metadata": {},
   "source": [
    "## feature 'initial_list_status' and 'application_type'"
   ]
  },
  {
   "cell_type": "code",
   "execution_count": 105,
   "id": "501a95ad",
   "metadata": {},
   "outputs": [
    {
     "name": "stdout",
     "output_type": "stream",
     "text": [
      "The initial listing status of the loan. Possible values are – W, F\n"
     ]
    }
   ],
   "source": [
    "print(data_info.loc['initial_list_status']['Description'])"
   ]
  },
  {
   "cell_type": "code",
   "execution_count": 106,
   "id": "779666a6",
   "metadata": {},
   "outputs": [],
   "source": [
    "initial_list_h = pd.get_dummies(df['initial_list_status'], drop_first=True)"
   ]
  },
  {
   "cell_type": "code",
   "execution_count": 107,
   "id": "8ad535f2",
   "metadata": {},
   "outputs": [
    {
     "name": "stdout",
     "output_type": "stream",
     "text": [
      "Indicates whether the loan is an individual application or a joint application with two co-borrowers\n"
     ]
    }
   ],
   "source": [
    "print(data_info.loc['application_type']['Description'])"
   ]
  },
  {
   "cell_type": "code",
   "execution_count": 108,
   "id": "1293bae5",
   "metadata": {},
   "outputs": [],
   "source": [
    "application_type_h = pd.get_dummies(df['application_type'], drop_first=True)"
   ]
  },
  {
   "cell_type": "markdown",
   "id": "4e418e63",
   "metadata": {},
   "source": [
    "## feature 'address'"
   ]
  },
  {
   "cell_type": "code",
   "execution_count": 109,
   "id": "5afb68ca",
   "metadata": {},
   "outputs": [
    {
     "name": "stdout",
     "output_type": "stream",
     "text": [
      "The state provided by the borrower in the loan application\n"
     ]
    }
   ],
   "source": [
    "print(data_info.loc['addr_state']['Description'])"
   ]
  },
  {
   "cell_type": "code",
   "execution_count": 110,
   "id": "345007c4",
   "metadata": {},
   "outputs": [
    {
     "name": "stdout",
     "output_type": "stream",
     "text": [
      "The month the borrower's earliest reported credit line was opened\n"
     ]
    }
   ],
   "source": [
    "print(data_info.loc['earliest_cr_line']['Description'])"
   ]
  },
  {
   "cell_type": "code",
   "execution_count": 111,
   "id": "71c22e9b",
   "metadata": {},
   "outputs": [],
   "source": [
    "df = df.drop(labels=['address'], axis=1)"
   ]
  },
  {
   "cell_type": "code",
   "execution_count": 112,
   "id": "de588260",
   "metadata": {},
   "outputs": [],
   "source": [
    "df = pd.concat([df,term_h,application_type_h,initial_list_h,purpose_h,ownership_h,\n",
    "               verification_h,grade_h,emp_length_h], axis=1)"
   ]
  },
  {
   "cell_type": "code",
   "execution_count": null,
   "id": "532646e6",
   "metadata": {},
   "outputs": [],
   "source": []
  },
  {
   "cell_type": "code",
   "execution_count": 113,
   "id": "6d1dab89",
   "metadata": {},
   "outputs": [
    {
     "data": {
      "text/plain": [
       "<matplotlib.axes._subplots.AxesSubplot at 0x7fda4da81400>"
      ]
     },
     "execution_count": 113,
     "metadata": {},
     "output_type": "execute_result"
    },
    {
     "data": {
      "image/png": "[encoded data removed]",
      "text/plain": [
       "<Figure size 1008x576 with 1 Axes>"
      ]
     },
     "metadata": {
      "needs_background": "light"
     },
     "output_type": "display_data"
    }
   ],
   "source": [
    "plt.figure(figsize=(14,8))\n",
    "df.corr()['loan_status'].sort_values().plot(kind='bar')"
   ]
  },
  {
   "cell_type": "markdown",
   "id": "1b05ace2",
   "metadata": {},
   "source": [
    " Since we observe that there are some features that are slightly correlated with the loan status, we can drop them.\n",
    " \n",
    " In additon we will drop every column that we have transformed into dummies."
   ]
  },
  {
   "cell_type": "code",
   "execution_count": 114,
   "id": "aa5daa15",
   "metadata": {},
   "outputs": [
    {
     "name": "stdout",
     "output_type": "stream",
     "text": [
      "<class 'pandas.core.frame.DataFrame'>\n",
      "RangeIndex: 396030 entries, 0 to 396029\n",
      "Data columns (total 61 columns):\n",
      " #   Column                Non-Null Count   Dtype         \n",
      "---  ------                --------------   -----         \n",
      " 0   loan_amnt             396030 non-null  float64       \n",
      " 1   int_rate              396030 non-null  float64       \n",
      " 2   installment           396030 non-null  float64       \n",
      " 3   grade                 396030 non-null  object        \n",
      " 4   emp_length            396030 non-null  object        \n",
      " 5   home_ownership        396030 non-null  object        \n",
      " 6   annual_inc            396030 non-null  float64       \n",
      " 7   verification_status   396030 non-null  object        \n",
      " 8   issue_d               396030 non-null  datetime64[ns]\n",
      " 9   loan_status           396030 non-null  int64         \n",
      " 10  purpose               396030 non-null  object        \n",
      " 11  title                 394275 non-null  object        \n",
      " 12  dti                   396030 non-null  float64       \n",
      " 13  earliest_cr_line      396030 non-null  object        \n",
      " 14  open_acc              396030 non-null  float64       \n",
      " 15  pub_rec               396030 non-null  float64       \n",
      " 16  revol_bal             396030 non-null  float64       \n",
      " 17  revol_util            395754 non-null  float64       \n",
      " 18  total_acc             396030 non-null  float64       \n",
      " 19  initial_list_status   396030 non-null  object        \n",
      " 20  application_type      396030 non-null  object        \n",
      " 21  mort_acc              358235 non-null  float64       \n",
      " 22  pub_rec_bankruptcies  395495 non-null  float64       \n",
      " 23  issue_d_year          396030 non-null  int64         \n",
      " 24  issue_d_month         396030 non-null  int64         \n",
      " 25   36 months            396030 non-null  uint8         \n",
      " 26   60 months            396030 non-null  uint8         \n",
      " 27  INDIVIDUAL            396030 non-null  uint8         \n",
      " 28  JOINT                 396030 non-null  uint8         \n",
      " 29  w                     396030 non-null  uint8         \n",
      " 30  car                   396030 non-null  uint8         \n",
      " 31  credit_card           396030 non-null  uint8         \n",
      " 32  debt_consolidation    396030 non-null  uint8         \n",
      " 33  educational           396030 non-null  uint8         \n",
      " 34  home_improvement      396030 non-null  uint8         \n",
      " 35  house                 396030 non-null  uint8         \n",
      " 36  major_purchase        396030 non-null  uint8         \n",
      " 37  medical               396030 non-null  uint8         \n",
      " 38  moving                396030 non-null  uint8         \n",
      " 39  other                 396030 non-null  uint8         \n",
      " 40  renewable_energy      396030 non-null  uint8         \n",
      " 41  small_business        396030 non-null  uint8         \n",
      " 42  vacation              396030 non-null  uint8         \n",
      " 43  wedding               396030 non-null  uint8         \n",
      " 44  ANY                   396030 non-null  uint8         \n",
      " 45  MORTGAGE              396030 non-null  uint8         \n",
      " 46  NONE                  396030 non-null  uint8         \n",
      " 47  OTHER                 396030 non-null  uint8         \n",
      " 48  OWN                   396030 non-null  uint8         \n",
      " 49  RENT                  396030 non-null  uint8         \n",
      " 50  Not Verified          396030 non-null  uint8         \n",
      " 51  Source Verified       396030 non-null  uint8         \n",
      " 52  Verified              396030 non-null  uint8         \n",
      " 53  A                     396030 non-null  uint8         \n",
      " 54  B                     396030 non-null  uint8         \n",
      " 55  C                     396030 non-null  uint8         \n",
      " 56  D                     396030 non-null  uint8         \n",
      " 57  E                     396030 non-null  uint8         \n",
      " 58  F                     396030 non-null  uint8         \n",
      " 59  G                     396030 non-null  uint8         \n",
      " 60  Short term            396030 non-null  uint8         \n",
      "dtypes: datetime64[ns](1), float64(12), int64(3), object(9), uint8(36)\n",
      "memory usage: 89.1+ MB\n"
     ]
    }
   ],
   "source": [
    "df.info()"
   ]
  },
  {
   "cell_type": "code",
   "execution_count": 115,
   "id": "1f8a83bd",
   "metadata": {},
   "outputs": [],
   "source": [
    "df = df.drop(['application_type','initial_list_status','title','purpose',\n",
    "              'home_ownership','emp_length','grade','earliest_cr_line',\n",
    "              'verification_status','issue_d'], axis=1)"
   ]
  },
  {
   "cell_type": "code",
   "execution_count": 122,
   "id": "fa0a22cb",
   "metadata": {},
   "outputs": [
    {
     "name": "stdout",
     "output_type": "stream",
     "text": [
      "<class 'pandas.core.frame.DataFrame'>\n",
      "RangeIndex: 396030 entries, 0 to 396029\n",
      "Data columns (total 51 columns):\n",
      " #   Column                Non-Null Count   Dtype  \n",
      "---  ------                --------------   -----  \n",
      " 0   loan_amnt             396030 non-null  float64\n",
      " 1   int_rate              396030 non-null  float64\n",
      " 2   installment           396030 non-null  float64\n",
      " 3   annual_inc            396030 non-null  float64\n",
      " 4   loan_status           396030 non-null  int64  \n",
      " 5   dti                   396030 non-null  float64\n",
      " 6   open_acc              396030 non-null  float64\n",
      " 7   pub_rec               396030 non-null  float64\n",
      " 8   revol_bal             396030 non-null  float64\n",
      " 9   revol_util            395754 non-null  float64\n",
      " 10  total_acc             396030 non-null  float64\n",
      " 11  mort_acc              358235 non-null  float64\n",
      " 12  pub_rec_bankruptcies  395495 non-null  float64\n",
      " 13  issue_d_year          396030 non-null  int64  \n",
      " 14  issue_d_month         396030 non-null  int64  \n",
      " 15   36 months            396030 non-null  uint8  \n",
      " 16   60 months            396030 non-null  uint8  \n",
      " 17  INDIVIDUAL            396030 non-null  uint8  \n",
      " 18  JOINT                 396030 non-null  uint8  \n",
      " 19  w                     396030 non-null  uint8  \n",
      " 20  car                   396030 non-null  uint8  \n",
      " 21  credit_card           396030 non-null  uint8  \n",
      " 22  debt_consolidation    396030 non-null  uint8  \n",
      " 23  educational           396030 non-null  uint8  \n",
      " 24  home_improvement      396030 non-null  uint8  \n",
      " 25  house                 396030 non-null  uint8  \n",
      " 26  major_purchase        396030 non-null  uint8  \n",
      " 27  medical               396030 non-null  uint8  \n",
      " 28  moving                396030 non-null  uint8  \n",
      " 29  other                 396030 non-null  uint8  \n",
      " 30  renewable_energy      396030 non-null  uint8  \n",
      " 31  small_business        396030 non-null  uint8  \n",
      " 32  vacation              396030 non-null  uint8  \n",
      " 33  wedding               396030 non-null  uint8  \n",
      " 34  ANY                   396030 non-null  uint8  \n",
      " 35  MORTGAGE              396030 non-null  uint8  \n",
      " 36  NONE                  396030 non-null  uint8  \n",
      " 37  OTHER                 396030 non-null  uint8  \n",
      " 38  OWN                   396030 non-null  uint8  \n",
      " 39  RENT                  396030 non-null  uint8  \n",
      " 40  Not Verified          396030 non-null  uint8  \n",
      " 41  Source Verified       396030 non-null  uint8  \n",
      " 42  Verified              396030 non-null  uint8  \n",
      " 43  A                     396030 non-null  uint8  \n",
      " 44  B                     396030 non-null  uint8  \n",
      " 45  C                     396030 non-null  uint8  \n",
      " 46  D                     396030 non-null  uint8  \n",
      " 47  E                     396030 non-null  uint8  \n",
      " 48  F                     396030 non-null  uint8  \n",
      " 49  G                     396030 non-null  uint8  \n",
      " 50  Short term            396030 non-null  uint8  \n",
      "dtypes: float64(12), int64(3), uint8(36)\n",
      "memory usage: 58.9 MB\n"
     ]
    }
   ],
   "source": [
    "df.info()"
   ]
  },
  {
   "cell_type": "markdown",
   "id": "77b48f74",
   "metadata": {},
   "source": [
    "# Now we build our model"
   ]
  },
  {
   "cell_type": "markdown",
   "id": "98653495",
   "metadata": {},
   "source": [
    "We split our data"
   ]
  },
  {
   "cell_type": "code",
   "execution_count": 55,
   "id": "a0ee5b62",
   "metadata": {},
   "outputs": [],
   "source": [
    "from sklearn.model_selection import train_test_split"
   ]
  },
  {
   "cell_type": "code",
   "execution_count": 116,
   "id": "b1ad7652",
   "metadata": {},
   "outputs": [],
   "source": [
    "X = df.drop('loan_status', axis=1).values\n",
    "y = df['loan_status'].values"
   ]
  },
  {
   "cell_type": "code",
   "execution_count": 117,
   "id": "d64eb02d",
   "metadata": {},
   "outputs": [],
   "source": [
    "X_train, X_test, y_train, y_test = train_test_split(\n",
    "X, y, test_size=0.3, random_state=101)"
   ]
  },
  {
   "cell_type": "markdown",
   "id": "91ed4af0",
   "metadata": {},
   "source": [
    "Now we scale our data"
   ]
  },
  {
   "cell_type": "code",
   "execution_count": 58,
   "id": "eeff949b",
   "metadata": {},
   "outputs": [],
   "source": [
    "from sklearn.preprocessing import MinMaxScaler"
   ]
  },
  {
   "cell_type": "code",
   "execution_count": 59,
   "id": "eca478af",
   "metadata": {},
   "outputs": [],
   "source": [
    "scaler = MinMaxScaler()"
   ]
  },
  {
   "cell_type": "code",
   "execution_count": null,
   "id": "d2df902c",
   "metadata": {},
   "outputs": [],
   "source": []
  },
  {
   "cell_type": "code",
   "execution_count": 118,
   "id": "02c10691",
   "metadata": {},
   "outputs": [],
   "source": [
    "X_train = scaler.fit_transform(X_train)"
   ]
  },
  {
   "cell_type": "code",
   "execution_count": 119,
   "id": "0d1c9a6f",
   "metadata": {},
   "outputs": [],
   "source": [
    "X_test = scaler.transform(X_test)"
   ]
  },
  {
   "cell_type": "markdown",
   "id": "5da4390f",
   "metadata": {},
   "source": [
    "Now we create our model"
   ]
  },
  {
   "cell_type": "code",
   "execution_count": 120,
   "id": "38704901",
   "metadata": {},
   "outputs": [
    {
     "name": "stderr",
     "output_type": "stream",
     "text": [
      "2024-08-14 16:57:24.151502: I tensorflow/tsl/cuda/cudart_stub.cc:28] Could not find cuda drivers on your machine, GPU will not be used.\n",
      "2024-08-14 16:57:27.978105: I tensorflow/tsl/cuda/cudart_stub.cc:28] Could not find cuda drivers on your machine, GPU will not be used.\n",
      "2024-08-14 16:57:27.983736: I tensorflow/core/platform/cpu_feature_guard.cc:182] This TensorFlow binary is optimized to use available CPU instructions in performance-critical operations.\n",
      "To enable the following instructions: AVX2 FMA, in other operations, rebuild TensorFlow with the appropriate compiler flags.\n",
      "2024-08-14 16:57:36.597099: W tensorflow/compiler/tf2tensorrt/utils/py_utils.cc:38] TF-TRT Warning: Could not find TensorRT\n"
     ]
    }
   ],
   "source": [
    "from tensorflow.keras.models import Sequential\n",
    "from tensorflow.keras.layers import Dense,Dropout\n",
    "from tensorflow.keras.callbacks import EarlyStopping"
   ]
  },
  {
   "cell_type": "code",
   "execution_count": 121,
   "id": "b1afbcf9",
   "metadata": {},
   "outputs": [
    {
     "data": {
      "text/plain": [
       "(277221, 50)"
      ]
     },
     "execution_count": 121,
     "metadata": {},
     "output_type": "execute_result"
    }
   ],
   "source": [
    "X_train.shape"
   ]
  },
  {
   "cell_type": "code",
   "execution_count": 123,
   "id": "03f19f42",
   "metadata": {},
   "outputs": [],
   "source": [
    "model = Sequential()\n",
    "\n",
    "model.add(Dense(50, activation='relu'))\n",
    "model.add(Dense(25, activation='relu'))\n",
    "#For binary classification model de last layer must have a sigmoid function as activation function\n",
    "model.add(Dense(1, activation='sigmoid'))\n",
    "\n",
    "model.compile(loss='binary_crossentropy',optimizer='adam')"
   ]
  },
  {
   "cell_type": "code",
   "execution_count": null,
   "id": "f6433b63",
   "metadata": {},
   "outputs": [],
   "source": []
  }
 ],
 "metadata": {
  "kernelspec": {
   "display_name": "Python 3 (ipykernel)",
   "language": "python",
   "name": "python3"
  },
  "language_info": {
   "codemirror_mode": {
    "name": "ipython",
    "version": 3
   },
   "file_extension": ".py",
   "mimetype": "text/x-python",
   "name": "python",
   "nbconvert_exporter": "python",
   "pygments_lexer": "ipython3",
   "version": "3.8.10"
  }
 },
 "nbformat": 4,
 "nbformat_minor": 5
}
