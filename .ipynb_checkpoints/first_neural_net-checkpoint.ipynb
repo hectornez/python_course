{
 "cells": [
  {
   "cell_type": "code",
   "execution_count": 2,
   "id": "b701d8d8",
   "metadata": {},
   "outputs": [],
   "source": [
    "import pandas as pd\n",
    "import numpy as np\n",
    "import seaborn as sns"
   ]
  },
  {
   "cell_type": "code",
   "execution_count": 3,
   "id": "3fcca797",
   "metadata": {},
   "outputs": [],
   "source": [
    "df = pd.read_csv('DATA/fake_reg.csv')"
   ]
  },
  {
   "cell_type": "code",
   "execution_count": 4,
   "id": "f820e0f3",
   "metadata": {},
   "outputs": [
    {
     "data": {
      "text/html": [
       "<div>\n",
       "<style scoped>\n",
       "    .dataframe tbody tr th:only-of-type {\n",
       "        vertical-align: middle;\n",
       "    }\n",
       "\n",
       "    .dataframe tbody tr th {\n",
       "        vertical-align: top;\n",
       "    }\n",
       "\n",
       "    .dataframe thead th {\n",
       "        text-align: right;\n",
       "    }\n",
       "</style>\n",
       "<table border=\"1\" class=\"dataframe\">\n",
       "  <thead>\n",
       "    <tr style=\"text-align: right;\">\n",
       "      <th></th>\n",
       "      <th>price</th>\n",
       "      <th>feature1</th>\n",
       "      <th>feature2</th>\n",
       "    </tr>\n",
       "  </thead>\n",
       "  <tbody>\n",
       "    <tr>\n",
       "      <th>0</th>\n",
       "      <td>461.527929</td>\n",
       "      <td>999.787558</td>\n",
       "      <td>999.766096</td>\n",
       "    </tr>\n",
       "    <tr>\n",
       "      <th>1</th>\n",
       "      <td>548.130011</td>\n",
       "      <td>998.861615</td>\n",
       "      <td>1001.042403</td>\n",
       "    </tr>\n",
       "    <tr>\n",
       "      <th>2</th>\n",
       "      <td>410.297162</td>\n",
       "      <td>1000.070267</td>\n",
       "      <td>998.844015</td>\n",
       "    </tr>\n",
       "    <tr>\n",
       "      <th>3</th>\n",
       "      <td>540.382220</td>\n",
       "      <td>999.952251</td>\n",
       "      <td>1000.440940</td>\n",
       "    </tr>\n",
       "    <tr>\n",
       "      <th>4</th>\n",
       "      <td>546.024553</td>\n",
       "      <td>1000.446011</td>\n",
       "      <td>1000.338531</td>\n",
       "    </tr>\n",
       "  </tbody>\n",
       "</table>\n",
       "</div>"
      ],
      "text/plain": [
       "        price     feature1     feature2\n",
       "0  461.527929   999.787558   999.766096\n",
       "1  548.130011   998.861615  1001.042403\n",
       "2  410.297162  1000.070267   998.844015\n",
       "3  540.382220   999.952251  1000.440940\n",
       "4  546.024553  1000.446011  1000.338531"
      ]
     },
     "execution_count": 4,
     "metadata": {},
     "output_type": "execute_result"
    }
   ],
   "source": [
    "df.head()"
   ]
  },
  {
   "cell_type": "code",
   "execution_count": 5,
   "id": "38fcb3b1",
   "metadata": {},
   "outputs": [],
   "source": [
    "from sklearn.model_selection import train_test_split"
   ]
  },
  {
   "cell_type": "markdown",
   "id": "4a65f7c9",
   "metadata": {},
   "source": [
    "As TensorFlow works with numpy arrays and not with pandas series or pandas dataframes, we have to add .values to get a numpy array"
   ]
  },
  {
   "cell_type": "code",
   "execution_count": 6,
   "id": "d53c23e5",
   "metadata": {},
   "outputs": [],
   "source": [
    "X = df[['feature1','feature2']].values"
   ]
  },
  {
   "cell_type": "code",
   "execution_count": 7,
   "id": "84b5ae9f",
   "metadata": {},
   "outputs": [
    {
     "data": {
      "text/plain": [
       "array([[ 999.78755752,  999.7660962 ],\n",
       "       [ 998.86161491, 1001.04240315],\n",
       "       [1000.07026691,  998.84401463],\n",
       "       ...,\n",
       "       [1001.45164617,  998.84760554],\n",
       "       [1000.77102275,  998.56285086],\n",
       "       [ 999.2322436 , 1001.45140713]])"
      ]
     },
     "execution_count": 7,
     "metadata": {},
     "output_type": "execute_result"
    }
   ],
   "source": [
    "X"
   ]
  },
  {
   "cell_type": "code",
   "execution_count": 8,
   "id": "d5d78a31",
   "metadata": {},
   "outputs": [],
   "source": [
    "y = df['price'].values"
   ]
  },
  {
   "cell_type": "code",
   "execution_count": 9,
   "id": "b5d7007a",
   "metadata": {},
   "outputs": [],
   "source": [
    "X_train, X_test, y_train, y_test = train_test_split(X, y, test_size=0.3, random_state=42)"
   ]
  },
  {
   "cell_type": "code",
   "execution_count": 10,
   "id": "f0d181ad",
   "metadata": {},
   "outputs": [
    {
     "data": {
      "text/plain": [
       "(700, 2)"
      ]
     },
     "execution_count": 10,
     "metadata": {},
     "output_type": "execute_result"
    }
   ],
   "source": [
    "X_train.shape"
   ]
  },
  {
   "cell_type": "code",
   "execution_count": 11,
   "id": "bb97cf2a",
   "metadata": {},
   "outputs": [
    {
     "data": {
      "text/plain": [
       "(300, 2)"
      ]
     },
     "execution_count": 11,
     "metadata": {},
     "output_type": "execute_result"
    }
   ],
   "source": [
    "X_test.shape"
   ]
  },
  {
   "cell_type": "markdown",
   "id": "1ffe6334",
   "metadata": {},
   "source": [
    "### Tipicamente el siguiente paso en normalizar o escalar los datos. Como estamos trabajando con weights y biases, si tenemos valores muy altos en las feature sets, nos puede causar error en dichos weights y biases. Por lo que la mejor manera de hacerlo es a través de la libreria de sklearn MinMaxScaler. Esto normaliza los datos basandose en la desviación estandar"
   ]
  },
  {
   "cell_type": "code",
   "execution_count": 12,
   "id": "59abeb1c",
   "metadata": {},
   "outputs": [],
   "source": [
    "from sklearn.preprocessing import MinMaxScaler"
   ]
  },
  {
   "cell_type": "markdown",
   "id": "535b1669",
   "metadata": {},
   "source": [
    "Creamos una instancia o variable, típicamente llamada 'scaler'"
   ]
  },
  {
   "cell_type": "code",
   "execution_count": 13,
   "id": "38bbfb33",
   "metadata": {},
   "outputs": [],
   "source": [
    "scaler = MinMaxScaler()"
   ]
  },
  {
   "cell_type": "markdown",
   "id": "749fa64b",
   "metadata": {},
   "source": [
    "Lo que hace .fit() es calcular los parámetros necesarios para llevar a cabo esa normalización. Para ello se basa en los datos que le demos, en este caso X_train.\n",
    "Se utilizan siempre los datos de entrenamiento para que el modelo no vea nunca los datos del test hasta el momento adecuado."
   ]
  },
  {
   "cell_type": "code",
   "execution_count": 14,
   "id": "1454341b",
   "metadata": {},
   "outputs": [
    {
     "data": {
      "text/html": [
       "<style>#sk-container-id-1 {color: black;background-color: white;}#sk-container-id-1 pre{padding: 0;}#sk-container-id-1 div.sk-toggleable {background-color: white;}#sk-container-id-1 label.sk-toggleable__label {cursor: pointer;display: block;width: 100%;margin-bottom: 0;padding: 0.3em;box-sizing: border-box;text-align: center;}#sk-container-id-1 label.sk-toggleable__label-arrow:before {content: \"▸\";float: left;margin-right: 0.25em;color: #696969;}#sk-container-id-1 label.sk-toggleable__label-arrow:hover:before {color: black;}#sk-container-id-1 div.sk-estimator:hover label.sk-toggleable__label-arrow:before {color: black;}#sk-container-id-1 div.sk-toggleable__content {max-height: 0;max-width: 0;overflow: hidden;text-align: left;background-color: #f0f8ff;}#sk-container-id-1 div.sk-toggleable__content pre {margin: 0.2em;color: black;border-radius: 0.25em;background-color: #f0f8ff;}#sk-container-id-1 input.sk-toggleable__control:checked~div.sk-toggleable__content {max-height: 200px;max-width: 100%;overflow: auto;}#sk-container-id-1 input.sk-toggleable__control:checked~label.sk-toggleable__label-arrow:before {content: \"▾\";}#sk-container-id-1 div.sk-estimator input.sk-toggleable__control:checked~label.sk-toggleable__label {background-color: #d4ebff;}#sk-container-id-1 div.sk-label input.sk-toggleable__control:checked~label.sk-toggleable__label {background-color: #d4ebff;}#sk-container-id-1 input.sk-hidden--visually {border: 0;clip: rect(1px 1px 1px 1px);clip: rect(1px, 1px, 1px, 1px);height: 1px;margin: -1px;overflow: hidden;padding: 0;position: absolute;width: 1px;}#sk-container-id-1 div.sk-estimator {font-family: monospace;background-color: #f0f8ff;border: 1px dotted black;border-radius: 0.25em;box-sizing: border-box;margin-bottom: 0.5em;}#sk-container-id-1 div.sk-estimator:hover {background-color: #d4ebff;}#sk-container-id-1 div.sk-parallel-item::after {content: \"\";width: 100%;border-bottom: 1px solid gray;flex-grow: 1;}#sk-container-id-1 div.sk-label:hover label.sk-toggleable__label {background-color: #d4ebff;}#sk-container-id-1 div.sk-serial::before {content: \"\";position: absolute;border-left: 1px solid gray;box-sizing: border-box;top: 0;bottom: 0;left: 50%;z-index: 0;}#sk-container-id-1 div.sk-serial {display: flex;flex-direction: column;align-items: center;background-color: white;padding-right: 0.2em;padding-left: 0.2em;position: relative;}#sk-container-id-1 div.sk-item {position: relative;z-index: 1;}#sk-container-id-1 div.sk-parallel {display: flex;align-items: stretch;justify-content: center;background-color: white;position: relative;}#sk-container-id-1 div.sk-item::before, #sk-container-id-1 div.sk-parallel-item::before {content: \"\";position: absolute;border-left: 1px solid gray;box-sizing: border-box;top: 0;bottom: 0;left: 50%;z-index: -1;}#sk-container-id-1 div.sk-parallel-item {display: flex;flex-direction: column;z-index: 1;position: relative;background-color: white;}#sk-container-id-1 div.sk-parallel-item:first-child::after {align-self: flex-end;width: 50%;}#sk-container-id-1 div.sk-parallel-item:last-child::after {align-self: flex-start;width: 50%;}#sk-container-id-1 div.sk-parallel-item:only-child::after {width: 0;}#sk-container-id-1 div.sk-dashed-wrapped {border: 1px dashed gray;margin: 0 0.4em 0.5em 0.4em;box-sizing: border-box;padding-bottom: 0.4em;background-color: white;}#sk-container-id-1 div.sk-label label {font-family: monospace;font-weight: bold;display: inline-block;line-height: 1.2em;}#sk-container-id-1 div.sk-label-container {text-align: center;}#sk-container-id-1 div.sk-container {/* jupyter's `normalize.less` sets `[hidden] { display: none; }` but bootstrap.min.css set `[hidden] { display: none !important; }` so we also need the `!important` here to be able to override the default hidden behavior on the sphinx rendered scikit-learn.org. See: https://github.com/scikit-learn/scikit-learn/issues/21755 */display: inline-block !important;position: relative;}#sk-container-id-1 div.sk-text-repr-fallback {display: none;}</style><div id=\"sk-container-id-1\" class=\"sk-top-container\"><div class=\"sk-text-repr-fallback\"><pre>MinMaxScaler()</pre><b>In a Jupyter environment, please rerun this cell to show the HTML representation or trust the notebook. <br />On GitHub, the HTML representation is unable to render, please try loading this page with nbviewer.org.</b></div><div class=\"sk-container\" hidden><div class=\"sk-item\"><div class=\"sk-estimator sk-toggleable\"><input class=\"sk-toggleable__control sk-hidden--visually\" id=\"sk-estimator-id-1\" type=\"checkbox\" checked><label for=\"sk-estimator-id-1\" class=\"sk-toggleable__label sk-toggleable__label-arrow\">MinMaxScaler</label><div class=\"sk-toggleable__content\"><pre>MinMaxScaler()</pre></div></div></div></div></div>"
      ],
      "text/plain": [
       "MinMaxScaler()"
      ]
     },
     "execution_count": 14,
     "metadata": {},
     "output_type": "execute_result"
    }
   ],
   "source": [
    "scaler.fit(X_train)"
   ]
  },
  {
   "cell_type": "markdown",
   "id": "464f2874",
   "metadata": {},
   "source": [
    "Una vez tenemos los parámetros, lo que haremos será normalizar nuestros datos. Esta normalización se hará para obtener valores entre 0 y 1."
   ]
  },
  {
   "cell_type": "code",
   "execution_count": 15,
   "id": "b2636af1",
   "metadata": {},
   "outputs": [],
   "source": [
    "X_train = scaler.transform(X_train)"
   ]
  },
  {
   "cell_type": "code",
   "execution_count": 16,
   "id": "959fdc55",
   "metadata": {},
   "outputs": [],
   "source": [
    "X_test = scaler.transform(X_test)"
   ]
  },
  {
   "cell_type": "markdown",
   "id": "011cdd4b",
   "metadata": {},
   "source": [
    "Comprobamos los valores, para ver que la normalización ha sido realizada correctamente."
   ]
  },
  {
   "cell_type": "code",
   "execution_count": 17,
   "id": "5c4462c8",
   "metadata": {},
   "outputs": [
    {
     "data": {
      "text/plain": [
       "0.0"
      ]
     },
     "execution_count": 17,
     "metadata": {},
     "output_type": "execute_result"
    }
   ],
   "source": [
    "X_train.min()"
   ]
  },
  {
   "cell_type": "code",
   "execution_count": 18,
   "id": "285b7225",
   "metadata": {},
   "outputs": [
    {
     "data": {
      "text/plain": [
       "1.0"
      ]
     },
     "execution_count": 18,
     "metadata": {},
     "output_type": "execute_result"
    }
   ],
   "source": [
    "X_train.max()"
   ]
  },
  {
   "cell_type": "markdown",
   "id": "6ada7c0e",
   "metadata": {},
   "source": [
    "Now we create the model. With this two we create a Sequential model, and then add more layers with Dense"
   ]
  },
  {
   "cell_type": "code",
   "execution_count": 1,
   "id": "2a14792e",
   "metadata": {},
   "outputs": [],
   "source": [
    "from tensorflow.kerasras.models import Sequential"
   ]
  },
  {
   "cell_type": "code",
   "execution_count": 19,
   "id": "e6899578",
   "metadata": {},
   "outputs": [],
   "source": [
    "from tensorflow.keras.layers import Dense"
   ]
  },
  {
   "cell_type": "markdown",
   "id": "e8d896e2",
   "metadata": {},
   "source": [
    "help(Dense)\n",
    "\n",
    "Sequential() - we pass a list of the layers we want as []\n",
    "\n",
    "Dense(units-number of neurons) - densenly- connected es que cada neuron está conectado con todos los neurones de la siguiente layer."
   ]
  },
  {
   "cell_type": "code",
   "execution_count": 21,
   "id": "126ae1a9",
   "metadata": {},
   "outputs": [],
   "source": [
    "model = Sequential([Dense(4, activation='relu'), Dense(2, activation='relu'), \n",
    "                   Dense(1)])"
   ]
  },
  {
   "cell_type": "markdown",
   "id": "085a3ed5",
   "metadata": {},
   "source": [
    "Another way to creat a model is as follows"
   ]
  },
  {
   "cell_type": "code",
   "execution_count": 23,
   "id": "8457b560",
   "metadata": {},
   "outputs": [],
   "source": [
    "model = Sequential()\n",
    "\n",
    "model.add(Dense(4, activation='relu'))\n",
    "\n",
    "model.add(Dense(4, activation='relu'))\n",
    "\n",
    "model.add(Dense(4, activation='relu'))\n",
    "\n",
    "model.add(Dense(1)) # final output layer\n",
    "\n",
    "model.compile(optimizer='rmsprop', loss='mse') #mse- mean square error"
   ]
  },
  {
   "cell_type": "markdown",
   "id": "7103dce0",
   "metadata": {},
   "source": [
    "### Lo que vamos a obtener es un precio final basándonos en la feature1 y la feature 2"
   ]
  },
  {
   "cell_type": "code",
   "execution_count": 24,
   "id": "1574d964",
   "metadata": {},
   "outputs": [
    {
     "name": "stdout",
     "output_type": "stream",
     "text": [
      "Epoch 1/250\n",
      "22/22 [==============================] - 1s 2ms/step - loss: 256606.9531\n",
      "Epoch 2/250\n",
      "22/22 [==============================] - 0s 2ms/step - loss: 256408.5469\n",
      "Epoch 3/250\n",
      "22/22 [==============================] - 0s 2ms/step - loss: 256206.5312\n",
      "Epoch 4/250\n",
      "22/22 [==============================] - 0s 2ms/step - loss: 255979.3906\n",
      "Epoch 5/250\n",
      "22/22 [==============================] - 0s 2ms/step - loss: 255723.8594\n",
      "Epoch 6/250\n",
      "22/22 [==============================] - 0s 2ms/step - loss: 255431.8438\n",
      "Epoch 7/250\n",
      "22/22 [==============================] - 0s 2ms/step - loss: 255097.2344\n",
      "Epoch 8/250\n",
      "22/22 [==============================] - 0s 2ms/step - loss: 254717.7188\n",
      "Epoch 9/250\n",
      "22/22 [==============================] - 0s 2ms/step - loss: 254286.2812\n",
      "Epoch 10/250\n",
      "22/22 [==============================] - 0s 2ms/step - loss: 253798.7656\n",
      "Epoch 11/250\n",
      "22/22 [==============================] - 0s 2ms/step - loss: 253255.5469\n",
      "Epoch 12/250\n",
      "22/22 [==============================] - 0s 2ms/step - loss: 252652.9219\n",
      "Epoch 13/250\n",
      "22/22 [==============================] - 0s 2ms/step - loss: 251982.7656\n",
      "Epoch 14/250\n",
      "22/22 [==============================] - 0s 2ms/step - loss: 251245.5781\n",
      "Epoch 15/250\n",
      "22/22 [==============================] - 0s 2ms/step - loss: 250433.3438\n",
      "Epoch 16/250\n",
      "22/22 [==============================] - 0s 1ms/step - loss: 249548.2500\n",
      "Epoch 17/250\n",
      "22/22 [==============================] - 0s 2ms/step - loss: 248580.0469\n",
      "Epoch 18/250\n",
      "22/22 [==============================] - 0s 2ms/step - loss: 247523.5156\n",
      "Epoch 19/250\n",
      "22/22 [==============================] - 0s 2ms/step - loss: 246384.4062\n",
      "Epoch 20/250\n",
      "22/22 [==============================] - 0s 2ms/step - loss: 245141.7812\n",
      "Epoch 21/250\n",
      "22/22 [==============================] - 0s 2ms/step - loss: 243800.9531\n",
      "Epoch 22/250\n",
      "22/22 [==============================] - 0s 1ms/step - loss: 242362.0781\n",
      "Epoch 23/250\n",
      "22/22 [==============================] - 0s 2ms/step - loss: 240811.7031\n",
      "Epoch 24/250\n",
      "22/22 [==============================] - 0s 1ms/step - loss: 239141.6875\n",
      "Epoch 25/250\n",
      "22/22 [==============================] - 0s 2ms/step - loss: 237359.7031\n",
      "Epoch 26/250\n",
      "22/22 [==============================] - 0s 2ms/step - loss: 235451.2969\n",
      "Epoch 27/250\n",
      "22/22 [==============================] - 0s 2ms/step - loss: 233425.7344\n",
      "Epoch 28/250\n",
      "22/22 [==============================] - 0s 2ms/step - loss: 231264.9531\n",
      "Epoch 29/250\n",
      "22/22 [==============================] - 0s 3ms/step - loss: 228970.4062\n",
      "Epoch 30/250\n",
      "22/22 [==============================] - 0s 2ms/step - loss: 226540.0156\n",
      "Epoch 31/250\n",
      "22/22 [==============================] - 0s 2ms/step - loss: 223953.9219\n",
      "Epoch 32/250\n",
      "22/22 [==============================] - 0s 2ms/step - loss: 221231.9531\n",
      "Epoch 33/250\n",
      "22/22 [==============================] - 0s 2ms/step - loss: 218366.5156\n",
      "Epoch 34/250\n",
      "22/22 [==============================] - 0s 3ms/step - loss: 215322.6250\n",
      "Epoch 35/250\n",
      "22/22 [==============================] - 0s 1ms/step - loss: 212138.1250\n",
      "Epoch 36/250\n",
      "22/22 [==============================] - 0s 2ms/step - loss: 208806.1250\n",
      "Epoch 37/250\n",
      "22/22 [==============================] - 0s 2ms/step - loss: 205308.1875\n",
      "Epoch 38/250\n",
      "22/22 [==============================] - 0s 2ms/step - loss: 201631.5156\n",
      "Epoch 39/250\n",
      "22/22 [==============================] - 0s 2ms/step - loss: 197806.3125\n",
      "Epoch 40/250\n",
      "22/22 [==============================] - 0s 2ms/step - loss: 193799.8125\n",
      "Epoch 41/250\n",
      "22/22 [==============================] - 0s 2ms/step - loss: 189647.2188\n",
      "Epoch 42/250\n",
      "22/22 [==============================] - 0s 2ms/step - loss: 185323.1562\n",
      "Epoch 43/250\n",
      "22/22 [==============================] - 0s 2ms/step - loss: 180831.2031\n",
      "Epoch 44/250\n",
      "22/22 [==============================] - 0s 1ms/step - loss: 176198.1875\n",
      "Epoch 45/250\n",
      "22/22 [==============================] - 0s 2ms/step - loss: 171396.1094\n",
      "Epoch 46/250\n",
      "22/22 [==============================] - 0s 2ms/step - loss: 166373.6250\n",
      "Epoch 47/250\n",
      "22/22 [==============================] - 0s 2ms/step - loss: 161240.0938\n",
      "Epoch 48/250\n",
      "22/22 [==============================] - 0s 2ms/step - loss: 155979.9062\n",
      "Epoch 49/250\n",
      "22/22 [==============================] - 0s 2ms/step - loss: 150559.5000\n",
      "Epoch 50/250\n",
      "22/22 [==============================] - 0s 1ms/step - loss: 144998.0000\n",
      "Epoch 51/250\n",
      "22/22 [==============================] - 0s 2ms/step - loss: 139290.9375\n",
      "Epoch 52/250\n",
      "22/22 [==============================] - 0s 2ms/step - loss: 133446.4688\n",
      "Epoch 53/250\n",
      "22/22 [==============================] - 0s 2ms/step - loss: 127511.0625\n",
      "Epoch 54/250\n",
      "22/22 [==============================] - 0s 2ms/step - loss: 121426.2031\n",
      "Epoch 55/250\n",
      "22/22 [==============================] - 0s 2ms/step - loss: 115319.5391\n",
      "Epoch 56/250\n",
      "22/22 [==============================] - 0s 1ms/step - loss: 109114.7891\n",
      "Epoch 57/250\n",
      "22/22 [==============================] - 0s 2ms/step - loss: 102810.7891\n",
      "Epoch 58/250\n",
      "22/22 [==============================] - 0s 1ms/step - loss: 96517.6719\n",
      "Epoch 59/250\n",
      "22/22 [==============================] - 0s 1ms/step - loss: 90181.3359\n",
      "Epoch 60/250\n",
      "22/22 [==============================] - 0s 1ms/step - loss: 83820.4844\n",
      "Epoch 61/250\n",
      "22/22 [==============================] - 0s 1ms/step - loss: 77466.9688\n",
      "Epoch 62/250\n",
      "22/22 [==============================] - 0s 1ms/step - loss: 71119.5391\n",
      "Epoch 63/250\n",
      "22/22 [==============================] - 0s 1ms/step - loss: 64833.9102\n",
      "Epoch 64/250\n",
      "22/22 [==============================] - 0s 1ms/step - loss: 58691.6758\n",
      "Epoch 65/250\n",
      "22/22 [==============================] - 0s 1ms/step - loss: 52669.6133\n",
      "Epoch 66/250\n",
      "22/22 [==============================] - 0s 1ms/step - loss: 46761.8867\n",
      "Epoch 67/250\n",
      "22/22 [==============================] - 0s 1ms/step - loss: 41044.3125\n",
      "Epoch 68/250\n",
      "22/22 [==============================] - 0s 1ms/step - loss: 35601.6328\n",
      "Epoch 69/250\n",
      "22/22 [==============================] - 0s 1ms/step - loss: 30374.2461\n",
      "Epoch 70/250\n",
      "22/22 [==============================] - 0s 1ms/step - loss: 25443.5938\n",
      "Epoch 71/250\n",
      "22/22 [==============================] - 0s 1ms/step - loss: 20844.0977\n",
      "Epoch 72/250\n",
      "22/22 [==============================] - 0s 1ms/step - loss: 16632.8711\n",
      "Epoch 73/250\n",
      "22/22 [==============================] - 0s 1ms/step - loss: 12888.1289\n",
      "Epoch 74/250\n",
      "22/22 [==============================] - 0s 1ms/step - loss: 9608.9219\n",
      "Epoch 75/250\n",
      "22/22 [==============================] - 0s 1ms/step - loss: 6876.6685\n",
      "Epoch 76/250\n",
      "22/22 [==============================] - 0s 1ms/step - loss: 4671.2427\n",
      "Epoch 77/250\n",
      "22/22 [==============================] - 0s 2ms/step - loss: 3054.6936\n",
      "Epoch 78/250\n",
      "22/22 [==============================] - 0s 1ms/step - loss: 2053.6721\n",
      "Epoch 79/250\n",
      "22/22 [==============================] - 0s 1ms/step - loss: 1584.5559\n",
      "Epoch 80/250\n",
      "22/22 [==============================] - 0s 1ms/step - loss: 1460.5394\n",
      "Epoch 81/250\n",
      "22/22 [==============================] - 0s 1ms/step - loss: 1425.8373\n",
      "Epoch 82/250\n",
      "22/22 [==============================] - 0s 1ms/step - loss: 1397.6013\n",
      "Epoch 83/250\n",
      "22/22 [==============================] - 0s 2ms/step - loss: 1369.5555\n",
      "Epoch 84/250\n",
      "22/22 [==============================] - 0s 2ms/step - loss: 1339.3607\n",
      "Epoch 85/250\n",
      "22/22 [==============================] - 0s 1ms/step - loss: 1310.2618\n",
      "Epoch 86/250\n",
      "22/22 [==============================] - 0s 1ms/step - loss: 1279.3073\n",
      "Epoch 87/250\n",
      "22/22 [==============================] - 0s 1ms/step - loss: 1246.0500\n",
      "Epoch 88/250\n",
      "22/22 [==============================] - 0s 1ms/step - loss: 1214.9985\n",
      "Epoch 89/250\n",
      "22/22 [==============================] - 0s 1ms/step - loss: 1184.0704\n",
      "Epoch 90/250\n",
      "22/22 [==============================] - 0s 1ms/step - loss: 1159.6045\n",
      "Epoch 91/250\n",
      "22/22 [==============================] - 0s 1ms/step - loss: 1133.3632\n",
      "Epoch 92/250\n",
      "22/22 [==============================] - 0s 1ms/step - loss: 1104.3937\n",
      "Epoch 93/250\n",
      "22/22 [==============================] - 0s 1ms/step - loss: 1075.7667\n",
      "Epoch 94/250\n",
      "22/22 [==============================] - 0s 1ms/step - loss: 1048.8054\n",
      "Epoch 95/250\n",
      "22/22 [==============================] - 0s 1ms/step - loss: 1026.1759\n",
      "Epoch 96/250\n",
      "22/22 [==============================] - 0s 2ms/step - loss: 999.7654\n",
      "Epoch 97/250\n"
     ]
    },
    {
     "name": "stdout",
     "output_type": "stream",
     "text": [
      "22/22 [==============================] - 0s 1ms/step - loss: 977.1953\n",
      "Epoch 98/250\n",
      "22/22 [==============================] - 0s 1ms/step - loss: 950.7549\n",
      "Epoch 99/250\n",
      "22/22 [==============================] - 0s 1ms/step - loss: 922.6078\n",
      "Epoch 100/250\n",
      "22/22 [==============================] - 0s 1ms/step - loss: 900.0582\n",
      "Epoch 101/250\n",
      "22/22 [==============================] - 0s 1ms/step - loss: 871.7456\n",
      "Epoch 102/250\n",
      "22/22 [==============================] - 0s 1ms/step - loss: 846.8181\n",
      "Epoch 103/250\n",
      "22/22 [==============================] - 0s 1ms/step - loss: 827.7264\n",
      "Epoch 104/250\n",
      "22/22 [==============================] - 0s 1ms/step - loss: 803.5732\n",
      "Epoch 105/250\n",
      "22/22 [==============================] - 0s 1ms/step - loss: 780.2615\n",
      "Epoch 106/250\n",
      "22/22 [==============================] - 0s 1ms/step - loss: 756.7188\n",
      "Epoch 107/250\n",
      "22/22 [==============================] - 0s 2ms/step - loss: 733.6580\n",
      "Epoch 108/250\n",
      "22/22 [==============================] - 0s 1ms/step - loss: 711.4814\n",
      "Epoch 109/250\n",
      "22/22 [==============================] - 0s 1ms/step - loss: 690.3369\n",
      "Epoch 110/250\n",
      "22/22 [==============================] - 0s 1ms/step - loss: 666.4232\n",
      "Epoch 111/250\n",
      "22/22 [==============================] - 0s 1ms/step - loss: 645.5425\n",
      "Epoch 112/250\n",
      "22/22 [==============================] - 0s 1ms/step - loss: 622.2285\n",
      "Epoch 113/250\n",
      "22/22 [==============================] - 0s 1ms/step - loss: 601.2507\n",
      "Epoch 114/250\n",
      "22/22 [==============================] - 0s 2ms/step - loss: 577.6978\n",
      "Epoch 115/250\n",
      "22/22 [==============================] - 0s 1ms/step - loss: 554.0836\n",
      "Epoch 116/250\n",
      "22/22 [==============================] - 0s 1ms/step - loss: 534.7066\n",
      "Epoch 117/250\n",
      "22/22 [==============================] - 0s 1ms/step - loss: 516.8733\n",
      "Epoch 118/250\n",
      "22/22 [==============================] - 0s 2ms/step - loss: 496.7486\n",
      "Epoch 119/250\n",
      "22/22 [==============================] - 0s 1ms/step - loss: 477.1626\n",
      "Epoch 120/250\n",
      "22/22 [==============================] - 0s 1ms/step - loss: 458.0247\n",
      "Epoch 121/250\n",
      "22/22 [==============================] - 0s 1ms/step - loss: 438.9203\n",
      "Epoch 122/250\n",
      "22/22 [==============================] - 0s 1ms/step - loss: 419.9571\n",
      "Epoch 123/250\n",
      "22/22 [==============================] - 0s 1ms/step - loss: 402.0250\n",
      "Epoch 124/250\n",
      "22/22 [==============================] - 0s 1ms/step - loss: 382.7688\n",
      "Epoch 125/250\n",
      "22/22 [==============================] - 0s 1ms/step - loss: 368.7747\n",
      "Epoch 126/250\n",
      "22/22 [==============================] - 0s 1ms/step - loss: 351.1862\n",
      "Epoch 127/250\n",
      "22/22 [==============================] - 0s 1ms/step - loss: 335.2042\n",
      "Epoch 128/250\n",
      "22/22 [==============================] - 0s 1ms/step - loss: 317.5092\n",
      "Epoch 129/250\n",
      "22/22 [==============================] - 0s 2ms/step - loss: 303.4985\n",
      "Epoch 130/250\n",
      "22/22 [==============================] - 0s 1ms/step - loss: 289.8389\n",
      "Epoch 131/250\n",
      "22/22 [==============================] - 0s 1ms/step - loss: 274.7986\n",
      "Epoch 132/250\n",
      "22/22 [==============================] - 0s 2ms/step - loss: 262.6756\n",
      "Epoch 133/250\n",
      "22/22 [==============================] - 0s 1ms/step - loss: 249.6187\n",
      "Epoch 134/250\n",
      "22/22 [==============================] - 0s 1ms/step - loss: 235.3359\n",
      "Epoch 135/250\n",
      "22/22 [==============================] - 0s 1ms/step - loss: 221.0904\n",
      "Epoch 136/250\n",
      "22/22 [==============================] - 0s 1ms/step - loss: 209.0906\n",
      "Epoch 137/250\n",
      "22/22 [==============================] - 0s 2ms/step - loss: 198.0560\n",
      "Epoch 138/250\n",
      "22/22 [==============================] - 0s 1ms/step - loss: 186.7306\n",
      "Epoch 139/250\n",
      "22/22 [==============================] - 0s 1ms/step - loss: 174.1161\n",
      "Epoch 140/250\n",
      "22/22 [==============================] - 0s 1ms/step - loss: 162.7484\n",
      "Epoch 141/250\n",
      "22/22 [==============================] - 0s 1ms/step - loss: 152.7086\n",
      "Epoch 142/250\n",
      "22/22 [==============================] - 0s 1ms/step - loss: 142.4128\n",
      "Epoch 143/250\n",
      "22/22 [==============================] - 0s 2ms/step - loss: 134.7207\n",
      "Epoch 144/250\n",
      "22/22 [==============================] - 0s 2ms/step - loss: 124.6185\n",
      "Epoch 145/250\n",
      "22/22 [==============================] - 0s 2ms/step - loss: 116.9202\n",
      "Epoch 146/250\n",
      "22/22 [==============================] - 0s 1ms/step - loss: 108.2087\n",
      "Epoch 147/250\n",
      "22/22 [==============================] - 0s 1ms/step - loss: 100.6488\n",
      "Epoch 148/250\n",
      "22/22 [==============================] - 0s 1ms/step - loss: 93.8724\n",
      "Epoch 149/250\n",
      "22/22 [==============================] - 0s 1ms/step - loss: 87.5863\n",
      "Epoch 150/250\n",
      "22/22 [==============================] - 0s 1ms/step - loss: 81.3437\n",
      "Epoch 151/250\n",
      "22/22 [==============================] - 0s 1ms/step - loss: 75.2086\n",
      "Epoch 152/250\n",
      "22/22 [==============================] - 0s 2ms/step - loss: 68.2705\n",
      "Epoch 153/250\n",
      "22/22 [==============================] - 0s 1ms/step - loss: 63.1929\n",
      "Epoch 154/250\n",
      "22/22 [==============================] - 0s 1ms/step - loss: 58.3969\n",
      "Epoch 155/250\n",
      "22/22 [==============================] - 0s 1ms/step - loss: 54.6483\n",
      "Epoch 156/250\n",
      "22/22 [==============================] - 0s 1ms/step - loss: 50.8403\n",
      "Epoch 157/250\n",
      "22/22 [==============================] - 0s 1ms/step - loss: 48.1264\n",
      "Epoch 158/250\n",
      "22/22 [==============================] - 0s 1ms/step - loss: 44.7459\n",
      "Epoch 159/250\n",
      "22/22 [==============================] - 0s 1ms/step - loss: 41.7742\n",
      "Epoch 160/250\n",
      "22/22 [==============================] - 0s 1ms/step - loss: 39.1249\n",
      "Epoch 161/250\n",
      "22/22 [==============================] - 0s 1ms/step - loss: 36.7592\n",
      "Epoch 162/250\n",
      "22/22 [==============================] - 0s 1ms/step - loss: 34.6761\n",
      "Epoch 163/250\n",
      "22/22 [==============================] - 0s 1ms/step - loss: 32.9449\n",
      "Epoch 164/250\n",
      "22/22 [==============================] - 0s 2ms/step - loss: 31.4268\n",
      "Epoch 165/250\n",
      "22/22 [==============================] - 0s 2ms/step - loss: 30.2309\n",
      "Epoch 166/250\n",
      "22/22 [==============================] - 0s 1ms/step - loss: 29.1391\n",
      "Epoch 167/250\n",
      "22/22 [==============================] - 0s 2ms/step - loss: 28.0406\n",
      "Epoch 168/250\n",
      "22/22 [==============================] - 0s 1ms/step - loss: 27.7128\n",
      "Epoch 169/250\n",
      "22/22 [==============================] - 0s 1ms/step - loss: 27.0481\n",
      "Epoch 170/250\n",
      "22/22 [==============================] - 0s 2ms/step - loss: 26.8684\n",
      "Epoch 171/250\n",
      "22/22 [==============================] - 0s 1ms/step - loss: 26.2203\n",
      "Epoch 172/250\n",
      "22/22 [==============================] - 0s 1ms/step - loss: 25.7848\n",
      "Epoch 173/250\n",
      "22/22 [==============================] - 0s 1ms/step - loss: 25.6198\n",
      "Epoch 174/250\n",
      "22/22 [==============================] - 0s 1ms/step - loss: 25.5702\n",
      "Epoch 175/250\n",
      "22/22 [==============================] - 0s 1ms/step - loss: 25.1554\n",
      "Epoch 176/250\n",
      "22/22 [==============================] - 0s 1ms/step - loss: 25.1064\n",
      "Epoch 177/250\n",
      "22/22 [==============================] - 0s 1ms/step - loss: 24.6353\n",
      "Epoch 178/250\n",
      "22/22 [==============================] - 0s 1ms/step - loss: 24.5170\n",
      "Epoch 179/250\n",
      "22/22 [==============================] - 0s 1ms/step - loss: 24.6078\n",
      "Epoch 180/250\n",
      "22/22 [==============================] - 0s 1ms/step - loss: 24.7682\n",
      "Epoch 181/250\n",
      "22/22 [==============================] - 0s 2ms/step - loss: 24.4313\n",
      "Epoch 182/250\n",
      "22/22 [==============================] - 0s 1ms/step - loss: 24.7810\n",
      "Epoch 183/250\n",
      "22/22 [==============================] - 0s 1ms/step - loss: 24.6368\n",
      "Epoch 184/250\n",
      "22/22 [==============================] - 0s 1ms/step - loss: 24.3747\n",
      "Epoch 185/250\n",
      "22/22 [==============================] - 0s 1ms/step - loss: 24.5215\n",
      "Epoch 186/250\n",
      "22/22 [==============================] - 0s 1ms/step - loss: 24.1348\n",
      "Epoch 187/250\n",
      "22/22 [==============================] - 0s 1ms/step - loss: 24.9463\n",
      "Epoch 188/250\n",
      "22/22 [==============================] - 0s 1ms/step - loss: 24.5501\n",
      "Epoch 189/250\n",
      "22/22 [==============================] - 0s 1ms/step - loss: 24.2873\n",
      "Epoch 190/250\n",
      "22/22 [==============================] - 0s 1ms/step - loss: 24.4140\n",
      "Epoch 191/250\n",
      "22/22 [==============================] - 0s 1ms/step - loss: 24.4895\n",
      "Epoch 192/250\n",
      "22/22 [==============================] - 0s 1ms/step - loss: 24.3051\n",
      "Epoch 193/250\n",
      "22/22 [==============================] - 0s 1ms/step - loss: 24.8681\n",
      "Epoch 194/250\n",
      "22/22 [==============================] - 0s 1ms/step - loss: 24.4030\n",
      "Epoch 195/250\n"
     ]
    },
    {
     "name": "stdout",
     "output_type": "stream",
     "text": [
      "22/22 [==============================] - 0s 1ms/step - loss: 24.5206\n",
      "Epoch 196/250\n",
      "22/22 [==============================] - 0s 1ms/step - loss: 24.2987\n",
      "Epoch 197/250\n",
      "22/22 [==============================] - 0s 1ms/step - loss: 24.5841\n",
      "Epoch 198/250\n",
      "22/22 [==============================] - 0s 1ms/step - loss: 23.8778\n",
      "Epoch 199/250\n",
      "22/22 [==============================] - 0s 1ms/step - loss: 24.6540\n",
      "Epoch 200/250\n",
      "22/22 [==============================] - 0s 1ms/step - loss: 24.3771\n",
      "Epoch 201/250\n",
      "22/22 [==============================] - 0s 2ms/step - loss: 24.0830\n",
      "Epoch 202/250\n",
      "22/22 [==============================] - 0s 1ms/step - loss: 24.1520\n",
      "Epoch 203/250\n",
      "22/22 [==============================] - 0s 1ms/step - loss: 24.2523\n",
      "Epoch 204/250\n",
      "22/22 [==============================] - 0s 1ms/step - loss: 24.7369\n",
      "Epoch 205/250\n",
      "22/22 [==============================] - 0s 1ms/step - loss: 24.5954\n",
      "Epoch 206/250\n",
      "22/22 [==============================] - 0s 1ms/step - loss: 24.1190\n",
      "Epoch 207/250\n",
      "22/22 [==============================] - 0s 1ms/step - loss: 24.2227\n",
      "Epoch 208/250\n",
      "22/22 [==============================] - 0s 1ms/step - loss: 24.5166\n",
      "Epoch 209/250\n",
      "22/22 [==============================] - 0s 1ms/step - loss: 24.2434\n",
      "Epoch 210/250\n",
      "22/22 [==============================] - 0s 1ms/step - loss: 24.2319\n",
      "Epoch 211/250\n",
      "22/22 [==============================] - 0s 1ms/step - loss: 24.0364\n",
      "Epoch 212/250\n",
      "22/22 [==============================] - 0s 1ms/step - loss: 24.2046\n",
      "Epoch 213/250\n",
      "22/22 [==============================] - 0s 1ms/step - loss: 24.2909\n",
      "Epoch 214/250\n",
      "22/22 [==============================] - 0s 1ms/step - loss: 24.3770\n",
      "Epoch 215/250\n",
      "22/22 [==============================] - 0s 1ms/step - loss: 24.4255\n",
      "Epoch 216/250\n",
      "22/22 [==============================] - 0s 1ms/step - loss: 24.5438\n",
      "Epoch 217/250\n",
      "22/22 [==============================] - 0s 1ms/step - loss: 24.4758\n",
      "Epoch 218/250\n",
      "22/22 [==============================] - 0s 1ms/step - loss: 24.3199\n",
      "Epoch 219/250\n",
      "22/22 [==============================] - 0s 1ms/step - loss: 24.3594\n",
      "Epoch 220/250\n",
      "22/22 [==============================] - 0s 1ms/step - loss: 24.0735\n",
      "Epoch 221/250\n",
      "22/22 [==============================] - 0s 1ms/step - loss: 24.4095\n",
      "Epoch 222/250\n",
      "22/22 [==============================] - 0s 1ms/step - loss: 24.1504\n",
      "Epoch 223/250\n",
      "22/22 [==============================] - 0s 1ms/step - loss: 24.2524\n",
      "Epoch 224/250\n",
      "22/22 [==============================] - 0s 2ms/step - loss: 24.3088\n",
      "Epoch 225/250\n",
      "22/22 [==============================] - 0s 1ms/step - loss: 24.4407\n",
      "Epoch 226/250\n",
      "22/22 [==============================] - 0s 1ms/step - loss: 23.9902\n",
      "Epoch 227/250\n",
      "22/22 [==============================] - 0s 1ms/step - loss: 24.1313\n",
      "Epoch 228/250\n",
      "22/22 [==============================] - 0s 1ms/step - loss: 24.7103\n",
      "Epoch 229/250\n",
      "22/22 [==============================] - 0s 2ms/step - loss: 24.2740\n",
      "Epoch 230/250\n",
      "22/22 [==============================] - 0s 1ms/step - loss: 24.0992\n",
      "Epoch 231/250\n",
      "22/22 [==============================] - 0s 2ms/step - loss: 24.5310\n",
      "Epoch 232/250\n",
      "22/22 [==============================] - 0s 2ms/step - loss: 24.2183\n",
      "Epoch 233/250\n",
      "22/22 [==============================] - 0s 1ms/step - loss: 24.3303\n",
      "Epoch 234/250\n",
      "22/22 [==============================] - 0s 1ms/step - loss: 24.6328\n",
      "Epoch 235/250\n",
      "22/22 [==============================] - 0s 1ms/step - loss: 24.1458\n",
      "Epoch 236/250\n",
      "22/22 [==============================] - 0s 1ms/step - loss: 24.2812\n",
      "Epoch 237/250\n",
      "22/22 [==============================] - 0s 1ms/step - loss: 24.2360\n",
      "Epoch 238/250\n",
      "22/22 [==============================] - 0s 1ms/step - loss: 24.4379\n",
      "Epoch 239/250\n",
      "22/22 [==============================] - 0s 1ms/step - loss: 24.0246\n",
      "Epoch 240/250\n",
      "22/22 [==============================] - 0s 1ms/step - loss: 24.1936\n",
      "Epoch 241/250\n",
      "22/22 [==============================] - 0s 1ms/step - loss: 23.9986\n",
      "Epoch 242/250\n",
      "22/22 [==============================] - 0s 1ms/step - loss: 24.4616\n",
      "Epoch 243/250\n",
      "22/22 [==============================] - 0s 1ms/step - loss: 24.3195\n",
      "Epoch 244/250\n",
      "22/22 [==============================] - 0s 1ms/step - loss: 24.5239\n",
      "Epoch 245/250\n",
      "22/22 [==============================] - 0s 1ms/step - loss: 24.5424\n",
      "Epoch 246/250\n",
      "22/22 [==============================] - 0s 1ms/step - loss: 24.2137\n",
      "Epoch 247/250\n",
      "22/22 [==============================] - 0s 1ms/step - loss: 24.2431\n",
      "Epoch 248/250\n",
      "22/22 [==============================] - 0s 1ms/step - loss: 24.5196\n",
      "Epoch 249/250\n",
      "22/22 [==============================] - 0s 1ms/step - loss: 24.3638\n",
      "Epoch 250/250\n",
      "22/22 [==============================] - 0s 1ms/step - loss: 24.1899\n"
     ]
    },
    {
     "data": {
      "text/plain": [
       "<keras.src.callbacks.History at 0x7f3e40565370>"
      ]
     },
     "execution_count": 24,
     "metadata": {},
     "output_type": "execute_result"
    }
   ],
   "source": [
    "model.fit(x=X_train, y=y_train, epochs=250)# epochs es para indicar cuantas veces el\n",
    "                                            # modelo pasará por los datos"
   ]
  },
  {
   "cell_type": "code",
   "execution_count": 25,
   "id": "e2d38baf",
   "metadata": {},
   "outputs": [
    {
     "data": {
      "text/plain": [
       "{'loss': [256606.953125,\n",
       "  256408.546875,\n",
       "  256206.53125,\n",
       "  255979.390625,\n",
       "  255723.859375,\n",
       "  255431.84375,\n",
       "  255097.234375,\n",
       "  254717.71875,\n",
       "  254286.28125,\n",
       "  253798.765625,\n",
       "  253255.546875,\n",
       "  252652.921875,\n",
       "  251982.765625,\n",
       "  251245.578125,\n",
       "  250433.34375,\n",
       "  249548.25,\n",
       "  248580.046875,\n",
       "  247523.515625,\n",
       "  246384.40625,\n",
       "  245141.78125,\n",
       "  243800.953125,\n",
       "  242362.078125,\n",
       "  240811.703125,\n",
       "  239141.6875,\n",
       "  237359.703125,\n",
       "  235451.296875,\n",
       "  233425.734375,\n",
       "  231264.953125,\n",
       "  228970.40625,\n",
       "  226540.015625,\n",
       "  223953.921875,\n",
       "  221231.953125,\n",
       "  218366.515625,\n",
       "  215322.625,\n",
       "  212138.125,\n",
       "  208806.125,\n",
       "  205308.1875,\n",
       "  201631.515625,\n",
       "  197806.3125,\n",
       "  193799.8125,\n",
       "  189647.21875,\n",
       "  185323.15625,\n",
       "  180831.203125,\n",
       "  176198.1875,\n",
       "  171396.109375,\n",
       "  166373.625,\n",
       "  161240.09375,\n",
       "  155979.90625,\n",
       "  150559.5,\n",
       "  144998.0,\n",
       "  139290.9375,\n",
       "  133446.46875,\n",
       "  127511.0625,\n",
       "  121426.203125,\n",
       "  115319.5390625,\n",
       "  109114.7890625,\n",
       "  102810.7890625,\n",
       "  96517.671875,\n",
       "  90181.3359375,\n",
       "  83820.484375,\n",
       "  77466.96875,\n",
       "  71119.5390625,\n",
       "  64833.91015625,\n",
       "  58691.67578125,\n",
       "  52669.61328125,\n",
       "  46761.88671875,\n",
       "  41044.3125,\n",
       "  35601.6328125,\n",
       "  30374.24609375,\n",
       "  25443.59375,\n",
       "  20844.09765625,\n",
       "  16632.87109375,\n",
       "  12888.12890625,\n",
       "  9608.921875,\n",
       "  6876.66845703125,\n",
       "  4671.24267578125,\n",
       "  3054.693603515625,\n",
       "  2053.672119140625,\n",
       "  1584.555908203125,\n",
       "  1460.5394287109375,\n",
       "  1425.8372802734375,\n",
       "  1397.601318359375,\n",
       "  1369.5555419921875,\n",
       "  1339.3607177734375,\n",
       "  1310.2618408203125,\n",
       "  1279.3072509765625,\n",
       "  1246.050048828125,\n",
       "  1214.99853515625,\n",
       "  1184.0704345703125,\n",
       "  1159.6044921875,\n",
       "  1133.3631591796875,\n",
       "  1104.3936767578125,\n",
       "  1075.7667236328125,\n",
       "  1048.805419921875,\n",
       "  1026.1759033203125,\n",
       "  999.765380859375,\n",
       "  977.1952514648438,\n",
       "  950.7548828125,\n",
       "  922.6078491210938,\n",
       "  900.0582275390625,\n",
       "  871.74560546875,\n",
       "  846.818115234375,\n",
       "  827.7264404296875,\n",
       "  803.5732421875,\n",
       "  780.2615356445312,\n",
       "  756.71875,\n",
       "  733.6580200195312,\n",
       "  711.4813842773438,\n",
       "  690.3368530273438,\n",
       "  666.4232177734375,\n",
       "  645.54248046875,\n",
       "  622.2284545898438,\n",
       "  601.250732421875,\n",
       "  577.69775390625,\n",
       "  554.0835571289062,\n",
       "  534.7066040039062,\n",
       "  516.873291015625,\n",
       "  496.7485656738281,\n",
       "  477.1626281738281,\n",
       "  458.0246887207031,\n",
       "  438.9202575683594,\n",
       "  419.9570617675781,\n",
       "  402.0249938964844,\n",
       "  382.768798828125,\n",
       "  368.7747497558594,\n",
       "  351.18621826171875,\n",
       "  335.2041931152344,\n",
       "  317.5091857910156,\n",
       "  303.49853515625,\n",
       "  289.8388977050781,\n",
       "  274.79864501953125,\n",
       "  262.6755676269531,\n",
       "  249.6187286376953,\n",
       "  235.33587646484375,\n",
       "  221.09043884277344,\n",
       "  209.090576171875,\n",
       "  198.0560302734375,\n",
       "  186.7305908203125,\n",
       "  174.11611938476562,\n",
       "  162.74839782714844,\n",
       "  152.7086181640625,\n",
       "  142.41275024414062,\n",
       "  134.720703125,\n",
       "  124.61849212646484,\n",
       "  116.9201889038086,\n",
       "  108.20872497558594,\n",
       "  100.6488037109375,\n",
       "  93.87239074707031,\n",
       "  87.5863265991211,\n",
       "  81.34367370605469,\n",
       "  75.20855712890625,\n",
       "  68.27049255371094,\n",
       "  63.19291687011719,\n",
       "  58.396854400634766,\n",
       "  54.64826965332031,\n",
       "  50.840267181396484,\n",
       "  48.12638473510742,\n",
       "  44.74586486816406,\n",
       "  41.77423858642578,\n",
       "  39.12485122680664,\n",
       "  36.7591667175293,\n",
       "  34.676109313964844,\n",
       "  32.944881439208984,\n",
       "  31.426843643188477,\n",
       "  30.230937957763672,\n",
       "  29.139131546020508,\n",
       "  28.04057502746582,\n",
       "  27.7127628326416,\n",
       "  27.04813575744629,\n",
       "  26.86839485168457,\n",
       "  26.2203369140625,\n",
       "  25.784793853759766,\n",
       "  25.619754791259766,\n",
       "  25.57015037536621,\n",
       "  25.155437469482422,\n",
       "  25.106433868408203,\n",
       "  24.635332107543945,\n",
       "  24.516998291015625,\n",
       "  24.607772827148438,\n",
       "  24.76816749572754,\n",
       "  24.43126106262207,\n",
       "  24.781028747558594,\n",
       "  24.6368408203125,\n",
       "  24.37472152709961,\n",
       "  24.521453857421875,\n",
       "  24.13481330871582,\n",
       "  24.946313858032227,\n",
       "  24.55005645751953,\n",
       "  24.287309646606445,\n",
       "  24.413976669311523,\n",
       "  24.48951530456543,\n",
       "  24.305103302001953,\n",
       "  24.868104934692383,\n",
       "  24.402996063232422,\n",
       "  24.5206356048584,\n",
       "  24.298736572265625,\n",
       "  24.58408546447754,\n",
       "  23.877777099609375,\n",
       "  24.654029846191406,\n",
       "  24.377140045166016,\n",
       "  24.08296012878418,\n",
       "  24.15196418762207,\n",
       "  24.252260208129883,\n",
       "  24.7369441986084,\n",
       "  24.595443725585938,\n",
       "  24.1190242767334,\n",
       "  24.22270965576172,\n",
       "  24.51656723022461,\n",
       "  24.24342918395996,\n",
       "  24.231889724731445,\n",
       "  24.036373138427734,\n",
       "  24.204648971557617,\n",
       "  24.290876388549805,\n",
       "  24.377038955688477,\n",
       "  24.42549705505371,\n",
       "  24.543764114379883,\n",
       "  24.47577476501465,\n",
       "  24.319889068603516,\n",
       "  24.359350204467773,\n",
       "  24.073482513427734,\n",
       "  24.409456253051758,\n",
       "  24.1503963470459,\n",
       "  24.25242805480957,\n",
       "  24.308792114257812,\n",
       "  24.44074249267578,\n",
       "  23.990169525146484,\n",
       "  24.131311416625977,\n",
       "  24.710336685180664,\n",
       "  24.2740478515625,\n",
       "  24.09917640686035,\n",
       "  24.53099822998047,\n",
       "  24.218320846557617,\n",
       "  24.33032989501953,\n",
       "  24.632783889770508,\n",
       "  24.145790100097656,\n",
       "  24.28117561340332,\n",
       "  24.23595428466797,\n",
       "  24.437946319580078,\n",
       "  24.02462387084961,\n",
       "  24.19361686706543,\n",
       "  23.99860954284668,\n",
       "  24.461557388305664,\n",
       "  24.31954574584961,\n",
       "  24.52391815185547,\n",
       "  24.542436599731445,\n",
       "  24.213747024536133,\n",
       "  24.243127822875977,\n",
       "  24.519617080688477,\n",
       "  24.363750457763672,\n",
       "  24.18988800048828]}"
      ]
     },
     "execution_count": 25,
     "metadata": {},
     "output_type": "execute_result"
    }
   ],
   "source": [
    "model.history.history #gives a dictionary"
   ]
  },
  {
   "cell_type": "code",
   "execution_count": 26,
   "id": "0920f1c6",
   "metadata": {},
   "outputs": [],
   "source": [
    "loss_df = pd.DataFrame(model.history.history)"
   ]
  },
  {
   "cell_type": "code",
   "execution_count": 27,
   "id": "87d35331",
   "metadata": {},
   "outputs": [
    {
     "data": {
      "text/plain": [
       "<matplotlib.axes._subplots.AxesSubplot at 0x7f3e26996130>"
      ]
     },
     "execution_count": 27,
     "metadata": {},
     "output_type": "execute_result"
    },
    {
     "data": {
      "image/png": "[encoded data removed]",
      "text/plain": [
       "<Figure size 432x288 with 1 Axes>"
      ]
     },
     "metadata": {
      "needs_background": "light"
     },
     "output_type": "display_data"
    }
   ],
   "source": [
    "loss_df.plot()"
   ]
  },
  {
   "cell_type": "markdown",
   "id": "f65cf21c",
   "metadata": {},
   "source": [
    "## EVALUATION OF THE MODEL."
   ]
  },
  {
   "cell_type": "markdown",
   "id": "3b3c7c86",
   "metadata": {},
   "source": [
    "So we will try this model in new data, essentially the test data. And this returns the loss of the test set. For this example we have chose mean square error 'mse', so on the test set our model gives back a mse = 25.15"
   ]
  },
  {
   "cell_type": "code",
   "execution_count": 28,
   "id": "3c55db38",
   "metadata": {},
   "outputs": [
    {
     "data": {
      "text/plain": [
       "25.151517868041992"
      ]
     },
     "execution_count": 28,
     "metadata": {},
     "output_type": "execute_result"
    }
   ],
   "source": [
    "model.evaluate(X_test, y_test, verbose=0)"
   ]
  },
  {
   "cell_type": "markdown",
   "id": "e056b65e",
   "metadata": {},
   "source": [
    "We can try in the train set as well"
   ]
  },
  {
   "cell_type": "code",
   "execution_count": 30,
   "id": "ae86f2df",
   "metadata": {},
   "outputs": [
    {
     "data": {
      "text/plain": [
       "23.72906494140625"
      ]
     },
     "execution_count": 30,
     "metadata": {},
     "output_type": "execute_result"
    }
   ],
   "source": [
    "model.evaluate(X_train, y_train, verbose=0)"
   ]
  },
  {
   "cell_type": "markdown",
   "id": "8cd37ded",
   "metadata": {},
   "source": [
    "We interpretate this as a meassure of how our model perform, an additionally try out with other kind of errors"
   ]
  },
  {
   "cell_type": "code",
   "execution_count": 31,
   "id": "a599751f",
   "metadata": {},
   "outputs": [
    {
     "name": "stdout",
     "output_type": "stream",
     "text": [
      "10/10 [==============================] - 0s 2ms/step\n"
     ]
    }
   ],
   "source": [
    "test_predictions = model.predict(X_test)"
   ]
  },
  {
   "cell_type": "code",
   "execution_count": 34,
   "id": "a2ce94f8",
   "metadata": {},
   "outputs": [
    {
     "data": {
      "text/plain": [
       "array([[405.539  ],\n",
       "       [624.017  ],\n",
       "       [592.58655],\n",
       "       [572.6268 ],\n",
       "       [366.78107],\n",
       "       [579.6038 ],\n",
       "       [515.37354],\n",
       "       [459.43066],\n",
       "       [549.6226 ],\n",
       "       [447.8343 ],\n",
       "       [612.25214],\n",
       "       [549.3893 ],\n",
       "       [419.36035],\n",
       "       [409.11255],\n",
       "       [651.7946 ],\n",
       "       [437.59467],\n",
       "       [508.84634],\n",
       "       [660.40936],\n",
       "       [663.0857 ],\n",
       "       [565.97217],\n",
       "       [334.37994],\n",
       "       [445.1219 ],\n",
       "       [382.73526],\n",
       "       [378.9787 ],\n",
       "       [567.0102 ],\n",
       "       [611.033  ],\n",
       "       [532.76654],\n",
       "       [428.13754],\n",
       "       [655.9291 ],\n",
       "       [414.3576 ],\n",
       "       [442.94186],\n",
       "       [485.46112],\n",
       "       [438.70184],\n",
       "       [682.36694],\n",
       "       [425.05676],\n",
       "       [417.92993],\n",
       "       [502.3255 ],\n",
       "       [550.88043],\n",
       "       [510.05807],\n",
       "       [395.55414],\n",
       "       [619.0736 ],\n",
       "       [416.90283],\n",
       "       [604.91547],\n",
       "       [446.28357],\n",
       "       [502.33902],\n",
       "       [582.1984 ],\n",
       "       [669.5622 ],\n",
       "       [490.75882],\n",
       "       [318.75812],\n",
       "       [485.7565 ],\n",
       "       [517.63837],\n",
       "       [382.03766],\n",
       "       [542.33453],\n",
       "       [408.84958],\n",
       "       [642.0285 ],\n",
       "       [491.4087 ],\n",
       "       [628.3929 ],\n",
       "       [627.5201 ],\n",
       "       [447.3676 ],\n",
       "       [485.01605],\n",
       "       [491.46072],\n",
       "       [474.87488],\n",
       "       [683.337  ],\n",
       "       [403.52255],\n",
       "       [701.69916],\n",
       "       [586.8275 ],\n",
       "       [583.5632 ],\n",
       "       [538.2632 ],\n",
       "       [484.90765],\n",
       "       [516.9083 ],\n",
       "       [361.43417],\n",
       "       [541.14813],\n",
       "       [571.0428 ],\n",
       "       [528.87964],\n",
       "       [454.03085],\n",
       "       [531.5364 ],\n",
       "       [507.59222],\n",
       "       [443.60455],\n",
       "       [543.7558 ],\n",
       "       [641.2798 ],\n",
       "       [466.28784],\n",
       "       [567.69086],\n",
       "       [691.3453 ],\n",
       "       [459.0303 ],\n",
       "       [709.4583 ],\n",
       "       [473.0159 ],\n",
       "       [403.55835],\n",
       "       [585.54034],\n",
       "       [437.0735 ],\n",
       "       [489.31824],\n",
       "       [617.5192 ],\n",
       "       [439.78406],\n",
       "       [455.6114 ],\n",
       "       [435.53564],\n",
       "       [507.24707],\n",
       "       [608.9028 ],\n",
       "       [321.79083],\n",
       "       [436.56586],\n",
       "       [536.7421 ],\n",
       "       [518.9881 ],\n",
       "       [605.48846],\n",
       "       [525.8183 ],\n",
       "       [334.33502],\n",
       "       [576.62476],\n",
       "       [432.0228 ],\n",
       "       [563.01373],\n",
       "       [513.7762 ],\n",
       "       [391.31018],\n",
       "       [566.63605],\n",
       "       [455.1393 ],\n",
       "       [448.77185],\n",
       "       [641.4645 ],\n",
       "       [524.7753 ],\n",
       "       [551.1123 ],\n",
       "       [417.95798],\n",
       "       [479.06436],\n",
       "       [586.9667 ],\n",
       "       [667.88654],\n",
       "       [701.00836],\n",
       "       [659.8743 ],\n",
       "       [560.9816 ],\n",
       "       [503.54904],\n",
       "       [390.56763],\n",
       "       [281.45325],\n",
       "       [479.95563],\n",
       "       [616.8728 ],\n",
       "       [373.56073],\n",
       "       [512.6293 ],\n",
       "       [511.36264],\n",
       "       [493.81772],\n",
       "       [480.79428],\n",
       "       [424.03708],\n",
       "       [493.7964 ],\n",
       "       [471.79877],\n",
       "       [600.9355 ],\n",
       "       [574.05084],\n",
       "       [415.19598],\n",
       "       [631.1445 ],\n",
       "       [466.70425],\n",
       "       [564.77545],\n",
       "       [405.9389 ],\n",
       "       [532.5598 ],\n",
       "       [573.06366],\n",
       "       [357.26782],\n",
       "       [550.2322 ],\n",
       "       [603.8177 ],\n",
       "       [384.52618],\n",
       "       [542.77313],\n",
       "       [563.0172 ],\n",
       "       [453.20996],\n",
       "       [632.7016 ],\n",
       "       [372.4444 ],\n",
       "       [474.56268],\n",
       "       [529.2292 ],\n",
       "       [372.53168],\n",
       "       [461.5316 ],\n",
       "       [436.57965],\n",
       "       [498.84494],\n",
       "       [346.3299 ],\n",
       "       [395.5508 ],\n",
       "       [605.0582 ],\n",
       "       [507.02533],\n",
       "       [468.9309 ],\n",
       "       [490.72787],\n",
       "       [535.7015 ],\n",
       "       [344.6819 ],\n",
       "       [512.7403 ],\n",
       "       [250.90572],\n",
       "       [504.44836],\n",
       "       [541.4681 ],\n",
       "       [489.70932],\n",
       "       [471.45236],\n",
       "       [392.79382],\n",
       "       [416.5556 ],\n",
       "       [549.9755 ],\n",
       "       [476.10144],\n",
       "       [580.368  ],\n",
       "       [490.0912 ],\n",
       "       [601.4144 ],\n",
       "       [547.4194 ],\n",
       "       [542.3758 ],\n",
       "       [500.94135],\n",
       "       [646.3387 ],\n",
       "       [560.8304 ],\n",
       "       [578.4144 ],\n",
       "       [444.45804],\n",
       "       [415.8086 ],\n",
       "       [420.2843 ],\n",
       "       [569.5721 ],\n",
       "       [609.47205],\n",
       "       [438.065  ],\n",
       "       [488.32336],\n",
       "       [588.1762 ],\n",
       "       [525.74725],\n",
       "       [357.56097],\n",
       "       [645.915  ],\n",
       "       [528.4039 ],\n",
       "       [337.3963 ],\n",
       "       [493.03723],\n",
       "       [410.4402 ],\n",
       "       [607.0769 ],\n",
       "       [346.75168],\n",
       "       [522.82086],\n",
       "       [404.95688],\n",
       "       [258.4754 ],\n",
       "       [520.2882 ],\n",
       "       [341.12256],\n",
       "       [362.22986],\n",
       "       [576.8825 ],\n",
       "       [416.96762],\n",
       "       [551.3843 ],\n",
       "       [521.451  ],\n",
       "       [511.07294],\n",
       "       [324.93045],\n",
       "       [404.37427],\n",
       "       [602.8448 ],\n",
       "       [618.3249 ],\n",
       "       [603.69385],\n",
       "       [566.7461 ],\n",
       "       [473.73395],\n",
       "       [460.6864 ],\n",
       "       [508.79236],\n",
       "       [446.2197 ],\n",
       "       [511.71033],\n",
       "       [502.70325],\n",
       "       [400.40128],\n",
       "       [605.99493],\n",
       "       [258.22986],\n",
       "       [628.7556 ],\n",
       "       [589.62994],\n",
       "       [327.33923],\n",
       "       [479.86197],\n",
       "       [595.81067],\n",
       "       [378.62952],\n",
       "       [460.46494],\n",
       "       [325.20203],\n",
       "       [519.0912 ],\n",
       "       [409.90836],\n",
       "       [556.67584],\n",
       "       [642.40826],\n",
       "       [537.2138 ],\n",
       "       [503.5509 ],\n",
       "       [635.5595 ],\n",
       "       [515.6267 ],\n",
       "       [532.0977 ],\n",
       "       [519.1805 ],\n",
       "       [457.758  ],\n",
       "       [506.21283],\n",
       "       [461.43024],\n",
       "       [592.189  ],\n",
       "       [466.22247],\n",
       "       [427.44165],\n",
       "       [541.97076],\n",
       "       [494.14508],\n",
       "       [680.15936],\n",
       "       [372.985  ],\n",
       "       [552.0235 ],\n",
       "       [578.4073 ],\n",
       "       [434.23132],\n",
       "       [543.4139 ],\n",
       "       [586.47516],\n",
       "       [579.71265],\n",
       "       [721.52625],\n",
       "       [432.99402],\n",
       "       [398.8559 ],\n",
       "       [314.17947],\n",
       "       [448.56967],\n",
       "       [388.3576 ],\n",
       "       [543.58954],\n",
       "       [523.1085 ],\n",
       "       [564.94904],\n",
       "       [448.3166 ],\n",
       "       [534.81177],\n",
       "       [382.02652],\n",
       "       [501.87836],\n",
       "       [637.58887],\n",
       "       [496.93396],\n",
       "       [568.8044 ],\n",
       "       [470.4193 ],\n",
       "       [273.46533],\n",
       "       [517.7211 ],\n",
       "       [621.87726],\n",
       "       [350.70844],\n",
       "       [450.71793],\n",
       "       [499.6283 ],\n",
       "       [543.3729 ],\n",
       "       [612.317  ],\n",
       "       [388.37988],\n",
       "       [449.66724],\n",
       "       [482.75897],\n",
       "       [598.76447],\n",
       "       [499.70538],\n",
       "       [321.62338],\n",
       "       [555.5568 ],\n",
       "       [444.9297 ],\n",
       "       [529.4038 ],\n",
       "       [515.62335],\n",
       "       [610.1196 ],\n",
       "       [417.23737],\n",
       "       [411.11395]], dtype=float32)"
      ]
     },
     "execution_count": 34,
     "metadata": {},
     "output_type": "execute_result"
    }
   ],
   "source": [
    "test_predictions #Here we see a list of prizes based on X_test set Numpy Array"
   ]
  },
  {
   "cell_type": "markdown",
   "id": "a32974cf",
   "metadata": {},
   "source": [
    "We can compare these values with the true values (y_test) by plotign them. For this we need to turn our numpy array (test_predictions) into a pandas series and creat a DataFrame with the y_test."
   ]
  },
  {
   "cell_type": "code",
   "execution_count": 35,
   "id": "800ec803",
   "metadata": {},
   "outputs": [],
   "source": [
    "test_predictions = pd.Series(test_predictions.reshape(300,))"
   ]
  },
  {
   "cell_type": "code",
   "execution_count": 37,
   "id": "2286c4de",
   "metadata": {},
   "outputs": [],
   "source": [
    "#test_predictions"
   ]
  },
  {
   "cell_type": "code",
   "execution_count": 39,
   "id": "e96ca259",
   "metadata": {},
   "outputs": [],
   "source": [
    "pred_df = pd.DataFrame(y_test, columns=['Test True y'])"
   ]
  },
  {
   "cell_type": "code",
   "execution_count": 40,
   "id": "e48da7e4",
   "metadata": {},
   "outputs": [],
   "source": [
    "pred_df = pd.concat([pred_df,test_predictions], axis=1)"
   ]
  },
  {
   "cell_type": "code",
   "execution_count": 42,
   "id": "1ffc6486",
   "metadata": {},
   "outputs": [],
   "source": [
    "pred_df.columns = ['Test True y', 'Model predictions']"
   ]
  },
  {
   "cell_type": "code",
   "execution_count": 44,
   "id": "21f4af17",
   "metadata": {},
   "outputs": [
    {
     "data": {
      "text/plain": [
       "<matplotlib.axes._subplots.AxesSubplot at 0x7f3dec0b7b20>"
      ]
     },
     "execution_count": 44,
     "metadata": {},
     "output_type": "execute_result"
    },
    {
     "data": {
      "image/png": "[encoded data removed]",
      "text/plain": [
       "<Figure size 432x288 with 1 Axes>"
      ]
     },
     "metadata": {
      "needs_background": "light"
     },
     "output_type": "display_data"
    }
   ],
   "source": [
    "sns.scatterplot(data=pred_df, x = 'Test True y', y='Model predictions')"
   ]
  },
  {
   "cell_type": "markdown",
   "id": "fa62d9c5",
   "metadata": {},
   "source": [
    "We observe that our model predcits quite well"
   ]
  },
  {
   "cell_type": "code",
   "execution_count": 45,
   "id": "2d5e41b0",
   "metadata": {},
   "outputs": [],
   "source": [
    "from sklearn.metrics import mean_absolute_error, mean_squared_error"
   ]
  },
  {
   "cell_type": "code",
   "execution_count": 46,
   "id": "55b795b4",
   "metadata": {},
   "outputs": [
    {
     "data": {
      "text/plain": [
       "4.024224912280176"
      ]
     },
     "execution_count": 46,
     "metadata": {},
     "output_type": "execute_result"
    }
   ],
   "source": [
    "mean_absolute_error(pred_df['Test True y'], pred_df['Model predictions'])"
   ]
  },
  {
   "cell_type": "markdown",
   "id": "bf8ceeac",
   "metadata": {},
   "source": [
    "Tiene sentido que el mse sea igual al obtenido al evaluar el model con .evaluate"
   ]
  },
  {
   "cell_type": "code",
   "execution_count": 47,
   "id": "10a4497b",
   "metadata": {},
   "outputs": [
    {
     "data": {
      "text/plain": [
       "25.151521690404806"
      ]
     },
     "execution_count": 47,
     "metadata": {},
     "output_type": "execute_result"
    }
   ],
   "source": [
    "mean_squared_error(pred_df['Test True y'], pred_df['Model predictions'])"
   ]
  },
  {
   "cell_type": "markdown",
   "id": "01788f42",
   "metadata": {},
   "source": [
    "Para obtener el root mean squared error, simplemente:"
   ]
  },
  {
   "cell_type": "code",
   "execution_count": 49,
   "id": "356e4ad5",
   "metadata": {},
   "outputs": [
    {
     "data": {
      "text/plain": [
       "5.015129279530569"
      ]
     },
     "execution_count": 49,
     "metadata": {},
     "output_type": "execute_result"
    }
   ],
   "source": [
    "mean_squared_error(pred_df['Test True y'], pred_df['Model predictions'])**0.5"
   ]
  },
  {
   "cell_type": "markdown",
   "id": "dbad1e3a",
   "metadata": {},
   "source": [
    "Para saber si es un buen error o no, lo comparamos con el valor medio del precio. Observamos que el valor medio es 498 y nuestro error absoluto es 4, es decir el 1%"
   ]
  },
  {
   "cell_type": "code",
   "execution_count": 48,
   "id": "095fc25b",
   "metadata": {},
   "outputs": [
    {
     "data": {
      "text/html": [
       "<div>\n",
       "<style scoped>\n",
       "    .dataframe tbody tr th:only-of-type {\n",
       "        vertical-align: middle;\n",
       "    }\n",
       "\n",
       "    .dataframe tbody tr th {\n",
       "        vertical-align: top;\n",
       "    }\n",
       "\n",
       "    .dataframe thead th {\n",
       "        text-align: right;\n",
       "    }\n",
       "</style>\n",
       "<table border=\"1\" class=\"dataframe\">\n",
       "  <thead>\n",
       "    <tr style=\"text-align: right;\">\n",
       "      <th></th>\n",
       "      <th>price</th>\n",
       "      <th>feature1</th>\n",
       "      <th>feature2</th>\n",
       "    </tr>\n",
       "  </thead>\n",
       "  <tbody>\n",
       "    <tr>\n",
       "      <th>count</th>\n",
       "      <td>1000.000000</td>\n",
       "      <td>1000.000000</td>\n",
       "      <td>1000.000000</td>\n",
       "    </tr>\n",
       "    <tr>\n",
       "      <th>mean</th>\n",
       "      <td>498.673029</td>\n",
       "      <td>1000.014171</td>\n",
       "      <td>999.979847</td>\n",
       "    </tr>\n",
       "    <tr>\n",
       "      <th>std</th>\n",
       "      <td>93.785431</td>\n",
       "      <td>0.974018</td>\n",
       "      <td>0.948330</td>\n",
       "    </tr>\n",
       "    <tr>\n",
       "      <th>min</th>\n",
       "      <td>223.346793</td>\n",
       "      <td>997.058347</td>\n",
       "      <td>996.995651</td>\n",
       "    </tr>\n",
       "    <tr>\n",
       "      <th>25%</th>\n",
       "      <td>433.025732</td>\n",
       "      <td>999.332068</td>\n",
       "      <td>999.316106</td>\n",
       "    </tr>\n",
       "    <tr>\n",
       "      <th>50%</th>\n",
       "      <td>502.382117</td>\n",
       "      <td>1000.009915</td>\n",
       "      <td>1000.002243</td>\n",
       "    </tr>\n",
       "    <tr>\n",
       "      <th>75%</th>\n",
       "      <td>564.921588</td>\n",
       "      <td>1000.637580</td>\n",
       "      <td>1000.645380</td>\n",
       "    </tr>\n",
       "    <tr>\n",
       "      <th>max</th>\n",
       "      <td>774.407854</td>\n",
       "      <td>1003.207934</td>\n",
       "      <td>1002.666308</td>\n",
       "    </tr>\n",
       "  </tbody>\n",
       "</table>\n",
       "</div>"
      ],
      "text/plain": [
       "             price     feature1     feature2\n",
       "count  1000.000000  1000.000000  1000.000000\n",
       "mean    498.673029  1000.014171   999.979847\n",
       "std      93.785431     0.974018     0.948330\n",
       "min     223.346793   997.058347   996.995651\n",
       "25%     433.025732   999.332068   999.316106\n",
       "50%     502.382117  1000.009915  1000.002243\n",
       "75%     564.921588  1000.637580  1000.645380\n",
       "max     774.407854  1003.207934  1002.666308"
      ]
     },
     "execution_count": 48,
     "metadata": {},
     "output_type": "execute_result"
    }
   ],
   "source": [
    "df.describe()"
   ]
  },
  {
   "cell_type": "markdown",
   "id": "52805f97",
   "metadata": {},
   "source": [
    "Vamos ver como funciona nuestro modelo con datos nuevos. Es decir, si quiero poner mi casa a la venta basándome en feature1 y feature2, y obtener un precio al que debería piner mi casa"
   ]
  },
  {
   "cell_type": "code",
   "execution_count": 50,
   "id": "b7a5184b",
   "metadata": {},
   "outputs": [],
   "source": [
    "new_gem = [[998,1000]]"
   ]
  },
  {
   "cell_type": "code",
   "execution_count": 52,
   "id": "2e783a16",
   "metadata": {},
   "outputs": [],
   "source": [
    "new_gem = scaler.transform(new_gem)"
   ]
  },
  {
   "cell_type": "code",
   "execution_count": 53,
   "id": "4328d11c",
   "metadata": {},
   "outputs": [
    {
     "name": "stdout",
     "output_type": "stream",
     "text": [
      "1/1 [==============================] - 0s 26ms/step\n"
     ]
    },
    {
     "data": {
      "text/plain": [
       "array([[419.90973]], dtype=float32)"
      ]
     },
     "execution_count": 53,
     "metadata": {},
     "output_type": "execute_result"
    }
   ],
   "source": [
    "model.predict(new_gem)"
   ]
  },
  {
   "cell_type": "code",
   "execution_count": null,
   "id": "aff1b35f",
   "metadata": {},
   "outputs": [],
   "source": []
  }
 ],
 "metadata": {
  "kernelspec": {
   "display_name": "Python 3 (ipykernel)",
   "language": "python",
   "name": "python3"
  },
  "language_info": {
   "codemirror_mode": {
    "name": "ipython",
    "version": 3
   },
   "file_extension": ".py",
   "mimetype": "text/x-python",
   "name": "python",
   "nbconvert_exporter": "python",
   "pygments_lexer": "ipython3",
   "version": "3.8.10"
  }
 },
 "nbformat": 4,
 "nbformat_minor": 5
}
