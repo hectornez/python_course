{
 "cells": [
  {
   "cell_type": "code",
   "execution_count": 1,
   "id": "2c94e77f",
   "metadata": {},
   "outputs": [],
   "source": [
    "import numpy as np\n",
    "#prueba"
   ]
  },
  {
   "cell_type": "code",
   "execution_count": 2,
   "id": "378779c6",
   "metadata": {},
   "outputs": [
    {
     "data": {
      "text/plain": [
       "array([[1, 2, 3],\n",
       "       [4, 5, 6],\n",
       "       [7, 8, 9]])"
      ]
     },
     "execution_count": 2,
     "metadata": {},
     "output_type": "execute_result"
    }
   ],
   "source": [
    "my_list = [1, 2, 3] \n",
    "#we create a list, which is deifferent from a tupple.\n",
    "arr = np.array(my_list)\n",
    "#we turn it into a numpy array\n",
    "my_matrice = [[1,2,3], [4,5,6], [7,8,9]]\n",
    "#we create a 2d list or a matrice\n",
    "np.array(my_matrice)\n",
    "#we turn it into a np 2d array\n",
    "#we can run this line of code with shift+enter. where shift is the upwards arrow \n",
    "#in the keyboard"
   ]
  },
  {
   "cell_type": "code",
   "execution_count": 7,
   "id": "d4a68502",
   "metadata": {},
   "outputs": [],
   "source": [
    "#for inserting a new cell alt+enter"
   ]
  },
  {
   "cell_type": "markdown",
   "id": "cfddfef2",
   "metadata": {},
   "source": [
    "For seeing the documentation of a function shift+tab"
   ]
  },
  {
   "cell_type": "markdown",
   "id": "98eeefea",
   "metadata": {},
   "source": [
    "##### Create an array using np.arrange(start, stop, step)"
   ]
  },
  {
   "cell_type": "code",
   "execution_count": 8,
   "id": "a217a0d3",
   "metadata": {},
   "outputs": [
    {
     "data": {
      "text/plain": [
       "array([0, 1, 2, 3, 4, 5, 6, 7, 8, 9])"
      ]
     },
     "execution_count": 8,
     "metadata": {},
     "output_type": "execute_result"
    }
   ],
   "source": [
    "np.arange(0, 10, 1,  dtype=None)#(start, stop, step)"
   ]
  },
  {
   "cell_type": "markdown",
   "id": "27583004",
   "metadata": {},
   "source": [
    "For generate an array of zeros"
   ]
  },
  {
   "cell_type": "code",
   "execution_count": 9,
   "id": "c3ad1654",
   "metadata": {},
   "outputs": [
    {
     "data": {
      "text/plain": [
       "array([[0., 0., 0.],\n",
       "       [0., 0., 0.]])"
      ]
     },
     "execution_count": 9,
     "metadata": {},
     "output_type": "execute_result"
    }
   ],
   "source": [
    "np.zeros((2,3)) #it creates a tupple of zeros 2 rows nd 3 cols"
   ]
  },
  {
   "cell_type": "code",
   "execution_count": 10,
   "id": "4b5da211",
   "metadata": {},
   "outputs": [
    {
     "data": {
      "text/plain": [
       "array([[1., 1., 1., 1.],\n",
       "       [1., 1., 1., 1.],\n",
       "       [1., 1., 1., 1.]])"
      ]
     },
     "execution_count": 10,
     "metadata": {},
     "output_type": "execute_result"
    }
   ],
   "source": [
    "np.ones((3,4))"
   ]
  },
  {
   "cell_type": "markdown",
   "id": "966a7956",
   "metadata": {},
   "source": [
    "LINSPACE generates an array evenly spaced. "
   ]
  },
  {
   "cell_type": "code",
   "execution_count": 11,
   "id": "92034aeb",
   "metadata": {},
   "outputs": [
    {
     "data": {
      "text/plain": [
       "array([ 0.        ,  0.40816327,  0.81632653,  1.2244898 ,  1.63265306,\n",
       "        2.04081633,  2.44897959,  2.85714286,  3.26530612,  3.67346939,\n",
       "        4.08163265,  4.48979592,  4.89795918,  5.30612245,  5.71428571,\n",
       "        6.12244898,  6.53061224,  6.93877551,  7.34693878,  7.75510204,\n",
       "        8.16326531,  8.57142857,  8.97959184,  9.3877551 ,  9.79591837,\n",
       "       10.20408163, 10.6122449 , 11.02040816, 11.42857143, 11.83673469,\n",
       "       12.24489796, 12.65306122, 13.06122449, 13.46938776, 13.87755102,\n",
       "       14.28571429, 14.69387755, 15.10204082, 15.51020408, 15.91836735,\n",
       "       16.32653061, 16.73469388, 17.14285714, 17.55102041, 17.95918367,\n",
       "       18.36734694, 18.7755102 , 19.18367347, 19.59183673, 20.        ])"
      ]
     },
     "execution_count": 11,
     "metadata": {},
     "output_type": "execute_result"
    }
   ],
   "source": [
    "np.linspace(0, 20, 50) # (start, stop, number of points)"
   ]
  },
  {
   "cell_type": "markdown",
   "id": "10a80d9b",
   "metadata": {},
   "source": [
    "GENERATE an identity matrice"
   ]
  },
  {
   "cell_type": "code",
   "execution_count": 12,
   "id": "59b60e29",
   "metadata": {},
   "outputs": [
    {
     "data": {
      "text/plain": [
       "array([[1., 0., 0., 0., 0.],\n",
       "       [0., 1., 0., 0., 0.],\n",
       "       [0., 0., 1., 0., 0.],\n",
       "       [0., 0., 0., 1., 0.],\n",
       "       [0., 0., 0., 0., 1.]])"
      ]
     },
     "execution_count": 12,
     "metadata": {},
     "output_type": "execute_result"
    }
   ],
   "source": [
    "np.eye(5)"
   ]
  },
  {
   "cell_type": "markdown",
   "id": "a6c0445c",
   "metadata": {},
   "source": [
    "Create matrices populated by random numbers"
   ]
  },
  {
   "cell_type": "code",
   "execution_count": 13,
   "id": "3c84d17c",
   "metadata": {},
   "outputs": [
    {
     "data": {
      "text/plain": [
       "array([[0.13265446, 0.15460302, 0.1766952 , 0.82320176, 0.41425657],\n",
       "       [0.14631959, 0.79108204, 0.58336076, 0.71131309, 0.29132122],\n",
       "       [0.00451905, 0.12061771, 0.00876709, 0.09326393, 0.64175113],\n",
       "       [0.9709076 , 0.31105124, 0.51209965, 0.38676135, 0.83070787],\n",
       "       [0.37185289, 0.31056624, 0.9192465 , 0.56540854, 0.68075195]])"
      ]
     },
     "execution_count": 13,
     "metadata": {},
     "output_type": "execute_result"
    }
   ],
   "source": [
    "np.random.rand(5,5)#generates a matrice with random numbers between 0 and 1"
   ]
  },
  {
   "cell_type": "code",
   "execution_count": 14,
   "id": "c4c4586a",
   "metadata": {},
   "outputs": [
    {
     "data": {
      "text/plain": [
       "array([ 0.72718502, -2.59108511,  1.35056403, -1.02067948,  2.14967237,\n",
       "       -0.89068207])"
      ]
     },
     "execution_count": 14,
     "metadata": {},
     "output_type": "execute_result"
    }
   ],
   "source": [
    "np.random.randn(6)#generates a 1D array which is a normal or \n",
    "                    # gaussian distribution centered in 0"
   ]
  },
  {
   "cell_type": "code",
   "execution_count": 15,
   "id": "665ea78e",
   "metadata": {},
   "outputs": [
    {
     "data": {
      "text/plain": [
       "array([[-0.27535422, -0.18395404, -0.90513377, -0.04524735],\n",
       "       [-0.93184569,  1.5355849 ,  0.4073529 ,  1.33117089],\n",
       "       [ 0.30762833, -1.69615624, -1.52599369,  0.23304436],\n",
       "       [-3.07527717,  0.3726558 , -0.54074039,  0.57983254]])"
      ]
     },
     "execution_count": 15,
     "metadata": {},
     "output_type": "execute_result"
    }
   ],
   "source": [
    "np.random.randn(4,4)"
   ]
  },
  {
   "cell_type": "code",
   "execution_count": 16,
   "id": "5c6a06c2",
   "metadata": {},
   "outputs": [
    {
     "data": {
      "text/plain": [
       "array([30, 16,  5, 10, 96, 37, 60, 64, 47, 44])"
      ]
     },
     "execution_count": 16,
     "metadata": {},
     "output_type": "execute_result"
    }
   ],
   "source": [
    "np.random.randint(0, 100, 10) #(min value, max value, number of values to return)"
   ]
  },
  {
   "cell_type": "markdown",
   "id": "1c93d6b2",
   "metadata": {},
   "source": [
    "Reshape for changing the arrays shape"
   ]
  },
  {
   "cell_type": "code",
   "execution_count": 17,
   "id": "8d4263d5",
   "metadata": {},
   "outputs": [],
   "source": [
    "arr = np.random.randint(0, 100, 25)"
   ]
  },
  {
   "cell_type": "code",
   "execution_count": 18,
   "id": "267b5a1a",
   "metadata": {},
   "outputs": [],
   "source": [
    "arr=arr.reshape(5, 5)"
   ]
  },
  {
   "cell_type": "code",
   "execution_count": 19,
   "id": "804a462d",
   "metadata": {},
   "outputs": [
    {
     "name": "stdout",
     "output_type": "stream",
     "text": [
      "[[46 82 95 75 39]\n",
      " [20 47 40 61 64]\n",
      " [17  3 54 85  6]\n",
      " [71 80  9 95 53]\n",
      " [31  0 44 91 51]]\n"
     ]
    }
   ],
   "source": [
    "print(arr)"
   ]
  },
  {
   "cell_type": "code",
   "execution_count": 20,
   "id": "50d9ea8a",
   "metadata": {},
   "outputs": [
    {
     "data": {
      "text/plain": [
       "95"
      ]
     },
     "execution_count": 20,
     "metadata": {},
     "output_type": "execute_result"
    }
   ],
   "source": [
    "arr.max()#returns the max value"
   ]
  },
  {
   "cell_type": "code",
   "execution_count": 21,
   "id": "1609a2b4",
   "metadata": {},
   "outputs": [
    {
     "data": {
      "text/plain": [
       "2"
      ]
     },
     "execution_count": 21,
     "metadata": {},
     "output_type": "execute_result"
    }
   ],
   "source": [
    "arr.argmax()#reutrns the location of the max value"
   ]
  },
  {
   "cell_type": "code",
   "execution_count": 22,
   "id": "adfe7ef2",
   "metadata": {},
   "outputs": [
    {
     "data": {
      "text/plain": [
       "(5, 5)"
      ]
     },
     "execution_count": 22,
     "metadata": {},
     "output_type": "execute_result"
    }
   ],
   "source": [
    "arr.shape"
   ]
  },
  {
   "cell_type": "code",
   "execution_count": 23,
   "id": "56c48b3f",
   "metadata": {},
   "outputs": [
    {
     "data": {
      "text/plain": [
       "2"
      ]
     },
     "execution_count": 23,
     "metadata": {},
     "output_type": "execute_result"
    }
   ],
   "source": [
    "arr.argmax()"
   ]
  },
  {
   "cell_type": "code",
   "execution_count": 24,
   "id": "48fb0f47",
   "metadata": {},
   "outputs": [
    {
     "data": {
      "text/plain": [
       "dtype('int64')"
      ]
     },
     "execution_count": 24,
     "metadata": {},
     "output_type": "execute_result"
    }
   ],
   "source": [
    "arr.dtype"
   ]
  },
  {
   "cell_type": "markdown",
   "id": "762fb53b",
   "metadata": {},
   "source": [
    "INDEXING and SELECTION in np arrays"
   ]
  },
  {
   "cell_type": "code",
   "execution_count": 25,
   "id": "a45baa7d",
   "metadata": {},
   "outputs": [
    {
     "data": {
      "text/plain": [
       "51"
      ]
     },
     "execution_count": 25,
     "metadata": {},
     "output_type": "execute_result"
    }
   ],
   "source": [
    "arr[4,4] #since a numpy array begins in 0, we selected the item of the 4th row and 4th col"
   ]
  },
  {
   "cell_type": "code",
   "execution_count": 26,
   "id": "a5dd84eb",
   "metadata": {},
   "outputs": [
    {
     "data": {
      "text/plain": [
       "array([31,  0, 44, 91])"
      ]
     },
     "execution_count": 26,
     "metadata": {},
     "output_type": "execute_result"
    }
   ],
   "source": [
    "arr[4, 0:4] #we selected the 4th row and the cols from 0 to 4"
   ]
  },
  {
   "cell_type": "code",
   "execution_count": 27,
   "id": "b94e229d",
   "metadata": {},
   "outputs": [],
   "source": [
    "arr_copy = arr.copy() #we make a copy of the original array. Then we can make \n",
    "                        ## changes in the copy missaffecting the original one"
   ]
  }
 ],
 "metadata": {
  "kernelspec": {
   "display_name": "Python 3 (ipykernel)",
   "language": "python",
   "name": "python3"
  },
  "language_info": {
   "codemirror_mode": {
    "name": "ipython",
    "version": 3
   },
   "file_extension": ".py",
   "mimetype": "text/x-python",
   "name": "python",
   "nbconvert_exporter": "python",
   "pygments_lexer": "ipython3",
   "version": "3.8.10"
  }
 },
 "nbformat": 4,
 "nbformat_minor": 5
}
