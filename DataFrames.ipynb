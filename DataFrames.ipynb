{
 "cells": [
  {
   "cell_type": "code",
   "execution_count": 1,
   "id": "521504f8",
   "metadata": {},
   "outputs": [],
   "source": [
    "import numpy as np\n",
    "import pandas as pd"
   ]
  },
  {
   "cell_type": "code",
   "execution_count": 2,
   "id": "011b32bb",
   "metadata": {},
   "outputs": [],
   "source": [
    "#we recall that np.random.randn() returns a np array of random values according to a normal distribution \n",
    "# centered in 0\n",
    "\n",
    "##For create a DataFrame(data, index, columns)   It's alike pandas Series but we need another input : columns\n",
    "\n",
    "df=pd.DataFrame(np.random.randn(5,4), ['A','B','C','D','E'], ['W','X','Y','Z'])"
   ]
  },
  {
   "cell_type": "code",
   "execution_count": 3,
   "id": "eb144e2f",
   "metadata": {},
   "outputs": [
    {
     "data": {
      "text/html": [
       "<div>\n",
       "<style scoped>\n",
       "    .dataframe tbody tr th:only-of-type {\n",
       "        vertical-align: middle;\n",
       "    }\n",
       "\n",
       "    .dataframe tbody tr th {\n",
       "        vertical-align: top;\n",
       "    }\n",
       "\n",
       "    .dataframe thead th {\n",
       "        text-align: right;\n",
       "    }\n",
       "</style>\n",
       "<table border=\"1\" class=\"dataframe\">\n",
       "  <thead>\n",
       "    <tr style=\"text-align: right;\">\n",
       "      <th></th>\n",
       "      <th>W</th>\n",
       "      <th>X</th>\n",
       "      <th>Y</th>\n",
       "      <th>Z</th>\n",
       "    </tr>\n",
       "  </thead>\n",
       "  <tbody>\n",
       "    <tr>\n",
       "      <th>A</th>\n",
       "      <td>2.592859</td>\n",
       "      <td>-0.106939</td>\n",
       "      <td>-1.058537</td>\n",
       "      <td>0.194067</td>\n",
       "    </tr>\n",
       "    <tr>\n",
       "      <th>B</th>\n",
       "      <td>-0.712646</td>\n",
       "      <td>-0.418643</td>\n",
       "      <td>-0.465172</td>\n",
       "      <td>-1.048562</td>\n",
       "    </tr>\n",
       "    <tr>\n",
       "      <th>C</th>\n",
       "      <td>0.281063</td>\n",
       "      <td>0.683727</td>\n",
       "      <td>-1.255078</td>\n",
       "      <td>1.534579</td>\n",
       "    </tr>\n",
       "    <tr>\n",
       "      <th>D</th>\n",
       "      <td>-0.039519</td>\n",
       "      <td>-0.288083</td>\n",
       "      <td>0.375636</td>\n",
       "      <td>2.264958</td>\n",
       "    </tr>\n",
       "    <tr>\n",
       "      <th>E</th>\n",
       "      <td>0.573924</td>\n",
       "      <td>1.218650</td>\n",
       "      <td>0.982996</td>\n",
       "      <td>1.082211</td>\n",
       "    </tr>\n",
       "  </tbody>\n",
       "</table>\n",
       "</div>"
      ],
      "text/plain": [
       "          W         X         Y         Z\n",
       "A  2.592859 -0.106939 -1.058537  0.194067\n",
       "B -0.712646 -0.418643 -0.465172 -1.048562\n",
       "C  0.281063  0.683727 -1.255078  1.534579\n",
       "D -0.039519 -0.288083  0.375636  2.264958\n",
       "E  0.573924  1.218650  0.982996  1.082211"
      ]
     },
     "execution_count": 3,
     "metadata": {},
     "output_type": "execute_result"
    }
   ],
   "source": [
    "df ## Essentially, here  we have 4 pandas Series such as W,X,Y,Z"
   ]
  },
  {
   "cell_type": "code",
   "execution_count": 4,
   "id": "0d861c31",
   "metadata": {},
   "outputs": [
    {
     "data": {
      "text/plain": [
       "A   -0.106939\n",
       "B   -0.418643\n",
       "C    0.683727\n",
       "D   -0.288083\n",
       "E    1.218650\n",
       "Name: X, dtype: float64"
      ]
     },
     "execution_count": 4,
     "metadata": {},
     "output_type": "execute_result"
    }
   ],
   "source": [
    " ### Due to a DataFrame is essentially a bulk of series which share index, we can easily print them out by\n",
    "df['X']    \n",
    "    "
   ]
  },
  {
   "cell_type": "code",
   "execution_count": 5,
   "id": "f0bc9358",
   "metadata": {},
   "outputs": [
    {
     "data": {
      "text/plain": [
       "-0.4186430639853424"
      ]
     },
     "execution_count": 5,
     "metadata": {},
     "output_type": "execute_result"
    }
   ],
   "source": [
    "df['X']['B']"
   ]
  },
  {
   "cell_type": "code",
   "execution_count": 9,
   "id": "2b4d1208",
   "metadata": {},
   "outputs": [
    {
     "data": {
      "text/html": [
       "<div>\n",
       "<style scoped>\n",
       "    .dataframe tbody tr th:only-of-type {\n",
       "        vertical-align: middle;\n",
       "    }\n",
       "\n",
       "    .dataframe tbody tr th {\n",
       "        vertical-align: top;\n",
       "    }\n",
       "\n",
       "    .dataframe thead th {\n",
       "        text-align: right;\n",
       "    }\n",
       "</style>\n",
       "<table border=\"1\" class=\"dataframe\">\n",
       "  <thead>\n",
       "    <tr style=\"text-align: right;\">\n",
       "      <th></th>\n",
       "      <th>W</th>\n",
       "      <th>X</th>\n",
       "    </tr>\n",
       "  </thead>\n",
       "  <tbody>\n",
       "    <tr>\n",
       "      <th>A</th>\n",
       "      <td>0.539577</td>\n",
       "      <td>-0.061769</td>\n",
       "    </tr>\n",
       "    <tr>\n",
       "      <th>B</th>\n",
       "      <td>-1.379644</td>\n",
       "      <td>-0.136712</td>\n",
       "    </tr>\n",
       "    <tr>\n",
       "      <th>C</th>\n",
       "      <td>-0.678340</td>\n",
       "      <td>-0.258501</td>\n",
       "    </tr>\n",
       "    <tr>\n",
       "      <th>D</th>\n",
       "      <td>-0.123127</td>\n",
       "      <td>-0.274421</td>\n",
       "    </tr>\n",
       "    <tr>\n",
       "      <th>E</th>\n",
       "      <td>-0.866614</td>\n",
       "      <td>0.495735</td>\n",
       "    </tr>\n",
       "  </tbody>\n",
       "</table>\n",
       "</div>"
      ],
      "text/plain": [
       "          W         X\n",
       "A  0.539577 -0.061769\n",
       "B -1.379644 -0.136712\n",
       "C -0.678340 -0.258501\n",
       "D -0.123127 -0.274421\n",
       "E -0.866614  0.495735"
      ]
     },
     "execution_count": 9,
     "metadata": {},
     "output_type": "execute_result"
    }
   ],
   "source": [
    "df[['W','X']] # for getting values of 2 or more cols"
   ]
  },
  {
   "cell_type": "code",
   "execution_count": 10,
   "id": "4384af5a",
   "metadata": {},
   "outputs": [],
   "source": [
    "### We can create a new Series adding two the ones already existed\n",
    "\n",
    "df['new'] = df['X']+df['Y']"
   ]
  },
  {
   "cell_type": "code",
   "execution_count": 11,
   "id": "a6ef48f7",
   "metadata": {},
   "outputs": [
    {
     "data": {
      "text/html": [
       "<div>\n",
       "<style scoped>\n",
       "    .dataframe tbody tr th:only-of-type {\n",
       "        vertical-align: middle;\n",
       "    }\n",
       "\n",
       "    .dataframe tbody tr th {\n",
       "        vertical-align: top;\n",
       "    }\n",
       "\n",
       "    .dataframe thead th {\n",
       "        text-align: right;\n",
       "    }\n",
       "</style>\n",
       "<table border=\"1\" class=\"dataframe\">\n",
       "  <thead>\n",
       "    <tr style=\"text-align: right;\">\n",
       "      <th></th>\n",
       "      <th>W</th>\n",
       "      <th>X</th>\n",
       "      <th>Y</th>\n",
       "      <th>Z</th>\n",
       "      <th>new</th>\n",
       "    </tr>\n",
       "  </thead>\n",
       "  <tbody>\n",
       "    <tr>\n",
       "      <th>A</th>\n",
       "      <td>0.539577</td>\n",
       "      <td>-0.061769</td>\n",
       "      <td>-0.429299</td>\n",
       "      <td>0.307239</td>\n",
       "      <td>-0.491068</td>\n",
       "    </tr>\n",
       "    <tr>\n",
       "      <th>B</th>\n",
       "      <td>-1.379644</td>\n",
       "      <td>-0.136712</td>\n",
       "      <td>0.449127</td>\n",
       "      <td>-0.112594</td>\n",
       "      <td>0.312416</td>\n",
       "    </tr>\n",
       "    <tr>\n",
       "      <th>C</th>\n",
       "      <td>-0.678340</td>\n",
       "      <td>-0.258501</td>\n",
       "      <td>1.310774</td>\n",
       "      <td>-1.660374</td>\n",
       "      <td>1.052273</td>\n",
       "    </tr>\n",
       "    <tr>\n",
       "      <th>D</th>\n",
       "      <td>-0.123127</td>\n",
       "      <td>-0.274421</td>\n",
       "      <td>0.221215</td>\n",
       "      <td>1.104163</td>\n",
       "      <td>-0.053206</td>\n",
       "    </tr>\n",
       "    <tr>\n",
       "      <th>E</th>\n",
       "      <td>-0.866614</td>\n",
       "      <td>0.495735</td>\n",
       "      <td>-0.234488</td>\n",
       "      <td>-1.223894</td>\n",
       "      <td>0.261247</td>\n",
       "    </tr>\n",
       "  </tbody>\n",
       "</table>\n",
       "</div>"
      ],
      "text/plain": [
       "          W         X         Y         Z       new\n",
       "A  0.539577 -0.061769 -0.429299  0.307239 -0.491068\n",
       "B -1.379644 -0.136712  0.449127 -0.112594  0.312416\n",
       "C -0.678340 -0.258501  1.310774 -1.660374  1.052273\n",
       "D -0.123127 -0.274421  0.221215  1.104163 -0.053206\n",
       "E -0.866614  0.495735 -0.234488 -1.223894  0.261247"
      ]
     },
     "execution_count": 11,
     "metadata": {},
     "output_type": "execute_result"
    }
   ],
   "source": [
    "df"
   ]
  },
  {
   "cell_type": "code",
   "execution_count": 13,
   "id": "40356891",
   "metadata": {},
   "outputs": [
    {
     "data": {
      "text/html": [
       "<div>\n",
       "<style scoped>\n",
       "    .dataframe tbody tr th:only-of-type {\n",
       "        vertical-align: middle;\n",
       "    }\n",
       "\n",
       "    .dataframe tbody tr th {\n",
       "        vertical-align: top;\n",
       "    }\n",
       "\n",
       "    .dataframe thead th {\n",
       "        text-align: right;\n",
       "    }\n",
       "</style>\n",
       "<table border=\"1\" class=\"dataframe\">\n",
       "  <thead>\n",
       "    <tr style=\"text-align: right;\">\n",
       "      <th></th>\n",
       "      <th>W</th>\n",
       "      <th>X</th>\n",
       "      <th>Y</th>\n",
       "      <th>Z</th>\n",
       "    </tr>\n",
       "  </thead>\n",
       "  <tbody>\n",
       "    <tr>\n",
       "      <th>A</th>\n",
       "      <td>0.539577</td>\n",
       "      <td>-0.061769</td>\n",
       "      <td>-0.429299</td>\n",
       "      <td>0.307239</td>\n",
       "    </tr>\n",
       "    <tr>\n",
       "      <th>B</th>\n",
       "      <td>-1.379644</td>\n",
       "      <td>-0.136712</td>\n",
       "      <td>0.449127</td>\n",
       "      <td>-0.112594</td>\n",
       "    </tr>\n",
       "    <tr>\n",
       "      <th>C</th>\n",
       "      <td>-0.678340</td>\n",
       "      <td>-0.258501</td>\n",
       "      <td>1.310774</td>\n",
       "      <td>-1.660374</td>\n",
       "    </tr>\n",
       "    <tr>\n",
       "      <th>D</th>\n",
       "      <td>-0.123127</td>\n",
       "      <td>-0.274421</td>\n",
       "      <td>0.221215</td>\n",
       "      <td>1.104163</td>\n",
       "    </tr>\n",
       "    <tr>\n",
       "      <th>E</th>\n",
       "      <td>-0.866614</td>\n",
       "      <td>0.495735</td>\n",
       "      <td>-0.234488</td>\n",
       "      <td>-1.223894</td>\n",
       "    </tr>\n",
       "  </tbody>\n",
       "</table>\n",
       "</div>"
      ],
      "text/plain": [
       "          W         X         Y         Z\n",
       "A  0.539577 -0.061769 -0.429299  0.307239\n",
       "B -1.379644 -0.136712  0.449127 -0.112594\n",
       "C -0.678340 -0.258501  1.310774 -1.660374\n",
       "D -0.123127 -0.274421  0.221215  1.104163\n",
       "E -0.866614  0.495735 -0.234488 -1.223894"
      ]
     },
     "execution_count": 13,
     "metadata": {},
     "output_type": "execute_result"
    }
   ],
   "source": [
    " #### For removing columns(wich means a Series) we use     .drop('new', axis= default 0, inplace = default False)\n",
    "    ### Recalling axis refers to:\n",
    "                                    # 0 = index or y axis\n",
    "                                    # 1 = cols or x axis\n",
    "    ### Recalling inplace refers to:\n",
    "                                    # True means the DataFrame u r working with will be changed\n",
    "                                    # False means the DataFrame u r working with will NOT be changed\n",
    "                                    ### So if we put False or we leave it by default this will not remove\n",
    "                                        # any column or index\n",
    "                \n",
    "                \n",
    "df.drop('new', axis=1)    "
   ]
  },
  {
   "cell_type": "code",
   "execution_count": 15,
   "id": "424dce15",
   "metadata": {},
   "outputs": [
    {
     "data": {
      "text/html": [
       "<div>\n",
       "<style scoped>\n",
       "    .dataframe tbody tr th:only-of-type {\n",
       "        vertical-align: middle;\n",
       "    }\n",
       "\n",
       "    .dataframe tbody tr th {\n",
       "        vertical-align: top;\n",
       "    }\n",
       "\n",
       "    .dataframe thead th {\n",
       "        text-align: right;\n",
       "    }\n",
       "</style>\n",
       "<table border=\"1\" class=\"dataframe\">\n",
       "  <thead>\n",
       "    <tr style=\"text-align: right;\">\n",
       "      <th></th>\n",
       "      <th>W</th>\n",
       "      <th>X</th>\n",
       "      <th>Y</th>\n",
       "      <th>Z</th>\n",
       "      <th>new</th>\n",
       "    </tr>\n",
       "  </thead>\n",
       "  <tbody>\n",
       "    <tr>\n",
       "      <th>A</th>\n",
       "      <td>0.539577</td>\n",
       "      <td>-0.061769</td>\n",
       "      <td>-0.429299</td>\n",
       "      <td>0.307239</td>\n",
       "      <td>-0.491068</td>\n",
       "    </tr>\n",
       "    <tr>\n",
       "      <th>B</th>\n",
       "      <td>-1.379644</td>\n",
       "      <td>-0.136712</td>\n",
       "      <td>0.449127</td>\n",
       "      <td>-0.112594</td>\n",
       "      <td>0.312416</td>\n",
       "    </tr>\n",
       "    <tr>\n",
       "      <th>C</th>\n",
       "      <td>-0.678340</td>\n",
       "      <td>-0.258501</td>\n",
       "      <td>1.310774</td>\n",
       "      <td>-1.660374</td>\n",
       "      <td>1.052273</td>\n",
       "    </tr>\n",
       "    <tr>\n",
       "      <th>D</th>\n",
       "      <td>-0.123127</td>\n",
       "      <td>-0.274421</td>\n",
       "      <td>0.221215</td>\n",
       "      <td>1.104163</td>\n",
       "      <td>-0.053206</td>\n",
       "    </tr>\n",
       "    <tr>\n",
       "      <th>E</th>\n",
       "      <td>-0.866614</td>\n",
       "      <td>0.495735</td>\n",
       "      <td>-0.234488</td>\n",
       "      <td>-1.223894</td>\n",
       "      <td>0.261247</td>\n",
       "    </tr>\n",
       "  </tbody>\n",
       "</table>\n",
       "</div>"
      ],
      "text/plain": [
       "          W         X         Y         Z       new\n",
       "A  0.539577 -0.061769 -0.429299  0.307239 -0.491068\n",
       "B -1.379644 -0.136712  0.449127 -0.112594  0.312416\n",
       "C -0.678340 -0.258501  1.310774 -1.660374  1.052273\n",
       "D -0.123127 -0.274421  0.221215  1.104163 -0.053206\n",
       "E -0.866614  0.495735 -0.234488 -1.223894  0.261247"
      ]
     },
     "execution_count": 15,
     "metadata": {},
     "output_type": "execute_result"
    }
   ],
   "source": [
    "df               #### We check that 'new' was not actually removed, because we didnt told inplace=True to pyhton"
   ]
  },
  {
   "cell_type": "code",
   "execution_count": 16,
   "id": "10736499",
   "metadata": {},
   "outputs": [],
   "source": [
    "df.drop('new', axis=1, inplace=True)"
   ]
  },
  {
   "cell_type": "code",
   "execution_count": 17,
   "id": "4e02f3cd",
   "metadata": {},
   "outputs": [
    {
     "data": {
      "text/html": [
       "<div>\n",
       "<style scoped>\n",
       "    .dataframe tbody tr th:only-of-type {\n",
       "        vertical-align: middle;\n",
       "    }\n",
       "\n",
       "    .dataframe tbody tr th {\n",
       "        vertical-align: top;\n",
       "    }\n",
       "\n",
       "    .dataframe thead th {\n",
       "        text-align: right;\n",
       "    }\n",
       "</style>\n",
       "<table border=\"1\" class=\"dataframe\">\n",
       "  <thead>\n",
       "    <tr style=\"text-align: right;\">\n",
       "      <th></th>\n",
       "      <th>W</th>\n",
       "      <th>X</th>\n",
       "      <th>Y</th>\n",
       "      <th>Z</th>\n",
       "    </tr>\n",
       "  </thead>\n",
       "  <tbody>\n",
       "    <tr>\n",
       "      <th>A</th>\n",
       "      <td>0.539577</td>\n",
       "      <td>-0.061769</td>\n",
       "      <td>-0.429299</td>\n",
       "      <td>0.307239</td>\n",
       "    </tr>\n",
       "    <tr>\n",
       "      <th>B</th>\n",
       "      <td>-1.379644</td>\n",
       "      <td>-0.136712</td>\n",
       "      <td>0.449127</td>\n",
       "      <td>-0.112594</td>\n",
       "    </tr>\n",
       "    <tr>\n",
       "      <th>C</th>\n",
       "      <td>-0.678340</td>\n",
       "      <td>-0.258501</td>\n",
       "      <td>1.310774</td>\n",
       "      <td>-1.660374</td>\n",
       "    </tr>\n",
       "    <tr>\n",
       "      <th>D</th>\n",
       "      <td>-0.123127</td>\n",
       "      <td>-0.274421</td>\n",
       "      <td>0.221215</td>\n",
       "      <td>1.104163</td>\n",
       "    </tr>\n",
       "    <tr>\n",
       "      <th>E</th>\n",
       "      <td>-0.866614</td>\n",
       "      <td>0.495735</td>\n",
       "      <td>-0.234488</td>\n",
       "      <td>-1.223894</td>\n",
       "    </tr>\n",
       "  </tbody>\n",
       "</table>\n",
       "</div>"
      ],
      "text/plain": [
       "          W         X         Y         Z\n",
       "A  0.539577 -0.061769 -0.429299  0.307239\n",
       "B -1.379644 -0.136712  0.449127 -0.112594\n",
       "C -0.678340 -0.258501  1.310774 -1.660374\n",
       "D -0.123127 -0.274421  0.221215  1.104163\n",
       "E -0.866614  0.495735 -0.234488 -1.223894"
      ]
     },
     "execution_count": 17,
     "metadata": {},
     "output_type": "execute_result"
    }
   ],
   "source": [
    "df"
   ]
  },
  {
   "cell_type": "code",
   "execution_count": 18,
   "id": "8271bf75",
   "metadata": {},
   "outputs": [
    {
     "data": {
      "text/plain": [
       "W   -0.678340\n",
       "X   -0.258501\n",
       "Y    1.310774\n",
       "Z   -1.660374\n",
       "Name: C, dtype: float64"
      ]
     },
     "execution_count": 18,
     "metadata": {},
     "output_type": "execute_result"
    }
   ],
   "source": [
    "# For working with ROWS we need to use .loc['']\n",
    "df.loc['C']    ## This is a pd.Series as the cols are"
   ]
  },
  {
   "cell_type": "code",
   "execution_count": 19,
   "id": "294e1074",
   "metadata": {},
   "outputs": [
    {
     "data": {
      "text/plain": [
       "W   -0.678340\n",
       "X   -0.258501\n",
       "Y    1.310774\n",
       "Z   -1.660374\n",
       "Name: C, dtype: float64"
      ]
     },
     "execution_count": 19,
     "metadata": {},
     "output_type": "execute_result"
    }
   ],
   "source": [
    "## Another way to grab ROWS is using .iloc[index of the row]. index of the row means the real location by counting\n",
    "\n",
    "df.iloc[2]  #we know that row 'A' is actually the 0, row 'B' is the numbre 1, row 'C' is the number 2\n",
    "\n",
    "\n"
   ]
  },
  {
   "cell_type": "code",
   "execution_count": 20,
   "id": "07c10301",
   "metadata": {},
   "outputs": [
    {
     "data": {
      "text/plain": [
       "0.5395768208270075"
      ]
     },
     "execution_count": 20,
     "metadata": {},
     "output_type": "execute_result"
    }
   ],
   "source": [
    "#### We can get a certain value by selecting with .loc\n",
    "\n",
    "df.loc['A','W']"
   ]
  },
  {
   "cell_type": "code",
   "execution_count": 21,
   "id": "c765cec3",
   "metadata": {},
   "outputs": [
    {
     "data": {
      "text/html": [
       "<div>\n",
       "<style scoped>\n",
       "    .dataframe tbody tr th:only-of-type {\n",
       "        vertical-align: middle;\n",
       "    }\n",
       "\n",
       "    .dataframe tbody tr th {\n",
       "        vertical-align: top;\n",
       "    }\n",
       "\n",
       "    .dataframe thead th {\n",
       "        text-align: right;\n",
       "    }\n",
       "</style>\n",
       "<table border=\"1\" class=\"dataframe\">\n",
       "  <thead>\n",
       "    <tr style=\"text-align: right;\">\n",
       "      <th></th>\n",
       "      <th>W</th>\n",
       "      <th>Y</th>\n",
       "    </tr>\n",
       "  </thead>\n",
       "  <tbody>\n",
       "    <tr>\n",
       "      <th>A</th>\n",
       "      <td>0.539577</td>\n",
       "      <td>-0.429299</td>\n",
       "    </tr>\n",
       "    <tr>\n",
       "      <th>B</th>\n",
       "      <td>-1.379644</td>\n",
       "      <td>0.449127</td>\n",
       "    </tr>\n",
       "  </tbody>\n",
       "</table>\n",
       "</div>"
      ],
      "text/plain": [
       "          W         Y\n",
       "A  0.539577 -0.429299\n",
       "B -1.379644  0.449127"
      ]
     },
     "execution_count": 21,
     "metadata": {},
     "output_type": "execute_result"
    }
   ],
   "source": [
    "df.loc[['A','B'] , ['W','Y']]"
   ]
  },
  {
   "cell_type": "code",
   "execution_count": null,
   "id": "a96c6267",
   "metadata": {},
   "outputs": [],
   "source": []
  }
 ],
 "metadata": {
  "kernelspec": {
   "display_name": "Python 3 (ipykernel)",
   "language": "python",
   "name": "python3"
  },
  "language_info": {
   "codemirror_mode": {
    "name": "ipython",
    "version": 3
   },
   "file_extension": ".py",
   "mimetype": "text/x-python",
   "name": "python",
   "nbconvert_exporter": "python",
   "pygments_lexer": "ipython3",
   "version": "3.8.10"
  }
 },
 "nbformat": 4,
 "nbformat_minor": 5
}
